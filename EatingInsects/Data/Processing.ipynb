{
 "cells": [
  {
   "cell_type": "code",
   "metadata": {
    "tags": [],
    "cell_id": "4155fd0f-f8a6-49fe-b5b4-f0f7d8051c14",
    "deepnote_to_be_reexecuted": false,
    "source_hash": "7665052e",
    "execution_start": 1669917117373,
    "execution_millis": 0,
    "deepnote_cell_type": "code",
    "deepnote_cell_height": 184
   },
   "source": "import pandas as pd\nimport numpy as np\nimport matplotlib.pyplot as plt\nimport requests\nimport json\nimport xmltodict\nfrom IPython.display import clear_output",
   "outputs": [],
   "execution_count": null
  },
  {
   "cell_type": "markdown",
   "source": "## Data Import",
   "metadata": {
    "formattedRanges": [],
    "is_collapsed": false,
    "cell_id": "1b7a17d40d984a25907a82f68dcb7448",
    "tags": [],
    "deepnote_cell_type": "text-cell-h2"
   }
  },
  {
   "cell_type": "markdown",
   "source": "Reading the eSol dataset from tanpaku",
   "metadata": {
    "formattedRanges": [
     {
      "type": "link",
      "url": "http://www.tanpaku.org/tp-esol/index.php?lang=en",
      "fromCodePoint": 30,
      "toCodePoint": 37,
      "ranges": []
     }
    ],
    "is_collapsed": false,
    "cell_id": "05f746399b1946b98a8c119531dbea4d",
    "tags": [],
    "deepnote_cell_type": "text-cell-p"
   }
  },
  {
   "cell_type": "code",
   "metadata": {
    "cell_id": "f5e08e17bd6c4b7d959eb8ca2102b859",
    "tags": [],
    "deepnote_to_be_reexecuted": false,
    "source_hash": "cb5547a0",
    "execution_start": 1669917117374,
    "execution_millis": 0,
    "deepnote_cell_type": "code",
    "deepnote_cell_height": 76
   },
   "source": "raw_sol_data = pd.read_csv('Raw/esol_data.tab',sep='\\t')",
   "outputs": [],
   "execution_count": null
  },
  {
   "cell_type": "code",
   "source": "raw_sol_data.head()",
   "metadata": {
    "cell_id": "19353e05c92640b8add74ca40d9d995f",
    "tags": [],
    "deepnote_to_be_reexecuted": false,
    "source_hash": "a5cd2846",
    "execution_start": 1669917125172,
    "execution_millis": 66,
    "deepnote_cell_type": "code",
    "deepnote_cell_height": 390
   },
   "outputs": [
    {
     "output_type": "execute_result",
     "execution_count": 4,
     "data": {
      "application/vnd.deepnote.dataframe.v3+json": {
       "column_count": 28,
       "row_count": 5,
       "columns": [
        {
         "name": "JW_ID",
         "dtype": "object",
         "stats": {
          "unique_count": 5,
          "nan_count": 0,
          "categories": [
           {
            "name": "JW0002",
            "count": 1
           },
           {
            "name": "JW0003",
            "count": 1
           },
           {
            "name": "3 others",
            "count": 3
           }
          ]
         }
        },
        {
         "name": "ECK number",
         "dtype": "object",
         "stats": {
          "unique_count": 5,
          "nan_count": 0,
          "categories": [
           {
            "name": "ECK0003",
            "count": 1
           },
           {
            "name": "ECK0004",
            "count": 1
           },
           {
            "name": "3 others",
            "count": 3
           }
          ]
         }
        },
        {
         "name": "B number",
         "dtype": "object",
         "stats": {
          "unique_count": 5,
          "nan_count": 0,
          "categories": [
           {
            "name": "b0003",
            "count": 1
           },
           {
            "name": "b0004",
            "count": 1
           },
           {
            "name": "3 others",
            "count": 3
           }
          ]
         }
        },
        {
         "name": "Gene name K-12",
         "dtype": "object",
         "stats": {
          "unique_count": 5,
          "nan_count": 0,
          "categories": [
           {
            "name": "thrB",
            "count": 1
           },
           {
            "name": "thrC",
            "count": 1
           },
           {
            "name": "3 others",
            "count": 3
           }
          ]
         }
        },
        {
         "name": "Locus name K-12",
         "dtype": "object",
         "stats": {
          "unique_count": 5,
          "nan_count": 0,
          "categories": [
           {
            "name": "thrB",
            "count": 1
           },
           {
            "name": "thrC",
            "count": 1
           },
           {
            "name": "3 others",
            "count": 3
           }
          ]
         }
        },
        {
         "name": "Synonyms of locus names K-12",
         "dtype": "object",
         "stats": {
          "unique_count": 1,
          "nan_count": 4,
          "categories": [
           {
            "name": "yaaK",
            "count": 1
           },
           {
            "name": "Missing",
            "count": 4
           }
          ]
         }
        },
        {
         "name": "Solubility(%)",
         "dtype": "float64",
         "stats": {
          "unique_count": 5,
          "nan_count": 0,
          "min": "7.0",
          "max": "85.0",
          "histogram": [
           {
            "bin_start": 7,
            "bin_end": 14.8,
            "count": 1
           },
           {
            "bin_start": 14.8,
            "bin_end": 22.6,
            "count": 1
           },
           {
            "bin_start": 22.6,
            "bin_end": 30.4,
            "count": 0
           },
           {
            "bin_start": 30.4,
            "bin_end": 38.2,
            "count": 1
           },
           {
            "bin_start": 38.2,
            "bin_end": 46,
            "count": 0
           },
           {
            "bin_start": 46,
            "bin_end": 53.8,
            "count": 0
           },
           {
            "bin_start": 53.8,
            "bin_end": 61.6,
            "count": 0
           },
           {
            "bin_start": 61.6,
            "bin_end": 69.4,
            "count": 0
           },
           {
            "bin_start": 69.4,
            "bin_end": 77.2,
            "count": 0
           },
           {
            "bin_start": 77.2,
            "bin_end": 85,
            "count": 2
           }
          ]
         }
        },
        {
         "name": "Yield(uM)",
         "dtype": "float64",
         "stats": {
          "unique_count": 5,
          "nan_count": 0,
          "min": "1.2",
          "max": "2.7",
          "histogram": [
           {
            "bin_start": 1.2,
            "bin_end": 1.35,
            "count": 1
           },
           {
            "bin_start": 1.35,
            "bin_end": 1.5,
            "count": 0
           },
           {
            "bin_start": 1.5,
            "bin_end": 1.65,
            "count": 0
           },
           {
            "bin_start": 1.65,
            "bin_end": 1.8,
            "count": 1
           },
           {
            "bin_start": 1.8,
            "bin_end": 1.9500000000000002,
            "count": 0
           },
           {
            "bin_start": 1.9500000000000002,
            "bin_end": 2.1,
            "count": 0
           },
           {
            "bin_start": 2.1,
            "bin_end": 2.25,
            "count": 0
           },
           {
            "bin_start": 2.25,
            "bin_end": 2.4000000000000004,
            "count": 2
           },
           {
            "bin_start": 2.4000000000000004,
            "bin_end": 2.55,
            "count": 0
           },
           {
            "bin_start": 2.55,
            "bin_end": 2.7,
            "count": 1
           }
          ]
         }
        },
        {
         "name": "Yield(ug/ml)",
         "dtype": "float64",
         "stats": {
          "unique_count": 4,
          "nan_count": 0,
          "min": "14.0",
          "max": "94.0",
          "histogram": [
           {
            "bin_start": 14,
            "bin_end": 22,
            "count": 1
           },
           {
            "bin_start": 22,
            "bin_end": 30,
            "count": 0
           },
           {
            "bin_start": 30,
            "bin_end": 38,
            "count": 0
           },
           {
            "bin_start": 38,
            "bin_end": 46,
            "count": 0
           },
           {
            "bin_start": 46,
            "bin_end": 54,
            "count": 0
           },
           {
            "bin_start": 54,
            "bin_end": 62,
            "count": 0
           },
           {
            "bin_start": 62,
            "bin_end": 70,
            "count": 0
           },
           {
            "bin_start": 70,
            "bin_end": 78,
            "count": 1
           },
           {
            "bin_start": 78,
            "bin_end": 86,
            "count": 2
           },
           {
            "bin_start": 86,
            "bin_end": 94,
            "count": 1
           }
          ]
         }
        },
        {
         "name": "Minus Sol",
         "dtype": "float64",
         "stats": {
          "unique_count": 2,
          "nan_count": 3,
          "min": "14.01",
          "max": "46.53",
          "histogram": [
           {
            "bin_start": 14.01,
            "bin_end": 17.262,
            "count": 1
           },
           {
            "bin_start": 17.262,
            "bin_end": 20.514,
            "count": 0
           },
           {
            "bin_start": 20.514,
            "bin_end": 23.766,
            "count": 0
           },
           {
            "bin_start": 23.766,
            "bin_end": 27.018,
            "count": 0
           },
           {
            "bin_start": 27.018,
            "bin_end": 30.270000000000003,
            "count": 0
           },
           {
            "bin_start": 30.270000000000003,
            "bin_end": 33.522,
            "count": 0
           },
           {
            "bin_start": 33.522,
            "bin_end": 36.774,
            "count": 0
           },
           {
            "bin_start": 36.774,
            "bin_end": 40.026,
            "count": 0
           },
           {
            "bin_start": 40.026,
            "bin_end": 43.278,
            "count": 0
           },
           {
            "bin_start": 43.278,
            "bin_end": 46.53,
            "count": 1
           }
          ]
         }
        },
        {
         "name": "TF Sol",
         "dtype": "float64",
         "stats": {
          "unique_count": 2,
          "nan_count": 3,
          "min": "26.65",
          "max": "45.8",
          "histogram": [
           {
            "bin_start": 26.65,
            "bin_end": 28.564999999999998,
            "count": 1
           },
           {
            "bin_start": 28.564999999999998,
            "bin_end": 30.479999999999997,
            "count": 0
           },
           {
            "bin_start": 30.479999999999997,
            "bin_end": 32.394999999999996,
            "count": 0
           },
           {
            "bin_start": 32.394999999999996,
            "bin_end": 34.309999999999995,
            "count": 0
           },
           {
            "bin_start": 34.309999999999995,
            "bin_end": 36.224999999999994,
            "count": 0
           },
           {
            "bin_start": 36.224999999999994,
            "bin_end": 38.14,
            "count": 0
           },
           {
            "bin_start": 38.14,
            "bin_end": 40.055,
            "count": 0
           },
           {
            "bin_start": 40.055,
            "bin_end": 41.97,
            "count": 0
           },
           {
            "bin_start": 41.97,
            "bin_end": 43.885,
            "count": 0
           },
           {
            "bin_start": 43.885,
            "bin_end": 45.8,
            "count": 1
           }
          ]
         }
        },
        {
         "name": "GroE Sol",
         "dtype": "float64",
         "stats": {
          "unique_count": 2,
          "nan_count": 3,
          "min": "52.96",
          "max": "83.44",
          "histogram": [
           {
            "bin_start": 52.96,
            "bin_end": 56.008,
            "count": 1
           },
           {
            "bin_start": 56.008,
            "bin_end": 59.056,
            "count": 0
           },
           {
            "bin_start": 59.056,
            "bin_end": 62.104,
            "count": 0
           },
           {
            "bin_start": 62.104,
            "bin_end": 65.152,
            "count": 0
           },
           {
            "bin_start": 65.152,
            "bin_end": 68.2,
            "count": 0
           },
           {
            "bin_start": 68.2,
            "bin_end": 71.24799999999999,
            "count": 0
           },
           {
            "bin_start": 71.24799999999999,
            "bin_end": 74.29599999999999,
            "count": 0
           },
           {
            "bin_start": 74.29599999999999,
            "bin_end": 77.344,
            "count": 0
           },
           {
            "bin_start": 77.344,
            "bin_end": 80.392,
            "count": 0
           },
           {
            "bin_start": 80.392,
            "bin_end": 83.44,
            "count": 1
           }
          ]
         }
        },
        {
         "name": "KJE Sol",
         "dtype": "float64",
         "stats": {
          "unique_count": 2,
          "nan_count": 3,
          "min": "17.69",
          "max": "63.61",
          "histogram": [
           {
            "bin_start": 17.69,
            "bin_end": 22.282000000000004,
            "count": 1
           },
           {
            "bin_start": 22.282000000000004,
            "bin_end": 26.874000000000002,
            "count": 0
           },
           {
            "bin_start": 26.874000000000002,
            "bin_end": 31.466,
            "count": 0
           },
           {
            "bin_start": 31.466,
            "bin_end": 36.05800000000001,
            "count": 0
           },
           {
            "bin_start": 36.05800000000001,
            "bin_end": 40.650000000000006,
            "count": 0
           },
           {
            "bin_start": 40.650000000000006,
            "bin_end": 45.242000000000004,
            "count": 0
           },
           {
            "bin_start": 45.242000000000004,
            "bin_end": 49.834,
            "count": 0
           },
           {
            "bin_start": 49.834,
            "bin_end": 54.426,
            "count": 0
           },
           {
            "bin_start": 54.426,
            "bin_end": 59.018,
            "count": 0
           },
           {
            "bin_start": 59.018,
            "bin_end": 63.61,
            "count": 1
           }
          ]
         }
        },
        {
         "name": "Minus(uM)",
         "dtype": "float64",
         "stats": {
          "unique_count": 2,
          "nan_count": 3,
          "min": "0.863",
          "max": "1.199",
          "histogram": [
           {
            "bin_start": 0.863,
            "bin_end": 0.8966,
            "count": 1
           },
           {
            "bin_start": 0.8966,
            "bin_end": 0.9302,
            "count": 0
           },
           {
            "bin_start": 0.9302,
            "bin_end": 0.9638,
            "count": 0
           },
           {
            "bin_start": 0.9638,
            "bin_end": 0.9974000000000001,
            "count": 0
           },
           {
            "bin_start": 0.9974000000000001,
            "bin_end": 1.0310000000000001,
            "count": 0
           },
           {
            "bin_start": 1.0310000000000001,
            "bin_end": 1.0646,
            "count": 0
           },
           {
            "bin_start": 1.0646,
            "bin_end": 1.0982,
            "count": 0
           },
           {
            "bin_start": 1.0982,
            "bin_end": 1.1318000000000001,
            "count": 0
           },
           {
            "bin_start": 1.1318000000000001,
            "bin_end": 1.1654,
            "count": 0
           },
           {
            "bin_start": 1.1654,
            "bin_end": 1.199,
            "count": 1
           }
          ]
         }
        },
        {
         "name": "TF(uM)",
         "dtype": "float64",
         "stats": {
          "unique_count": 2,
          "nan_count": 3,
          "min": "0.761",
          "max": "1.014",
          "histogram": [
           {
            "bin_start": 0.761,
            "bin_end": 0.7863,
            "count": 1
           },
           {
            "bin_start": 0.7863,
            "bin_end": 0.8116,
            "count": 0
           },
           {
            "bin_start": 0.8116,
            "bin_end": 0.8369,
            "count": 0
           },
           {
            "bin_start": 0.8369,
            "bin_end": 0.8622,
            "count": 0
           },
           {
            "bin_start": 0.8622,
            "bin_end": 0.8875,
            "count": 0
           },
           {
            "bin_start": 0.8875,
            "bin_end": 0.9128000000000001,
            "count": 0
           },
           {
            "bin_start": 0.9128000000000001,
            "bin_end": 0.9381,
            "count": 0
           },
           {
            "bin_start": 0.9381,
            "bin_end": 0.9634,
            "count": 0
           },
           {
            "bin_start": 0.9634,
            "bin_end": 0.9887,
            "count": 0
           },
           {
            "bin_start": 0.9887,
            "bin_end": 1.014,
            "count": 1
           }
          ]
         }
        },
        {
         "name": "GroE(uM)",
         "dtype": "float64",
         "stats": {
          "unique_count": 2,
          "nan_count": 3,
          "min": "0.78",
          "max": "1.162",
          "histogram": [
           {
            "bin_start": 0.78,
            "bin_end": 0.8182,
            "count": 1
           },
           {
            "bin_start": 0.8182,
            "bin_end": 0.8564,
            "count": 0
           },
           {
            "bin_start": 0.8564,
            "bin_end": 0.8946000000000001,
            "count": 0
           },
           {
            "bin_start": 0.8946000000000001,
            "bin_end": 0.9328,
            "count": 0
           },
           {
            "bin_start": 0.9328,
            "bin_end": 0.971,
            "count": 0
           },
           {
            "bin_start": 0.971,
            "bin_end": 1.0091999999999999,
            "count": 0
           },
           {
            "bin_start": 1.0091999999999999,
            "bin_end": 1.0473999999999999,
            "count": 0
           },
           {
            "bin_start": 1.0473999999999999,
            "bin_end": 1.0856,
            "count": 0
           },
           {
            "bin_start": 1.0856,
            "bin_end": 1.1238,
            "count": 0
           },
           {
            "bin_start": 1.1238,
            "bin_end": 1.162,
            "count": 1
           }
          ]
         }
        },
        {
         "name": "KJE(uM)",
         "dtype": "float64",
         "stats": {
          "unique_count": 2,
          "nan_count": 3,
          "min": "0.814",
          "max": "1.86",
          "histogram": [
           {
            "bin_start": 0.814,
            "bin_end": 0.9186,
            "count": 1
           },
           {
            "bin_start": 0.9186,
            "bin_end": 1.0232,
            "count": 0
           },
           {
            "bin_start": 1.0232,
            "bin_end": 1.1278000000000001,
            "count": 0
           },
           {
            "bin_start": 1.1278000000000001,
            "bin_end": 1.2324000000000002,
            "count": 0
           },
           {
            "bin_start": 1.2324000000000002,
            "bin_end": 1.3370000000000002,
            "count": 0
           },
           {
            "bin_start": 1.3370000000000002,
            "bin_end": 1.4416000000000002,
            "count": 0
           },
           {
            "bin_start": 1.4416000000000002,
            "bin_end": 1.5462000000000002,
            "count": 0
           },
           {
            "bin_start": 1.5462000000000002,
            "bin_end": 1.6508000000000003,
            "count": 0
           },
           {
            "bin_start": 1.6508000000000003,
            "bin_end": 1.7554000000000003,
            "count": 0
           },
           {
            "bin_start": 1.7554000000000003,
            "bin_end": 1.86,
            "count": 1
           }
          ]
         }
        },
        {
         "name": "Minus(ug/ml)",
         "dtype": "float64",
         "stats": {
          "unique_count": 2,
          "nan_count": 3,
          "min": "35.43",
          "max": "40.62",
          "histogram": [
           {
            "bin_start": 35.43,
            "bin_end": 35.949,
            "count": 1
           },
           {
            "bin_start": 35.949,
            "bin_end": 36.467999999999996,
            "count": 0
           },
           {
            "bin_start": 36.467999999999996,
            "bin_end": 36.987,
            "count": 0
           },
           {
            "bin_start": 36.987,
            "bin_end": 37.506,
            "count": 0
           },
           {
            "bin_start": 37.506,
            "bin_end": 38.025,
            "count": 0
           },
           {
            "bin_start": 38.025,
            "bin_end": 38.544,
            "count": 0
           },
           {
            "bin_start": 38.544,
            "bin_end": 39.062999999999995,
            "count": 0
           },
           {
            "bin_start": 39.062999999999995,
            "bin_end": 39.582,
            "count": 0
           },
           {
            "bin_start": 39.582,
            "bin_end": 40.101,
            "count": 0
           },
           {
            "bin_start": 40.101,
            "bin_end": 40.62,
            "count": 1
           }
          ]
         }
        },
        {
         "name": "TF(ug/ml)",
         "dtype": "float64",
         "stats": {
          "unique_count": 2,
          "nan_count": 3,
          "min": "29.98",
          "max": "35.81",
          "histogram": [
           {
            "bin_start": 29.98,
            "bin_end": 30.563000000000002,
            "count": 1
           },
           {
            "bin_start": 30.563000000000002,
            "bin_end": 31.146,
            "count": 0
           },
           {
            "bin_start": 31.146,
            "bin_end": 31.729,
            "count": 0
           },
           {
            "bin_start": 31.729,
            "bin_end": 32.312,
            "count": 0
           },
           {
            "bin_start": 32.312,
            "bin_end": 32.895,
            "count": 0
           },
           {
            "bin_start": 32.895,
            "bin_end": 33.478,
            "count": 0
           },
           {
            "bin_start": 33.478,
            "bin_end": 34.061,
            "count": 0
           },
           {
            "bin_start": 34.061,
            "bin_end": 34.644000000000005,
            "count": 0
           },
           {
            "bin_start": 34.644000000000005,
            "bin_end": 35.227000000000004,
            "count": 0
           },
           {
            "bin_start": 35.227000000000004,
            "bin_end": 35.81,
            "count": 1
           }
          ]
         }
        },
        {
         "name": "GroE(ug/ml)",
         "dtype": "float64",
         "stats": {
          "unique_count": 2,
          "nan_count": 3,
          "min": "34.34",
          "max": "36.71",
          "histogram": [
           {
            "bin_start": 34.34,
            "bin_end": 34.577000000000005,
            "count": 1
           },
           {
            "bin_start": 34.577000000000005,
            "bin_end": 34.814,
            "count": 0
           },
           {
            "bin_start": 34.814,
            "bin_end": 35.051,
            "count": 0
           },
           {
            "bin_start": 35.051,
            "bin_end": 35.288000000000004,
            "count": 0
           },
           {
            "bin_start": 35.288000000000004,
            "bin_end": 35.525000000000006,
            "count": 0
           },
           {
            "bin_start": 35.525000000000006,
            "bin_end": 35.762,
            "count": 0
           },
           {
            "bin_start": 35.762,
            "bin_end": 35.999,
            "count": 0
           },
           {
            "bin_start": 35.999,
            "bin_end": 36.236000000000004,
            "count": 0
           },
           {
            "bin_start": 36.236000000000004,
            "bin_end": 36.473,
            "count": 0
           },
           {
            "bin_start": 36.473,
            "bin_end": 36.71,
            "count": 1
           }
          ]
         }
        },
        {
         "name": "KJE(ug/ml)",
         "dtype": "float64",
         "stats": {
          "unique_count": 2,
          "nan_count": 3,
          "min": "38.33",
          "max": "54.96",
          "histogram": [
           {
            "bin_start": 38.33,
            "bin_end": 39.992999999999995,
            "count": 1
           },
           {
            "bin_start": 39.992999999999995,
            "bin_end": 41.656,
            "count": 0
           },
           {
            "bin_start": 41.656,
            "bin_end": 43.319,
            "count": 0
           },
           {
            "bin_start": 43.319,
            "bin_end": 44.982,
            "count": 0
           },
           {
            "bin_start": 44.982,
            "bin_end": 46.644999999999996,
            "count": 0
           },
           {
            "bin_start": 46.644999999999996,
            "bin_end": 48.308,
            "count": 0
           },
           {
            "bin_start": 48.308,
            "bin_end": 49.971000000000004,
            "count": 0
           },
           {
            "bin_start": 49.971000000000004,
            "bin_end": 51.634,
            "count": 0
           },
           {
            "bin_start": 51.634,
            "bin_end": 53.297,
            "count": 0
           },
           {
            "bin_start": 53.297,
            "bin_end": 54.96,
            "count": 1
           }
          ]
         }
        },
        {
         "name": "Calculated MW(kDa)",
         "dtype": "float64",
         "stats": {
          "unique_count": 5,
          "nan_count": 0,
          "min": "11.4",
          "max": "47.056",
          "histogram": [
           {
            "bin_start": 11.4,
            "bin_end": 14.9656,
            "count": 1
           },
           {
            "bin_start": 14.9656,
            "bin_end": 18.5312,
            "count": 0
           },
           {
            "bin_start": 18.5312,
            "bin_end": 22.0968,
            "count": 0
           },
           {
            "bin_start": 22.0968,
            "bin_end": 25.662399999999998,
            "count": 0
           },
           {
            "bin_start": 25.662399999999998,
            "bin_end": 29.228,
            "count": 0
           },
           {
            "bin_start": 29.228,
            "bin_end": 32.7936,
            "count": 1
           },
           {
            "bin_start": 32.7936,
            "bin_end": 36.3592,
            "count": 2
           },
           {
            "bin_start": 36.3592,
            "bin_end": 39.9248,
            "count": 0
           },
           {
            "bin_start": 39.9248,
            "bin_end": 43.4904,
            "count": 0
           },
           {
            "bin_start": 43.4904,
            "bin_end": 47.056,
            "count": 1
           }
          ]
         }
        },
        {
         "name": "Calculated pI",
         "dtype": "float64",
         "stats": {
          "unique_count": 5,
          "nan_count": 0,
          "min": "5.71",
          "max": "10.9",
          "histogram": [
           {
            "bin_start": 5.71,
            "bin_end": 6.229,
            "count": 3
           },
           {
            "bin_start": 6.229,
            "bin_end": 6.748,
            "count": 0
           },
           {
            "bin_start": 6.748,
            "bin_end": 7.2669999999999995,
            "count": 0
           },
           {
            "bin_start": 7.2669999999999995,
            "bin_end": 7.786,
            "count": 0
           },
           {
            "bin_start": 7.786,
            "bin_end": 8.305,
            "count": 0
           },
           {
            "bin_start": 8.305,
            "bin_end": 8.824,
            "count": 1
           },
           {
            "bin_start": 8.824,
            "bin_end": 9.343,
            "count": 0
           },
           {
            "bin_start": 9.343,
            "bin_end": 9.862,
            "count": 0
           },
           {
            "bin_start": 9.862,
            "bin_end": 10.381,
            "count": 0
           },
           {
            "bin_start": 10.381,
            "bin_end": 10.9,
            "count": 1
           }
          ]
         }
        },
        {
         "name": "Type of gene product",
         "dtype": "object",
         "stats": {
          "unique_count": 2,
          "nan_count": 0,
          "categories": [
           {
            "name": "e",
            "count": 3
           },
           {
            "name": "o",
            "count": 2
           }
          ]
         }
        },
        {
         "name": "Gene product description",
         "dtype": "object",
         "stats": {
          "unique_count": 5,
          "nan_count": 0,
          "categories": [
           {
            "name": "homoserine kinase",
            "count": 1
           },
           {
            "name": "threonine synthase",
            "count": 1
           },
           {
            "name": "3 others",
            "count": 3
           }
          ]
         }
        },
        {
         "name": "Cell location",
         "dtype": "object",
         "stats": {
          "unique_count": 2,
          "nan_count": 0,
          "categories": [
           {
            "name": "Cytoplasmic",
            "count": 4
           },
           {
            "name": "Periplasmic",
            "count": 1
           }
          ]
         }
        },
        {
         "name": "Structure (PDB) id",
         "dtype": "object",
         "stats": {
          "unique_count": 1,
          "nan_count": 4,
          "categories": [
           {
            "name": "1ONR",
            "count": 1
           },
           {
            "name": "Missing",
            "count": 4
           }
          ]
         }
        },
        {
         "name": "SCOP assignment",
         "dtype": "object",
         "stats": {
          "unique_count": 3,
          "nan_count": 2,
          "categories": [
           {
            "name": "54211; Ribosomal protein S5 domain 2-like 55060; GHMP Kinase",
            "count": 1
           },
           {
            "name": "2 others",
            "count": 2
           },
           {
            "name": "Missing",
            "count": 2
           }
          ]
         }
        },
        {
         "name": "_deepnote_index_column",
         "dtype": "int64"
        }
       ],
       "rows": [
        {
         "JW_ID": "JW0002",
         "ECK number": "ECK0003",
         "B number": "b0003",
         "Gene name K-12": "thrB",
         "Locus name K-12": "thrB",
         "Synonyms of locus names K-12": "nan",
         "Solubility(%)": "32.0",
         "Yield(uM)": "2.3",
         "Yield(ug/ml)": "78.0",
         "Minus Sol": "nan",
         "TF Sol": "nan",
         "GroE Sol": "nan",
         "KJE Sol": "nan",
         "Minus(uM)": "nan",
         "TF(uM)": "nan",
         "GroE(uM)": "nan",
         "KJE(uM)": "nan",
         "Minus(ug/ml)": "nan",
         "TF(ug/ml)": "nan",
         "GroE(ug/ml)": "nan",
         "KJE(ug/ml)": "nan",
         "Calculated MW(kDa)": "33.6",
         "Calculated pI": "6.2",
         "Type of gene product": "e",
         "Gene product description": "homoserine kinase",
         "Cell location": "Cytoplasmic",
         "Structure (PDB) id": "nan",
         "SCOP assignment": "54211; Ribosomal protein S5 domain 2-like 55060; GHMP Kinase",
         "_deepnote_index_column": "0"
        },
        {
         "JW_ID": "JW0003",
         "ECK number": "ECK0004",
         "B number": "b0004",
         "Gene name K-12": "thrC",
         "Locus name K-12": "thrC",
         "Synonyms of locus names K-12": "nan",
         "Solubility(%)": "18.0",
         "Yield(uM)": "1.7",
         "Yield(ug/ml)": "78.0",
         "Minus Sol": "46.53",
         "TF Sol": "45.8",
         "GroE Sol": "83.44",
         "KJE Sol": "63.61",
         "Minus(uM)": "0.863",
         "TF(uM)": "0.761",
         "GroE(uM)": "0.78",
         "KJE(uM)": "0.814",
         "Minus(ug/ml)": "40.62",
         "TF(ug/ml)": "35.81",
         "GroE(ug/ml)": "36.71",
         "KJE(ug/ml)": "38.33",
         "Calculated MW(kDa)": "47.056",
         "Calculated pI": "5.71",
         "Type of gene product": "e",
         "Gene product description": "threonine synthase",
         "Cell location": "Cytoplasmic",
         "Structure (PDB) id": "nan",
         "SCOP assignment": "53686; Tryptophan synthase beta subunit-like PLP-dependent enzymes",
         "_deepnote_index_column": "1"
        },
        {
         "JW_ID": "JW0004",
         "ECK number": "ECK0005",
         "B number": "b0005",
         "Gene name K-12": "yaaX",
         "Locus name K-12": "yaaX",
         "Synonyms of locus names K-12": "nan",
         "Solubility(%)": "78.0",
         "Yield(uM)": "1.2",
         "Yield(ug/ml)": "14.0",
         "Minus Sol": "nan",
         "TF Sol": "nan",
         "GroE Sol": "nan",
         "KJE Sol": "nan",
         "Minus(uM)": "nan",
         "TF(uM)": "nan",
         "GroE(uM)": "nan",
         "KJE(uM)": "nan",
         "Minus(ug/ml)": "nan",
         "TF(ug/ml)": "nan",
         "GroE(ug/ml)": "nan",
         "KJE(ug/ml)": "nan",
         "Calculated MW(kDa)": "11.4",
         "Calculated pI": "10.9",
         "Type of gene product": "o",
         "Gene product description": "predicted protein",
         "Cell location": "Periplasmic",
         "Structure (PDB) id": "nan",
         "SCOP assignment": "nan",
         "_deepnote_index_column": "2"
        },
        {
         "JW_ID": "JW0005",
         "ECK number": "ECK0006",
         "B number": "b0006",
         "Gene name K-12": "yaaA",
         "Locus name K-12": "yaaA",
         "Synonyms of locus names K-12": "nan",
         "Solubility(%)": "7.0",
         "Yield(uM)": "2.4",
         "Yield(ug/ml)": "71.0",
         "Minus Sol": "14.01",
         "TF Sol": "26.65",
         "GroE Sol": "52.96",
         "KJE Sol": "17.69",
         "Minus(uM)": "1.199",
         "TF(uM)": "1.014",
         "GroE(uM)": "1.162",
         "KJE(uM)": "1.86",
         "Minus(ug/ml)": "35.43",
         "TF(ug/ml)": "29.98",
         "GroE(ug/ml)": "34.34",
         "KJE(ug/ml)": "54.96",
         "Calculated MW(kDa)": "29.555",
         "Calculated pI": "8.74",
         "Type of gene product": "o",
         "Gene product description": "conserved protein",
         "Cell location": "Cytoplasmic",
         "Structure (PDB) id": "nan",
         "SCOP assignment": "nan",
         "_deepnote_index_column": "3"
        },
        {
         "JW_ID": "JW0007",
         "ECK number": "ECK0008",
         "B number": "b0008",
         "Gene name K-12": "talB",
         "Locus name K-12": "talB",
         "Synonyms of locus names K-12": "yaaK",
         "Solubility(%)": "85.0",
         "Yield(uM)": "2.7",
         "Yield(ug/ml)": "94.0",
         "Minus Sol": "nan",
         "TF Sol": "nan",
         "GroE Sol": "nan",
         "KJE Sol": "nan",
         "Minus(uM)": "nan",
         "TF(uM)": "nan",
         "GroE(uM)": "nan",
         "KJE(uM)": "nan",
         "Minus(ug/ml)": "nan",
         "TF(ug/ml)": "nan",
         "GroE(ug/ml)": "nan",
         "KJE(ug/ml)": "nan",
         "Calculated MW(kDa)": "35.2",
         "Calculated pI": "5.8",
         "Type of gene product": "e",
         "Gene product description": "transaldolase B",
         "Cell location": "Cytoplasmic",
         "Structure (PDB) id": "1ONR",
         "SCOP assignment": "51569; Aldolase",
         "_deepnote_index_column": "4"
        }
       ]
      },
      "text/plain": "    JW_ID ECK number B number Gene name K-12 Locus name K-12  \\\n0  JW0002    ECK0003    b0003           thrB            thrB   \n1  JW0003    ECK0004    b0004           thrC            thrC   \n2  JW0004    ECK0005    b0005           yaaX            yaaX   \n3  JW0005    ECK0006    b0006           yaaA            yaaA   \n4  JW0007    ECK0008    b0008           talB            talB   \n\n  Synonyms of locus names K-12  Solubility(%)  Yield(uM)  Yield(ug/ml)  \\\n0                          NaN           32.0        2.3          78.0   \n1                          NaN           18.0        1.7          78.0   \n2                          NaN           78.0        1.2          14.0   \n3                          NaN            7.0        2.4          71.0   \n4                         yaaK           85.0        2.7          94.0   \n\n   Minus Sol  ...  TF(ug/ml)  GroE(ug/ml)  KJE(ug/ml)  Calculated MW(kDa)  \\\n0        NaN  ...        NaN          NaN         NaN              33.600   \n1      46.53  ...      35.81        36.71       38.33              47.056   \n2        NaN  ...        NaN          NaN         NaN              11.400   \n3      14.01  ...      29.98        34.34       54.96              29.555   \n4        NaN  ...        NaN          NaN         NaN              35.200   \n\n   Calculated pI  Type of gene product  Gene product description  \\\n0           6.20                     e         homoserine kinase   \n1           5.71                     e        threonine synthase   \n2          10.90                     o         predicted protein   \n3           8.74                     o         conserved protein   \n4           5.80                     e           transaldolase B   \n\n   Cell location  Structure (PDB) id  \\\n0    Cytoplasmic                 NaN   \n1    Cytoplasmic                 NaN   \n2    Periplasmic                 NaN   \n3    Cytoplasmic                 NaN   \n4    Cytoplasmic                1ONR   \n\n                                     SCOP assignment  \n0  54211; Ribosomal protein S5 domain 2-like 5506...  \n1  53686; Tryptophan synthase beta subunit-like P...  \n2                                                NaN  \n3                                                NaN  \n4                                    51569; Aldolase  \n\n[5 rows x 28 columns]",
      "text/html": "<div>\n<style scoped>\n    .dataframe tbody tr th:only-of-type {\n        vertical-align: middle;\n    }\n\n    .dataframe tbody tr th {\n        vertical-align: top;\n    }\n\n    .dataframe thead th {\n        text-align: right;\n    }\n</style>\n<table border=\"1\" class=\"dataframe\">\n  <thead>\n    <tr style=\"text-align: right;\">\n      <th></th>\n      <th>JW_ID</th>\n      <th>ECK number</th>\n      <th>B number</th>\n      <th>Gene name K-12</th>\n      <th>Locus name K-12</th>\n      <th>Synonyms of locus names K-12</th>\n      <th>Solubility(%)</th>\n      <th>Yield(uM)</th>\n      <th>Yield(ug/ml)</th>\n      <th>Minus Sol</th>\n      <th>...</th>\n      <th>TF(ug/ml)</th>\n      <th>GroE(ug/ml)</th>\n      <th>KJE(ug/ml)</th>\n      <th>Calculated MW(kDa)</th>\n      <th>Calculated pI</th>\n      <th>Type of gene product</th>\n      <th>Gene product description</th>\n      <th>Cell location</th>\n      <th>Structure (PDB) id</th>\n      <th>SCOP assignment</th>\n    </tr>\n  </thead>\n  <tbody>\n    <tr>\n      <th>0</th>\n      <td>JW0002</td>\n      <td>ECK0003</td>\n      <td>b0003</td>\n      <td>thrB</td>\n      <td>thrB</td>\n      <td>NaN</td>\n      <td>32.0</td>\n      <td>2.3</td>\n      <td>78.0</td>\n      <td>NaN</td>\n      <td>...</td>\n      <td>NaN</td>\n      <td>NaN</td>\n      <td>NaN</td>\n      <td>33.600</td>\n      <td>6.20</td>\n      <td>e</td>\n      <td>homoserine kinase</td>\n      <td>Cytoplasmic</td>\n      <td>NaN</td>\n      <td>54211; Ribosomal protein S5 domain 2-like 5506...</td>\n    </tr>\n    <tr>\n      <th>1</th>\n      <td>JW0003</td>\n      <td>ECK0004</td>\n      <td>b0004</td>\n      <td>thrC</td>\n      <td>thrC</td>\n      <td>NaN</td>\n      <td>18.0</td>\n      <td>1.7</td>\n      <td>78.0</td>\n      <td>46.53</td>\n      <td>...</td>\n      <td>35.81</td>\n      <td>36.71</td>\n      <td>38.33</td>\n      <td>47.056</td>\n      <td>5.71</td>\n      <td>e</td>\n      <td>threonine synthase</td>\n      <td>Cytoplasmic</td>\n      <td>NaN</td>\n      <td>53686; Tryptophan synthase beta subunit-like P...</td>\n    </tr>\n    <tr>\n      <th>2</th>\n      <td>JW0004</td>\n      <td>ECK0005</td>\n      <td>b0005</td>\n      <td>yaaX</td>\n      <td>yaaX</td>\n      <td>NaN</td>\n      <td>78.0</td>\n      <td>1.2</td>\n      <td>14.0</td>\n      <td>NaN</td>\n      <td>...</td>\n      <td>NaN</td>\n      <td>NaN</td>\n      <td>NaN</td>\n      <td>11.400</td>\n      <td>10.90</td>\n      <td>o</td>\n      <td>predicted protein</td>\n      <td>Periplasmic</td>\n      <td>NaN</td>\n      <td>NaN</td>\n    </tr>\n    <tr>\n      <th>3</th>\n      <td>JW0005</td>\n      <td>ECK0006</td>\n      <td>b0006</td>\n      <td>yaaA</td>\n      <td>yaaA</td>\n      <td>NaN</td>\n      <td>7.0</td>\n      <td>2.4</td>\n      <td>71.0</td>\n      <td>14.01</td>\n      <td>...</td>\n      <td>29.98</td>\n      <td>34.34</td>\n      <td>54.96</td>\n      <td>29.555</td>\n      <td>8.74</td>\n      <td>o</td>\n      <td>conserved protein</td>\n      <td>Cytoplasmic</td>\n      <td>NaN</td>\n      <td>NaN</td>\n    </tr>\n    <tr>\n      <th>4</th>\n      <td>JW0007</td>\n      <td>ECK0008</td>\n      <td>b0008</td>\n      <td>talB</td>\n      <td>talB</td>\n      <td>yaaK</td>\n      <td>85.0</td>\n      <td>2.7</td>\n      <td>94.0</td>\n      <td>NaN</td>\n      <td>...</td>\n      <td>NaN</td>\n      <td>NaN</td>\n      <td>NaN</td>\n      <td>35.200</td>\n      <td>5.80</td>\n      <td>e</td>\n      <td>transaldolase B</td>\n      <td>Cytoplasmic</td>\n      <td>1ONR</td>\n      <td>51569; Aldolase</td>\n    </tr>\n  </tbody>\n</table>\n<p>5 rows × 28 columns</p>\n</div>"
     },
     "metadata": {}
    }
   ],
   "execution_count": null
  },
  {
   "cell_type": "code",
   "source": "raw_sol_data",
   "metadata": {
    "cell_id": "51d3fa7a7a4144bb98a07da51ca8e96d",
    "tags": [],
    "deepnote_cell_type": "code",
    "deepnote_cell_height": 61
   },
   "outputs": [],
   "execution_count": null
  },
  {
   "cell_type": "markdown",
   "source": "Remove the data records that have no solubility values, as we can not train or test on these.",
   "metadata": {
    "formattedRanges": [],
    "is_collapsed": false,
    "cell_id": "5dc9e98712034fea8cc52c1953e74db9",
    "tags": [],
    "deepnote_cell_type": "text-cell-p"
   }
  },
  {
   "cell_type": "code",
   "metadata": {
    "cell_id": "92927c4a63db4cfbb45f7f06ee46ed22",
    "tags": [],
    "deepnote_to_be_reexecuted": false,
    "source_hash": "f21d9607",
    "execution_start": 1668626625292,
    "execution_millis": 0,
    "deepnote_cell_type": "code",
    "deepnote_cell_height": 76
   },
   "source": "raw_sol_data = raw_sol_data.dropna(subset=['Solubility(%)'])",
   "execution_count": null,
   "outputs": []
  },
  {
   "cell_type": "markdown",
   "source": "Add Organism column to the raw eSol data. (for processing purposes)",
   "metadata": {
    "formattedRanges": [],
    "is_collapsed": false,
    "cell_id": "e2513f32b4b24935a0cf8c000226a8f3",
    "tags": [],
    "deepnote_cell_type": "text-cell-p"
   }
  },
  {
   "cell_type": "code",
   "metadata": {
    "cell_id": "5be65c9224654a0990c477ab91c72e39",
    "tags": [],
    "deepnote_to_be_reexecuted": false,
    "source_hash": "208e432",
    "execution_start": 1668626625293,
    "execution_millis": 42,
    "deepnote_cell_type": "code",
    "deepnote_cell_height": 76
   },
   "source": "raw_sol_data.loc[:, 'Organism'] = 'Escherichia coli (strain K12)'",
   "execution_count": null,
   "outputs": []
  },
  {
   "cell_type": "markdown",
   "source": "## Retrieving and Merging with UniProt Records",
   "metadata": {
    "formattedRanges": [],
    "is_collapsed": false,
    "cell_id": "0f970a68401b4e8fac00bc169b6d20f8",
    "tags": [],
    "deepnote_cell_type": "text-cell-h2"
   }
  },
  {
   "cell_type": "markdown",
   "source": "First setup a base function to retrieve a specific gene and organism from the UniProt Database.",
   "metadata": {
    "formattedRanges": [],
    "is_collapsed": false,
    "cell_id": "131bf610997a418d81bc99c50f33a771",
    "tags": [],
    "deepnote_cell_type": "text-cell-p"
   }
  },
  {
   "cell_type": "code",
   "metadata": {
    "cell_id": "663e678afe6c4be8b6cd279f5f3705c5",
    "tags": [],
    "deepnote_to_be_reexecuted": false,
    "source_hash": "e040a19b",
    "execution_start": 1668626625336,
    "execution_millis": 0,
    "deepnote_cell_type": "code",
    "deepnote_cell_height": 364
   },
   "source": "def retrieve_data_from_uniprot(gene_name, organism):\n    query = {\n        \"offset\": 0,\n        \"gene\": gene_name,\n        \"organism\": organism\n    }\n\n    response = requests.get(\"https://www.ebi.ac.uk/proteins/api/proteins\", params=query)\n    raw_content = response.content\n    content = xmltodict.parse(raw_content)\n\n    entry = content['uniprot']['entry']\n\n    if isinstance(entry, list):\n        return entry[0]\n    else:\n        return entry",
   "execution_count": null,
   "outputs": []
  },
  {
   "cell_type": "markdown",
   "source": "update_progress simply shows a progress bar",
   "metadata": {
    "formattedRanges": [
     {
      "type": "marks",
      "fromCodePoint": 0,
      "toCodePoint": 15,
      "marks": {
       "code": true
      }
     }
    ],
    "is_collapsed": false,
    "cell_id": "74708f4eb76d4582b85e3e1e3313e249",
    "tags": [],
    "deepnote_cell_type": "text-cell-p"
   }
  },
  {
   "cell_type": "code",
   "metadata": {
    "cell_id": "589a7640aca34e2d966d233b2d2db8e2",
    "tags": [],
    "deepnote_to_be_reexecuted": false,
    "source_hash": "18441432",
    "execution_start": 1668626625338,
    "execution_millis": 2,
    "deepnote_cell_type": "code",
    "deepnote_cell_height": 436
   },
   "source": "def update_progress(actual, total, clear=True, title=\"Progress\"):\n    bar_length = 100\n\n    progress = (actual / total)\n\n    if isinstance(progress, int):\n        progress = float(progress)\n    if not isinstance(progress, float):\n        progress = 0\n    if progress < 0:\n        progress = 0\n    if progress >= 1:\n        progress = 1\n\n    block = int(round(bar_length * progress))\n\n    if clear:\n        clear_output(wait = True)\n\n    text = \"{0}: [{1}] {2:.1f}%\".format(title, \"#\" * block + \"-\" * (bar_length - block), progress * 100)\n    print(text)",
   "execution_count": null,
   "outputs": []
  },
  {
   "cell_type": "markdown",
   "source": "retrieve_and_merge retrieves the data from UniProt and merges it with the eSol dataset, to add additional information.",
   "metadata": {
    "formattedRanges": [
     {
      "type": "marks",
      "fromCodePoint": 0,
      "toCodePoint": 18,
      "marks": {
       "code": true
      }
     },
     {
      "type": "marks",
      "fromCodePoint": 43,
      "toCodePoint": 50,
      "marks": {
       "bold": true
      }
     },
     {
      "type": "marks",
      "fromCodePoint": 74,
      "toCodePoint": 78,
      "marks": {
       "bold": true
      }
     }
    ],
    "is_collapsed": false,
    "cell_id": "303e467510d04dd390f6fca23091535b",
    "tags": [],
    "deepnote_cell_type": "text-cell-p"
   }
  },
  {
   "cell_type": "code",
   "metadata": {
    "cell_id": "64adbef5cbd041f58b38033728936922",
    "tags": [],
    "deepnote_to_be_reexecuted": false,
    "source_hash": "e6e43c5e",
    "execution_start": 1668626625388,
    "execution_millis": 0,
    "deepnote_cell_type": "code",
    "deepnote_cell_height": 1215
   },
   "source": "def retrieve_and_merge(esol_dataset):\n    merged = pd.DataFrame(columns=['Gene Name', 'Solubility(%)', 'Yield(uM)',\n       'Yield(ug/ml)', 'Minus Sol', 'TF Sol', 'GroE Sol', 'KJE Sol',\n       'Minus(uM)', 'TF(uM)', 'GroE(uM)', 'KJE(uM)', 'Minus(ug/ml)',\n       'TF(ug/ml)', 'GroE(ug/ml)', 'KJE(ug/ml)', 'Calculated MW(kDa)',\n       'Calculated pI', 'Type of gene product', 'Gene product description',\n       'Cell location', 'Structure (PDB) id', 'SCOP assignment',\n       'Sequence', 'Sequence length', 'Sequence mass', 'Organism', 'UP_ID', 'UP_NAME'])\n\n    unknown = pd.DataFrame(columns=esol_dataset.columns)\n\n    total = len(esol_dataset)\n    progress = 0\n    success = 0\n    failed = 0\n\n    for index, row in esol_dataset.iterrows():\n        try:\n            uniprot_dict = retrieve_data_from_uniprot(gene_name = row['Gene name K-12'], organism = row[\"Organism\"])\n            new_data = {\n                'Gene Name': row['Gene name K-12'],\n                'Solubility(%)': row['Solubility(%)'],\n                'Yield(uM)': row['Yield(uM)'],\n                'Yield(ug/ml)': row['Yield(ug/ml)'],\n                'Minus Sol': row['Minus Sol'],\n                'TF Sol': row['TF Sol'],\n                'GroE Sol': row['GroE Sol'],\n                'KJE Sol': row['KJE Sol'],\n                'Minus(uM)': row['Minus(uM)'],\n                'TF(uM)': row['TF(uM)'],\n                'GroE(uM)': row['GroE(uM)'],\n                'KJE(uM)': row['KJE(uM)'],\n                'Minus(ug/ml)': row['Minus(ug/ml)'],\n                'TF(ug/ml)': row['TF(ug/ml)'],\n                'GroE(ug/ml)': row['GroE(ug/ml)'],\n                'KJE(ug/ml)': row['KJE(ug/ml)'],\n                'Calculated MW(kDa)': row['Calculated MW(kDa)'],\n                'Calculated pI':  row['Calculated pI'],\n                'Type of gene product': row['Type of gene product'],\n                'Gene product description': row['Gene product description'],\n                'Cell location':  row['Cell location'],\n                'Structure (PDB) id': row['Structure (PDB) id'],\n                'SCOP assignment': row['SCOP assignment'],\n                'Sequence': uniprot_dict['sequence']['#text'],\n                'Sequence length': uniprot_dict['sequence']['@length'],\n                'Sequence mass': uniprot_dict['sequence']['@mass'],\n                'Organism': uniprot_dict['organism']['name']['#text'],\n                'UP_ID': uniprot_dict['accession'],\n                'UP_NAME': uniprot_dict['name']\n            }\n\n            merged = pd.concat([merged, pd.DataFrame([new_data], columns=merged.columns)])\n            success += 1\n        except Exception as ex:\n            failed += 1\n            unknown = pd.concat([unknown, pd.DataFrame([row], columns=unknown.columns)])\n        \n        progress += 1\n        \n        update_progress(progress, total, clear=True)\n        update_progress(success, total, title=\"Sucess Ratio\", clear=False)\n        update_progress(failed, total, title=\"Failure Ratio\", clear=False)\n\n    return merged, unknown",
   "execution_count": null,
   "outputs": []
  },
  {
   "cell_type": "code",
   "metadata": {
    "cell_id": "f1597861023941a69e6813db15899c52",
    "tags": [],
    "deepnote_to_be_reexecuted": false,
    "source_hash": "2cbf7132",
    "execution_start": 1668626625388,
    "execution_millis": 1663834,
    "deepnote_cell_type": "code",
    "deepnote_cell_height": 150.578125
   },
   "source": "complete_data, unknown_data = retrieve_and_merge(raw_sol_data)",
   "execution_count": null,
   "outputs": [
    {
     "name": "stdout",
     "text": "Progress: [####################################################################################################] 100.0%\nSucess Ratio: [####################################################################################################] 99.6%\nFailure Ratio: [----------------------------------------------------------------------------------------------------] 0.4%\n",
     "output_type": "stream"
    }
   ]
  },
  {
   "cell_type": "markdown",
   "source": "Just save the generated datasets to the file storage.",
   "metadata": {
    "formattedRanges": [],
    "is_collapsed": false,
    "cell_id": "013378e4b2734d09b331e54058420ff5",
    "tags": [],
    "deepnote_cell_type": "text-cell-p"
   }
  },
  {
   "cell_type": "code",
   "metadata": {
    "cell_id": "484d41e096a143ec91b581935bfc2764",
    "tags": [],
    "deepnote_to_be_reexecuted": false,
    "source_hash": "e26d8d8b",
    "execution_start": 1668628288543,
    "execution_millis": 123,
    "deepnote_cell_type": "code",
    "deepnote_cell_height": 94
   },
   "source": "complete_data.to_csv('Processed Data/complete_data.csv', index=False)\nunknown_data.to_csv('Processed Data/missing_data.csv', index=False)",
   "execution_count": null,
   "outputs": []
  },
  {
   "cell_type": "markdown",
   "source": "See Data/Processed Data for the complete and missing data.",
   "metadata": {
    "formattedRanges": [
     {
      "type": "marks",
      "fromCodePoint": 4,
      "toCodePoint": 23,
      "marks": {
       "code": true
      }
     },
     {
      "type": "marks",
      "fromCodePoint": 32,
      "toCodePoint": 40,
      "marks": {
       "bold": true
      }
     },
     {
      "type": "marks",
      "fromCodePoint": 45,
      "toCodePoint": 52,
      "marks": {
       "bold": true
      }
     }
    ],
    "is_collapsed": false,
    "cell_id": "c252409c7e114d87a1cc0c9472907c1c",
    "tags": [],
    "deepnote_cell_type": "text-cell-p"
   }
  },
  {
   "cell_type": "markdown",
   "source": "<a style='text-decoration:none;line-height:16px;display:flex;color:#5B5B62;padding:10px;justify-content:end;' href='https://deepnote.com?utm_source=created-in-deepnote-cell&projectId=8ea8948f-b978-492f-a6dd-8ac5feb4b472' target=\"_blank\">\n<img alt='Created in deepnote.com' style='display:inline;max-height:16px;margin:0px;margin-right:7.5px;' src='data:image/svg+xml;base64,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' > </img>\nCreated in <span style='font-weight:600;margin-left:4px;'>Deepnote</span></a>",
   "metadata": {
    "tags": [],
    "created_in_deepnote_cell": true,
    "deepnote_cell_type": "markdown"
   }
  }
 ],
 "nbformat": 4,
 "nbformat_minor": 2,
 "metadata": {
  "orig_nbformat": 2,
  "deepnote": {},
  "deepnote_notebook_id": "a208f888-36ca-422d-820c-3e618ab24e6f",
  "deepnote_persisted_session": {
   "createdAt": "2022-12-01T18:17:01.994Z"
  },
  "deepnote_execution_queue": []
 }
}