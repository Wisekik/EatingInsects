{
 "cells": [
  {
   "cell_type": "code",
   "source": "import pandas as pd\nimport numpy as np\nimport matplotlib.pyplot as plt\nimport requests\nimport json\nimport xmltodict\nfrom IPython.display import clear_output",
   "metadata": {
    "tags": [],
    "cell_id": "4155fd0f-f8a6-49fe-b5b4-f0f7d8051c14",
    "deepnote_to_be_reexecuted": false,
    "source_hash": "7665052e",
    "execution_start": 1668626624596,
    "execution_millis": 647,
    "deepnote_cell_type": "code",
    "deepnote_cell_height": 183.3333282470703
   },
   "outputs": [],
   "execution_count": null
  },
  {
   "cell_type": "markdown",
   "source": "## Data Import",
   "metadata": {
    "is_collapsed": false,
    "cell_id": "1b7a17d40d984a25907a82f68dcb7448",
    "tags": [],
    "formattedRanges": [],
    "deepnote_cell_type": "text-cell-h2"
   }
  },
  {
   "cell_type": "markdown",
   "source": "Reading the eSol dataset from tanpaku",
   "metadata": {
    "is_collapsed": false,
    "cell_id": "05f746399b1946b98a8c119531dbea4d",
    "tags": [],
    "formattedRanges": [
     {
      "type": "link",
      "url": "http://www.tanpaku.org/tp-esol/index.php?lang=en",
      "fromCodePoint": 30,
      "toCodePoint": 37,
      "ranges": []
     }
    ],
    "deepnote_cell_type": "text-cell-p"
   }
  },
  {
   "cell_type": "code",
   "source": "raw_sol_data = pd.read_csv('Raw/esol_data.tab',sep='\\t')",
   "metadata": {
    "cell_id": "f5e08e17bd6c4b7d959eb8ca2102b859",
    "tags": [],
    "deepnote_to_be_reexecuted": false,
    "source_hash": "cb5547a0",
    "execution_start": 1668626625247,
    "execution_millis": 44,
    "deepnote_cell_type": "code",
    "deepnote_cell_height": 75.33332824707031
   },
   "outputs": [],
   "execution_count": null
  },
  {
   "cell_type": "markdown",
   "source": "Remove the data records that have no solubility values, as we can not train or test on these.",
   "metadata": {
    "is_collapsed": false,
    "cell_id": "5dc9e98712034fea8cc52c1953e74db9",
    "tags": [],
    "formattedRanges": [],
    "deepnote_cell_type": "text-cell-p"
   }
  },
  {
   "cell_type": "code",
   "source": "raw_sol_data = raw_sol_data.dropna(subset=['Solubility(%)'])",
   "metadata": {
    "cell_id": "92927c4a63db4cfbb45f7f06ee46ed22",
    "tags": [],
    "deepnote_to_be_reexecuted": false,
    "source_hash": "f21d9607",
    "execution_start": 1668626625292,
    "execution_millis": 0,
    "deepnote_cell_type": "code",
    "deepnote_cell_height": 75.33332824707031
   },
   "outputs": [],
   "execution_count": null
  },
  {
   "cell_type": "markdown",
   "source": "Add Organism column to the raw eSol data. (for processing purposes)",
   "metadata": {
    "is_collapsed": false,
    "cell_id": "e2513f32b4b24935a0cf8c000226a8f3",
    "tags": [],
    "formattedRanges": [],
    "deepnote_cell_type": "text-cell-p"
   }
  },
  {
   "cell_type": "code",
   "source": "raw_sol_data.loc[:, 'Organism'] = 'Escherichia coli (strain K12)'",
   "metadata": {
    "cell_id": "5be65c9224654a0990c477ab91c72e39",
    "tags": [],
    "deepnote_to_be_reexecuted": false,
    "source_hash": "208e432",
    "execution_start": 1668626625293,
    "execution_millis": 42,
    "deepnote_cell_type": "code",
    "deepnote_cell_height": 75.33332824707031
   },
   "outputs": [],
   "execution_count": null
  },
  {
   "cell_type": "markdown",
   "source": "## Retrieving and Merging with UniProt Records",
   "metadata": {
    "is_collapsed": false,
    "cell_id": "0f970a68401b4e8fac00bc169b6d20f8",
    "tags": [],
    "formattedRanges": [],
    "deepnote_cell_type": "text-cell-h2"
   }
  },
  {
   "cell_type": "markdown",
   "source": "First setup a base function to retrieve a specific gene and organism from the UniProt Database.",
   "metadata": {
    "is_collapsed": false,
    "cell_id": "131bf610997a418d81bc99c50f33a771",
    "tags": [],
    "formattedRanges": [],
    "deepnote_cell_type": "text-cell-p"
   }
  },
  {
   "cell_type": "code",
   "source": "def retrieve_data_from_uniprot(gene_name, organism):\n    query = {\n        \"offset\": 0,\n        \"gene\": gene_name,\n        \"organism\": organism\n    }\n\n    response = requests.get(\"https://www.ebi.ac.uk/proteins/api/proteins\", params=query)\n    raw_content = response.content\n    content = xmltodict.parse(raw_content)\n\n    entry = content['uniprot']['entry']\n\n    if isinstance(entry, list):\n        return entry[0]\n    else:\n        return entry",
   "metadata": {
    "cell_id": "663e678afe6c4be8b6cd279f5f3705c5",
    "tags": [],
    "deepnote_to_be_reexecuted": false,
    "source_hash": "e040a19b",
    "execution_start": 1668626625336,
    "execution_millis": 0,
    "deepnote_cell_type": "code",
    "deepnote_cell_height": 363.33331298828125
   },
   "outputs": [],
   "execution_count": null
  },
  {
   "cell_type": "markdown",
   "source": "update_progress simply shows a progress bar",
   "metadata": {
    "is_collapsed": false,
    "cell_id": "74708f4eb76d4582b85e3e1e3313e249",
    "tags": [],
    "formattedRanges": [
     {
      "type": "marks",
      "fromCodePoint": 0,
      "toCodePoint": 15,
      "marks": {
       "code": true
      }
     }
    ],
    "deepnote_cell_type": "text-cell-p"
   }
  },
  {
   "cell_type": "code",
   "source": "def update_progress(actual, total, clear=True, title=\"Progress\"):\n    bar_length = 100\n\n    progress = (actual / total)\n\n    if isinstance(progress, int):\n        progress = float(progress)\n    if not isinstance(progress, float):\n        progress = 0\n    if progress < 0:\n        progress = 0\n    if progress >= 1:\n        progress = 1\n\n    block = int(round(bar_length * progress))\n\n    if clear:\n        clear_output(wait = True)\n\n    text = \"{0}: [{1}] {2:.1f}%\".format(title, \"#\" * block + \"-\" * (bar_length - block), progress * 100)\n    print(text)",
   "metadata": {
    "cell_id": "589a7640aca34e2d966d233b2d2db8e2",
    "tags": [],
    "deepnote_to_be_reexecuted": false,
    "source_hash": "18441432",
    "execution_start": 1668626625338,
    "execution_millis": 2,
    "deepnote_cell_type": "code",
    "deepnote_cell_height": 435.33331298828125
   },
   "outputs": [],
   "execution_count": null
  },
  {
   "cell_type": "markdown",
   "source": "retrieve_and_merge retrieves the data from UniProt and merges it with the eSol dataset, to add additional information.",
   "metadata": {
    "is_collapsed": false,
    "cell_id": "303e467510d04dd390f6fca23091535b",
    "tags": [],
    "formattedRanges": [
     {
      "type": "marks",
      "fromCodePoint": 0,
      "toCodePoint": 18,
      "marks": {
       "code": true
      }
     },
     {
      "type": "marks",
      "fromCodePoint": 43,
      "toCodePoint": 50,
      "marks": {
       "bold": true
      }
     },
     {
      "type": "marks",
      "fromCodePoint": 74,
      "toCodePoint": 78,
      "marks": {
       "bold": true
      }
     }
    ],
    "deepnote_cell_type": "text-cell-p"
   }
  },
  {
   "cell_type": "code",
   "source": "def retrieve_and_merge(esol_dataset):\n    merged = pd.DataFrame(columns=['Gene Name', 'Solubility(%)', 'Yield(uM)',\n       'Yield(ug/ml)', 'Minus Sol', 'TF Sol', 'GroE Sol', 'KJE Sol',\n       'Minus(uM)', 'TF(uM)', 'GroE(uM)', 'KJE(uM)', 'Minus(ug/ml)',\n       'TF(ug/ml)', 'GroE(ug/ml)', 'KJE(ug/ml)', 'Calculated MW(kDa)',\n       'Calculated pI', 'Type of gene product', 'Gene product description',\n       'Cell location', 'Structure (PDB) id', 'SCOP assignment',\n       'Sequence', 'Sequence length', 'Sequence mass', 'Organism', 'UP_ID', 'UP_NAME'])\n\n    unknown = pd.DataFrame(columns=esol_dataset.columns)\n\n    total = len(esol_dataset)\n    progress = 0\n    success = 0\n    failed = 0\n\n    for index, row in esol_dataset.iterrows():\n        try:\n            uniprot_dict = retrieve_data_from_uniprot(gene_name = row['Gene name K-12'], organism = row[\"Organism\"])\n            new_data = {\n                'Gene Name': row['Gene name K-12'],\n                'Solubility(%)': row['Solubility(%)'],\n                'Yield(uM)': row['Yield(uM)'],\n                'Yield(ug/ml)': row['Yield(ug/ml)'],\n                'Minus Sol': row['Minus Sol'],\n                'TF Sol': row['TF Sol'],\n                'GroE Sol': row['GroE Sol'],\n                'KJE Sol': row['KJE Sol'],\n                'Minus(uM)': row['Minus(uM)'],\n                'TF(uM)': row['TF(uM)'],\n                'GroE(uM)': row['GroE(uM)'],\n                'KJE(uM)': row['KJE(uM)'],\n                'Minus(ug/ml)': row['Minus(ug/ml)'],\n                'TF(ug/ml)': row['TF(ug/ml)'],\n                'GroE(ug/ml)': row['GroE(ug/ml)'],\n                'KJE(ug/ml)': row['KJE(ug/ml)'],\n                'Calculated MW(kDa)': row['Calculated MW(kDa)'],\n                'Calculated pI':  row['Calculated pI'],\n                'Type of gene product': row['Type of gene product'],\n                'Gene product description': row['Gene product description'],\n                'Cell location':  row['Cell location'],\n                'Structure (PDB) id': row['Structure (PDB) id'],\n                'SCOP assignment': row['SCOP assignment'],\n                'Sequence': uniprot_dict['sequence']['#text'],\n                'Sequence length': uniprot_dict['sequence']['@length'],\n                'Sequence mass': uniprot_dict['sequence']['@mass'],\n                'Organism': uniprot_dict['organism']['name']['#text'],\n                'UP_ID': uniprot_dict['accession'],\n                'UP_NAME': uniprot_dict['name']\n            }\n\n            merged = pd.concat([merged, pd.DataFrame([new_data], columns=merged.columns)])\n            success += 1\n        except Exception as ex:\n            failed += 1\n            unknown = pd.concat([unknown, pd.DataFrame([row], columns=unknown.columns)])\n        \n        progress += 1\n        \n        update_progress(progress, total, clear=True)\n        update_progress(success, total, title=\"Sucess Ratio\", clear=False)\n        update_progress(failed, total, title=\"Failure Ratio\", clear=False)\n\n    return merged, unknown",
   "metadata": {
    "cell_id": "64adbef5cbd041f58b38033728936922",
    "tags": [],
    "deepnote_to_be_reexecuted": false,
    "source_hash": "e6e43c5e",
    "execution_start": 1668626625388,
    "execution_millis": 0,
    "deepnote_cell_type": "code",
    "deepnote_cell_height": 1214.3333740234375
   },
   "outputs": [],
   "execution_count": null
  },
  {
   "cell_type": "code",
   "source": "complete_data, unknown_data = retrieve_and_merge(raw_sol_data)",
   "metadata": {
    "cell_id": "f1597861023941a69e6813db15899c52",
    "tags": [],
    "deepnote_to_be_reexecuted": false,
    "source_hash": "2cbf7132",
    "execution_start": 1668626625388,
    "execution_millis": 1663834,
    "deepnote_cell_type": "code",
    "deepnote_cell_height": 145.60000610351562
   },
   "outputs": [
    {
     "name": "stdout",
     "text": "Progress: [####################################################################################################] 100.0%\nSucess Ratio: [####################################################################################################] 99.6%\nFailure Ratio: [----------------------------------------------------------------------------------------------------] 0.4%\n",
     "output_type": "stream"
    }
   ],
   "execution_count": null
  },
  {
   "cell_type": "markdown",
   "source": "Just save the generated datasets to the file storage.",
   "metadata": {
    "is_collapsed": false,
    "cell_id": "013378e4b2734d09b331e54058420ff5",
    "tags": [],
    "formattedRanges": [],
    "deepnote_cell_type": "text-cell-p"
   }
  },
  {
   "cell_type": "code",
   "source": "complete_data.to_csv('Processed Data/complete_data.csv', index=False)\nunknown_data.to_csv('Processed Data/missing_data.csv', index=False)",
   "metadata": {
    "cell_id": "484d41e096a143ec91b581935bfc2764",
    "tags": [],
    "deepnote_to_be_reexecuted": false,
    "source_hash": "e26d8d8b",
    "execution_start": 1668628288543,
    "execution_millis": 123,
    "deepnote_cell_type": "code",
    "deepnote_cell_height": 93.33332824707031
   },
   "outputs": [],
   "execution_count": null
  },
  {
   "cell_type": "markdown",
   "source": "See Data/Processed Data for the complete and missing data.",
   "metadata": {
    "is_collapsed": false,
    "cell_id": "c252409c7e114d87a1cc0c9472907c1c",
    "tags": [],
    "formattedRanges": [
     {
      "type": "marks",
      "fromCodePoint": 4,
      "toCodePoint": 23,
      "marks": {
       "code": true
      }
     },
     {
      "type": "marks",
      "fromCodePoint": 32,
      "toCodePoint": 40,
      "marks": {
       "bold": true
      }
     },
     {
      "type": "marks",
      "fromCodePoint": 45,
      "toCodePoint": 52,
      "marks": {
       "bold": true
      }
     }
    ],
    "deepnote_cell_type": "text-cell-p"
   }
  },
  {
   "cell_type": "markdown",
   "source": "<a style='text-decoration:none;line-height:16px;display:flex;color:#5B5B62;padding:10px;justify-content:end;' href='https://deepnote.com?utm_source=created-in-deepnote-cell&projectId=8ea8948f-b978-492f-a6dd-8ac5feb4b472' target=\"_blank\">\n<img alt='Created in deepnote.com' style='display:inline;max-height:16px;margin:0px;margin-right:7.5px;' src='data:image/svg+xml;base64,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' > </img>\nCreated in <span style='font-weight:600;margin-left:4px;'>Deepnote</span></a>",
   "metadata": {
    "tags": [],
    "created_in_deepnote_cell": true,
    "deepnote_cell_type": "markdown"
   }
  }
 ],
 "nbformat": 4,
 "nbformat_minor": 2,
 "metadata": {
  "orig_nbformat": 2,
  "deepnote": {},
  "deepnote_notebook_id": "a208f888-36ca-422d-820c-3e618ab24e6f",
  "deepnote_persisted_session": {
   "createdAt": "2022-11-16T21:18:03.592Z"
  },
  "deepnote_execution_queue": []
 }
}