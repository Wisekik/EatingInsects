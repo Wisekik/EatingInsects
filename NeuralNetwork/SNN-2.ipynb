{
 "cells": [
  {
   "cell_type": "code",
   "metadata": {
    "tags": [],
    "deepnote_to_be_reexecuted": false,
    "source_hash": "24a46bf4",
    "execution_start": 1668691522262,
    "execution_millis": 11767,
    "cell_id": "642ecada-eeb7-455e-9780-ad9f22d681a9",
    "deepnote_cell_type": "code",
    "deepnote_cell_height": 388.933349609375
   },
   "source": "import pandas as pd\nimport numpy as np\n\n# Make numpy values easier to read.\nnp.set_printoptions(precision=3, suppress=True)\n\nimport tensorflow as tf\nfrom tensorflow.keras import layers\nfrom sklearn.model_selection import train_test_split",
   "outputs": [
    {
     "name": "stderr",
     "text": "2022-11-17 13:25:22.251018: I tensorflow/core/platform/cpu_feature_guard.cc:193] This TensorFlow binary is optimized with oneAPI Deep Neural Network Library (oneDNN) to use the following CPU instructions in performance-critical operations:  AVX2 AVX512F FMA\nTo enable them in other operations, rebuild TensorFlow with the appropriate compiler flags.\n2022-11-17 13:25:22.969444: W tensorflow/stream_executor/platform/default/dso_loader.cc:64] Could not load dynamic library 'libcudart.so.11.0'; dlerror: libcudart.so.11.0: cannot open shared object file: No such file or directory\n2022-11-17 13:25:22.969471: I tensorflow/stream_executor/cuda/cudart_stub.cc:29] Ignore above cudart dlerror if you do not have a GPU set up on your machine.\n2022-11-17 13:25:23.017191: E tensorflow/stream_executor/cuda/cuda_blas.cc:2981] Unable to register cuBLAS factory: Attempting to register factory for plugin cuBLAS when one has already been registered\n2022-11-17 13:25:26.046063: W tensorflow/stream_executor/platform/default/dso_loader.cc:64] Could not load dynamic library 'libnvinfer.so.7'; dlerror: libnvinfer.so.7: cannot open shared object file: No such file or directory\n2022-11-17 13:25:26.047130: W tensorflow/stream_executor/platform/default/dso_loader.cc:64] Could not load dynamic library 'libnvinfer_plugin.so.7'; dlerror: libnvinfer_plugin.so.7: cannot open shared object file: No such file or directory\n2022-11-17 13:25:26.047145: W tensorflow/compiler/tf2tensorrt/utils/py_utils.cc:38] TF-TRT Warning: Cannot dlopen some TensorRT libraries. If you would like to use Nvidia GPU with TensorRT, please make sure the missing libraries mentioned above are installed properly.\n",
     "output_type": "stream"
    }
   ],
   "execution_count": null
  },
  {
   "cell_type": "code",
   "metadata": {
    "tags": [],
    "deepnote_to_be_reexecuted": false,
    "source_hash": "ceb54204",
    "execution_start": 1668691534036,
    "execution_millis": 40,
    "cell_id": "00001-2eff2696-69e6-4dd0-8aa9-b1f66dc44c14",
    "deepnote_cell_type": "code",
    "deepnote_cell_height": 75.33332824707031
   },
   "source": "data = pd.read_csv('../Data/Processed Data/complete_data.csv')",
   "outputs": [],
   "execution_count": null
  },
  {
   "cell_type": "code",
   "metadata": {
    "tags": [],
    "deepnote_to_be_reexecuted": false,
    "source_hash": "b42d3c7e",
    "execution_start": 1668691534087,
    "execution_millis": 32,
    "cell_id": "00002-4bafad65-993a-439a-a082-c18c54ec66fd",
    "deepnote_cell_type": "code",
    "deepnote_cell_height": 93.33332824707031
   },
   "source": "def normalize(col_data):\n    return (col_data - col_data.min())/(col_data.max()-col_data.min())",
   "outputs": [],
   "execution_count": null
  },
  {
   "cell_type": "code",
   "metadata": {
    "tags": [],
    "deepnote_to_be_reexecuted": false,
    "source_hash": "7994a6bf",
    "execution_start": 1668691534119,
    "execution_millis": 0,
    "cell_id": "00003-b6f12cbb-e743-4337-a50d-9d915cabe064",
    "deepnote_cell_type": "code",
    "deepnote_cell_height": 1448.3333740234375
   },
   "source": "class ANN:\n    def __init__(self, data):\n        self.data = data\n        self.X = None\n        self.X_train = None\n        self.X_test = None\n        self.y = None\n        self.y_train = None\n        self.y_test = None\n        self.model = None\n\n    @staticmethod\n    def MaxAminoAcidCount():\n        return 2000\n\n    def process(self):\n        if data is None or len(self.data) <= 0:\n            raise Error(\"Data has not been provided or an empty array has been given.\")\n\n        self.X = pd.DataFrame()\n        self.y = pd.DataFrame()\n\n        sequences = data['Sequence']\n        self.y = data['Solubility(%)']\n        \n        for idx, sequence in sequences.items():\n            current_value = sequences.iloc[0]\n            serie = pd.Series(tf.strings.bytes_split(current_value).numpy())\n\n            if len(serie) < ANN.MaxAminoAcidCount():\n                zeros_to_add = ANN.MaxAminoAcidCount() - len(serie)\n\n                serie = pd.concat([serie, pd.Series(np.zeros(zeros_to_add))])\n\n            self.X = self.X.append(serie, ignore_index=True)\n\n        self.y = normalize(self.y)\n    \n    def split(self):\n        if self.X is None or self.y is None:\n            raise Error(\"The data has not been processed. Please process the data first.\")\n\n        self.X_train, self.X_test, self.y_train, self.y_test = train_test_split(X, y, test_size=0.2, random_state=42)\n\n        return self.X_train, self.X_test, self.y_train, self.y_test\n    \n    def fit(self):\n        if self.X_train is None or self.y_train is None:\n            raise Error(\"The Training set does not exist. Please split the data using 'split()' before training the network.\")\n\n        self.model = tf.keras.Sequential([\n            layers.Dense(64),\n            layers.Dense(32),\n            layers.Dense(16),\n            layers.Dense(8),\n            layers.Dense(1)\n        ])\n\n        self.model.compile(loss = tf.keras.losses.MeanSquaredError(),\n        optimizer = tf.keras.optimizers.Adam())\n\n        self.model.fit(self.X_train, self.y_train, epochs=25)\n\n        return self.model\n\n    def evaluate(self):\n        if self.model is None:\n            raise Error(\"Network Model is not present. Train the network first before evaluating.\")\n        \n        # Should not occur as its a pre-condition for `fit()` and the precondition of evaluate is for `fit()` to have been run.\n        if self.X_test is None or self.y_test is None:\n            raise Error(\"The Training set does not exist. Please split the data using 'split()' before training the network.\")\n\n        eval_results = self.model.evaluate(self.X_test, self.y_test)\n        print(\"loss, accuracy\", eval_results)\n\n        return eval_results",
   "outputs": [],
   "execution_count": null
  },
  {
   "cell_type": "code",
   "metadata": {
    "tags": [],
    "deepnote_to_be_reexecuted": false,
    "source_hash": "f4250d1f",
    "execution_start": 1668691534123,
    "execution_millis": 7,
    "cell_id": "00004-b89c056d-b8d9-40f9-8334-81ca313eb530",
    "deepnote_cell_type": "code",
    "deepnote_cell_height": 75.33332824707031
   },
   "source": "network = ANN(data)",
   "outputs": [],
   "execution_count": null
  },
  {
   "cell_type": "code",
   "metadata": {
    "tags": [],
    "deepnote_to_be_reexecuted": false,
    "source_hash": "5bf944aa",
    "execution_start": 1668691534139,
    "execution_millis": 118181,
    "cell_id": "00005-fd651bac-9306-4207-87e8-ffed8ff73bf1",
    "deepnote_cell_type": "code",
    "deepnote_cell_height": 437.933349609375,
    "deepnote_output_heights": [
     null,
     39
    ]
   },
   "source": "network.process()",
   "execution_count": null,
   "outputs": [
    {
     "name": "stderr",
     "text": "2022-11-17 13:25:34.159417: W tensorflow/stream_executor/platform/default/dso_loader.cc:64] Could not load dynamic library 'libcuda.so.1'; dlerror: libcuda.so.1: cannot open shared object file: No such file or directory\n2022-11-17 13:25:34.159463: W tensorflow/stream_executor/cuda/cuda_driver.cc:263] failed call to cuInit: UNKNOWN ERROR (303)\n2022-11-17 13:25:34.159487: I tensorflow/stream_executor/cuda/cuda_diagnostics.cc:156] kernel driver does not appear to be running on this host (p-8ea8948f-b978-492f-a6dd-8ac5feb4b472): /proc/driver/nvidia/version does not exist\n2022-11-17 13:25:34.159895: I tensorflow/core/platform/cpu_feature_guard.cc:193] This TensorFlow binary is optimized with oneAPI Deep Neural Network Library (oneDNN) to use the following CPU instructions in performance-critical operations:  AVX2 AVX512F FMA\nTo enable them in other operations, rebuild TensorFlow with the appropriate compiler flags.\n/tmp/ipykernel_155/2173504080.py:35: FutureWarning: The frame.append method is deprecated and will be removed from pandas in a future version. Use pandas.concat instead.\n  self.X = self.X.append(serie, ignore_index=True)\n",
     "output_type": "stream"
    },
    {
     "output_type": "error",
     "ename": "KernelInterrupted",
     "evalue": "Execution interrupted by the Jupyter kernel.",
     "traceback": [
      "\u001b[0;31m---------------------------------------------------------------------------\u001b[0m",
      "\u001b[0;31mKernelInterrupted\u001b[0m: Execution interrupted by the Jupyter kernel."
     ]
    }
   ]
  },
  {
   "cell_type": "code",
   "metadata": {
    "tags": [],
    "cell_id": "00006-1fe59b77-54a2-47fa-91bf-599260e61685",
    "deepnote_to_be_reexecuted": true,
    "source_hash": "b623e53d",
    "deepnote_cell_type": "code",
    "deepnote_cell_height": 75.33332824707031
   },
   "source": "",
   "execution_count": null,
   "outputs": []
  },
  {
   "cell_type": "markdown",
   "source": "<a style='text-decoration:none;line-height:16px;display:flex;color:#5B5B62;padding:10px;justify-content:end;' href='https://deepnote.com?utm_source=created-in-deepnote-cell&projectId=8ea8948f-b978-492f-a6dd-8ac5feb4b472' target=\"_blank\">\n<img alt='Created in deepnote.com' style='display:inline;max-height:16px;margin:0px;margin-right:7.5px;' src='data:image/svg+xml;base64,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' > </img>\nCreated in <span style='font-weight:600;margin-left:4px;'>Deepnote</span></a>",
   "metadata": {
    "tags": [],
    "created_in_deepnote_cell": true,
    "deepnote_cell_type": "markdown"
   }
  }
 ],
 "nbformat": 4,
 "nbformat_minor": 2,
 "metadata": {
  "orig_nbformat": 2,
  "deepnote": {},
  "deepnote_notebook_id": "632ca8c1-4ca9-4bda-a5b5-956e8d98b24b",
  "deepnote_persisted_session": {
   "createdAt": "2022-11-16T21:18:04.611Z"
  },
  "deepnote_execution_queue": []
 }
}