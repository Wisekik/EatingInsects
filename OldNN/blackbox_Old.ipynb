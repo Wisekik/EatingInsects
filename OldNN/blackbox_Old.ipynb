{
 "cells": [
  {
   "cell_type": "markdown",
   "source": "# Detect alternative insect-based ingredients for solubility properties.",
   "metadata": {
    "formattedRanges": [],
    "is_collapsed": false,
    "cell_id": "0cb0eb823c3546eaa3731c06788e288a",
    "tags": [],
    "deepnote_cell_type": "text-cell-h1"
   }
  },
  {
   "cell_type": "markdown",
   "source": "",
   "metadata": {
    "formattedRanges": [],
    "is_collapsed": false,
    "cell_id": "d4100b12-a42a-4504-ad34-4c12c76e5ead",
    "tags": [],
    "deepnote_cell_type": "text-cell-p"
   }
  },
  {
   "cell_type": "code",
   "metadata": {
    "tags": [],
    "cell_id": "41fcb8a9-023b-4607-b38d-251f052589e1",
    "deepnote_to_be_reexecuted": false,
    "source_hash": "5a5711a4",
    "execution_start": 1668598255869,
    "execution_millis": 7400,
    "deepnote_cell_type": "code",
    "deepnote_cell_height": 554.6666870117188
   },
   "source": "import pandas as pd\nimport numpy as np\nimport matplotlib.pyplot as plt\nimport seaborn as sns\nimport requests\nimport json\nimport torch\nimport torch.nn as nn\nimport torch.nn.functional as F\nimport torch.optim as optim\nimport xmltodict\nfrom sklearn.model_selection import train_test_split\nimport tensorflow as tf\nfrom tensorflow import keras\nfrom tensorflow.keras import layers, Input\nfrom IPython.display import clear_output",
   "execution_count": null,
   "outputs": [
    {
     "name": "stderr",
     "text": "/shared-libs/python3.9/py/lib/python3.9/site-packages/tqdm/auto.py:22: TqdmWarning: IProgress not found. Please update jupyter and ipywidgets. See https://ipywidgets.readthedocs.io/en/stable/user_install.html\n  from .autonotebook import tqdm as notebook_tqdm\n2022-11-16 11:31:00.777771: I tensorflow/core/platform/cpu_feature_guard.cc:193] This TensorFlow binary is optimized with oneAPI Deep Neural Network Library (oneDNN) to use the following CPU instructions in performance-critical operations:  AVX2 FMA\nTo enable them in other operations, rebuild TensorFlow with the appropriate compiler flags.\n2022-11-16 11:31:00.897648: W tensorflow/stream_executor/platform/default/dso_loader.cc:64] Could not load dynamic library 'libcudart.so.11.0'; dlerror: libcudart.so.11.0: cannot open shared object file: No such file or directory\n2022-11-16 11:31:00.897667: I tensorflow/stream_executor/cuda/cudart_stub.cc:29] Ignore above cudart dlerror if you do not have a GPU set up on your machine.\n2022-11-16 11:31:00.916439: E tensorflow/stream_executor/cuda/cuda_blas.cc:2981] Unable to register cuBLAS factory: Attempting to register factory for plugin cuBLAS when one has already been registered\n2022-11-16 11:31:02.285873: W tensorflow/stream_executor/platform/default/dso_loader.cc:64] Could not load dynamic library 'libnvinfer.so.7'; dlerror: libnvinfer.so.7: cannot open shared object file: No such file or directory\n2022-11-16 11:31:02.285941: W tensorflow/stream_executor/platform/default/dso_loader.cc:64] Could not load dynamic library 'libnvinfer_plugin.so.7'; dlerror: libnvinfer_plugin.so.7: cannot open shared object file: No such file or directory\n2022-11-16 11:31:02.285948: W tensorflow/compiler/tf2tensorrt/utils/py_utils.cc:38] TF-TRT Warning: Cannot dlopen some TensorRT libraries. If you would like to use Nvidia GPU with TensorRT, please make sure the missing libraries mentioned above are installed properly.\n",
     "output_type": "stream"
    }
   ]
  },
  {
   "cell_type": "code",
   "metadata": {
    "cell_id": "43ff07fcac224ac5b1bdc33569e45522",
    "tags": [],
    "deepnote_to_be_reexecuted": false,
    "source_hash": "d8dcba1b",
    "execution_start": 1668598430262,
    "execution_millis": 11,
    "deepnote_cell_type": "code",
    "deepnote_cell_height": 75.33332824707031
   },
   "source": "raw_data = pd.read_csv('preprocessing/esol_data.tab',sep='\\t')",
   "execution_count": null,
   "outputs": []
  },
  {
   "cell_type": "code",
   "metadata": {
    "cell_id": "40c4fdbcb3764dcabae9c06ac4a5810c",
    "tags": [],
    "deepnote_to_be_reexecuted": false,
    "source_hash": "86042923",
    "execution_start": 1668598432148,
    "execution_millis": 1,
    "deepnote_cell_type": "code",
    "deepnote_cell_height": 93.33332824707031
   },
   "source": "# delete data if value of Solubility is Nan\ndata = raw_data.dropna(subset=['Solubility(%)'])",
   "execution_count": null,
   "outputs": []
  },
  {
   "cell_type": "markdown",
   "source": "## Retrieve Additional Protein Data from UniProt",
   "metadata": {
    "formattedRanges": [],
    "is_collapsed": false,
    "cell_id": "119da6827bc74725986b90bb57eecc10",
    "tags": [],
    "deepnote_cell_type": "text-cell-h2"
   }
  },
  {
   "cell_type": "code",
   "metadata": {
    "cell_id": "9094a9bb93a14320b5501432178790c7",
    "tags": [],
    "deepnote_to_be_reexecuted": false,
    "source_hash": "16569a79",
    "execution_start": 1668358104795,
    "execution_millis": 3,
    "deepnote_cell_type": "code",
    "deepnote_cell_height": 381.33331298828125
   },
   "source": "def retrieve_data_from_uniprot(gene, description, organism):\n    # Initialize Query Parameters\n    query = {\n        \"offset\": 0,\n        \"gene\": gene,\n        \"protein\": description,\n        \"organism\": organism\n    }\n\n    # Call UniProt Api\n    response = requests.get(\"https://www.ebi.ac.uk/proteins/api/proteins\", params=query)\n\n    raw_content = response.content\n\n    # Read XML Response Body\n    data = xmltodict.parse(raw_content)\n\n    return data['uniprot']['entry'][0]",
   "execution_count": null,
   "outputs": []
  },
  {
   "cell_type": "code",
   "metadata": {
    "cell_id": "3db804448a474ec5a7ba5ed7f170856a",
    "tags": [],
    "deepnote_to_be_reexecuted": false,
    "source_hash": "c8a8c27a",
    "execution_start": 1668358105946,
    "execution_millis": 10,
    "deepnote_cell_type": "code",
    "deepnote_cell_height": 246,
    "deepnote_output_heights": [
     155
    ]
   },
   "source": "data.columns",
   "execution_count": null,
   "outputs": [
    {
     "output_type": "execute_result",
     "execution_count": 11,
     "data": {
      "text/plain": "Index(['JW_ID', 'ECK number', 'B number', 'Gene name K-12', 'Locus name K-12',\n       'Synonyms of locus names K-12', 'Solubility(%)', 'Yield(uM)',\n       'Yield(ug/ml)', 'Minus Sol', 'TF Sol', 'GroE Sol', 'KJE Sol',\n       'Minus(uM)', 'TF(uM)', 'GroE(uM)', 'KJE(uM)', 'Minus(ug/ml)',\n       'TF(ug/ml)', 'GroE(ug/ml)', 'KJE(ug/ml)', 'Calculated MW(kDa)',\n       'Calculated pI', 'Type of gene product', 'Gene product description',\n       'Cell location', 'Structure (PDB) id', 'SCOP assignment'],\n      dtype='object')"
     },
     "metadata": {}
    }
   ]
  },
  {
   "cell_type": "code",
   "metadata": {
    "cell_id": "5a62195213b64389adaee1b67ff966fd",
    "tags": [],
    "deepnote_to_be_reexecuted": false,
    "source_hash": "18441432",
    "execution_start": 1668358111006,
    "execution_millis": 2,
    "deepnote_cell_type": "code",
    "deepnote_cell_height": 435.33331298828125
   },
   "source": "def update_progress(actual, total, clear=True, title=\"Progress\"):\n    bar_length = 100\n\n    progress = (actual / total)\n\n    if isinstance(progress, int):\n        progress = float(progress)\n    if not isinstance(progress, float):\n        progress = 0\n    if progress < 0:\n        progress = 0\n    if progress >= 1:\n        progress = 1\n\n    block = int(round(bar_length * progress))\n\n    if clear:\n        clear_output(wait = True)\n\n    text = \"{0}: [{1}] {2:.1f}%\".format(title, \"#\" * block + \"-\" * (bar_length - block), progress * 100)\n    print(text)",
   "execution_count": null,
   "outputs": []
  },
  {
   "cell_type": "code",
   "metadata": {
    "cell_id": "1a2c6d3079284fa3a75e1fae12ffc1c6",
    "tags": [],
    "deepnote_to_be_reexecuted": false,
    "source_hash": "85c73e35",
    "execution_start": 1668358123457,
    "execution_millis": 2,
    "deepnote_cell_type": "code",
    "deepnote_cell_height": 1214.3333740234375
   },
   "source": "def retrieve_and_merge(esol_dataset):\n    merged = pd.DataFrame(columns=['Gene Name', 'Solubility(%)', 'Yield(uM)',\n       'Yield(ug/ml)', 'Minus Sol', 'TF Sol', 'GroE Sol', 'KJE Sol',\n       'Minus(uM)', 'TF(uM)', 'GroE(uM)', 'KJE(uM)', 'Minus(ug/ml)',\n       'TF(ug/ml)', 'GroE(ug/ml)', 'KJE(ug/ml)', 'Calculated MW(kDa)',\n       'Calculated pI', 'Type of gene product', 'Gene product description',\n       'Cell location', 'Structure (PDB) id', 'SCOP assignment',\n       'Sequence', 'Sequence length', 'Sequence mass', 'Organism', 'UP_ID', 'UP_NAME'])\n\n    unknown = pd.DataFrame(columns=data.columns)\n\n    total = len(esol_dataset)\n    progress = 0\n    success = 0\n    failed = 0\n\n    for index, row in esol_dataset.iterrows():\n        try:\n            uniprot_dict = retrieve_data_from_uniprot(gene = row['Gene name K-12'], description = row['Gene product description'], organism = \"Escherichia coli\")\n            new_data = {\n                'Gene Name': row['Gene name K-12'],\n                'Solubility(%)': row['Solubility(%)'],\n                'Yield(uM)': row['Yield(uM)'],\n                'Yield(ug/ml)': row['Yield(ug/ml)'],\n                'Minus Sol': row['Minus Sol'],\n                'TF Sol': row['TF Sol'],\n                'GroE Sol': row['GroE Sol'],\n                'KJE Sol': row['KJE Sol'],\n                'Minus(uM)': row['Minus(uM)'],\n                'TF(uM)': row['TF(uM)'],\n                'GroE(uM)': row['GroE(uM)'],\n                'KJE(uM)': row['KJE(uM)'],\n                'Minus(ug/ml)': row['Minus(ug/ml)'],\n                'TF(ug/ml)': row['TF(ug/ml)'],\n                'GroE(ug/ml)': row['GroE(ug/ml)'],\n                'KJE(ug/ml)': row['KJE(ug/ml)'],\n                'Calculated MW(kDa)': row['Calculated MW(kDa)'],\n                'Calculated pI':  row['Calculated pI'],\n                'Type of gene product': row['Type of gene product'],\n                'Gene product description': row['Gene product description'],\n                'Cell location':  row['Cell location'],\n                'Structure (PDB) id': row['Structure (PDB) id'],\n                'SCOP assignment': row['SCOP assignment'],\n                'Sequence': uniprot_dict['sequence']['#text'],\n                'Sequence length': uniprot_dict['sequence']['@length'],\n                'Sequence mass': uniprot_dict['sequence']['@mass'],\n                'Organism': uniprot_dict['organism']['name']['#text'],\n                'UP_ID': uniprot_dict['accession'],\n                'UP_NAME': uniprot_dict['name']\n            }\n\n            merged = pd.concat([merged, pd.DataFrame([new_data], columns=merged.columns)])\n            success += 1\n        except Exception as ex:\n            failed += 1\n            unknown = pd.concat([unknown, pd.DataFrame([row], columns=unknown.columns)])\n        \n        progress += 1\n        \n        update_progress(progress, total, clear=True)\n        update_progress(success, total, title=\"Sucess Ratio\", clear=False)\n        update_progress(failed, total, title=\"Failure Ratio\", clear=False)\n\n    return merged, unknown",
   "execution_count": null,
   "outputs": []
  },
  {
   "cell_type": "code",
   "metadata": {
    "cell_id": "a950c2e32e7442a38255b80468937cdb",
    "tags": [],
    "deepnote_to_be_reexecuted": false,
    "source_hash": "e71b3a2",
    "execution_start": 1668358124674,
    "execution_millis": 2866483,
    "deepnote_cell_type": "code",
    "deepnote_cell_height": 145.60000610351562
   },
   "source": "complete_data, unknown_data = retrieve_and_merge(data)",
   "execution_count": null,
   "outputs": [
    {
     "name": "stdout",
     "text": "Progress: [####################################################################################################] 100.0%\nSucess Ratio: [##########################################----------------------------------------------------------] 41.6%\nFailure Ratio: [##########################################################------------------------------------------] 58.4%\n",
     "output_type": "stream"
    }
   ]
  },
  {
   "cell_type": "code",
   "metadata": {
    "cell_id": "3ae332fb72dc4e6fbe4d0bee19c183ab",
    "tags": [],
    "deepnote_to_be_reexecuted": false,
    "source_hash": "230bc2af",
    "execution_start": 1668361493782,
    "execution_millis": 86,
    "deepnote_cell_type": "code",
    "deepnote_cell_height": 93.33332824707031
   },
   "source": "complete_data.to_csv('complete_esol_uniprot_data.csv', index=False)\nunknown_data.to_csv('missing_esol_uniprot_data.csv', index=False)",
   "execution_count": null,
   "outputs": []
  },
  {
   "cell_type": "code",
   "metadata": {
    "cell_id": "721f0a0ad73340e4af8893562d1b3f7a",
    "tags": [],
    "deepnote_to_be_reexecuted": false,
    "source_hash": "245c16eb",
    "execution_start": 1668163189578,
    "execution_millis": 380,
    "deepnote_cell_type": "code",
    "deepnote_cell_height": 224.6666717529297
   },
   "source": "data[data['JW_ID'] == 'JW0004']",
   "execution_count": null,
   "outputs": [
    {
     "output_type": "execute_result",
     "execution_count": 69,
     "data": {
      "application/vnd.deepnote.dataframe.v3+json": {
       "column_count": 28,
       "row_count": 1,
       "columns": [
        {
         "name": "JW_ID",
         "dtype": "object",
         "stats": {
          "unique_count": 1,
          "nan_count": 0,
          "categories": [
           {
            "name": "JW0004",
            "count": 1
           }
          ]
         }
        },
        {
         "name": "ECK number",
         "dtype": "object",
         "stats": {
          "unique_count": 1,
          "nan_count": 0,
          "categories": [
           {
            "name": "ECK0005",
            "count": 1
           }
          ]
         }
        },
        {
         "name": "B number",
         "dtype": "object",
         "stats": {
          "unique_count": 1,
          "nan_count": 0,
          "categories": [
           {
            "name": "b0005",
            "count": 1
           }
          ]
         }
        },
        {
         "name": "Gene name K-12",
         "dtype": "object",
         "stats": {
          "unique_count": 1,
          "nan_count": 0,
          "categories": [
           {
            "name": "yaaX",
            "count": 1
           }
          ]
         }
        },
        {
         "name": "Locus name K-12",
         "dtype": "object",
         "stats": {
          "unique_count": 1,
          "nan_count": 0,
          "categories": [
           {
            "name": "yaaX",
            "count": 1
           }
          ]
         }
        },
        {
         "name": "Synonyms of locus names K-12",
         "dtype": "object",
         "stats": {
          "unique_count": 0,
          "nan_count": 1,
          "categories": [
           {
            "name": "Missing",
            "count": 1
           }
          ]
         }
        },
        {
         "name": "Solubility(%)",
         "dtype": "float64",
         "stats": {
          "unique_count": 1,
          "nan_count": 0,
          "min": "78.0",
          "max": "78.0",
          "histogram": [
           {
            "bin_start": 77.5,
            "bin_end": 77.6,
            "count": 0
           },
           {
            "bin_start": 77.6,
            "bin_end": 77.7,
            "count": 0
           },
           {
            "bin_start": 77.7,
            "bin_end": 77.8,
            "count": 0
           },
           {
            "bin_start": 77.8,
            "bin_end": 77.9,
            "count": 0
           },
           {
            "bin_start": 77.9,
            "bin_end": 78,
            "count": 0
           },
           {
            "bin_start": 78,
            "bin_end": 78.1,
            "count": 1
           },
           {
            "bin_start": 78.1,
            "bin_end": 78.2,
            "count": 0
           },
           {
            "bin_start": 78.2,
            "bin_end": 78.3,
            "count": 0
           },
           {
            "bin_start": 78.3,
            "bin_end": 78.4,
            "count": 0
           },
           {
            "bin_start": 78.4,
            "bin_end": 78.5,
            "count": 0
           }
          ]
         }
        },
        {
         "name": "Yield(uM)",
         "dtype": "float64",
         "stats": {
          "unique_count": 1,
          "nan_count": 0,
          "min": "1.2",
          "max": "1.2",
          "histogram": [
           {
            "bin_start": 0.7,
            "bin_end": 0.7999999999999999,
            "count": 0
           },
           {
            "bin_start": 0.7999999999999999,
            "bin_end": 0.8999999999999999,
            "count": 0
           },
           {
            "bin_start": 0.8999999999999999,
            "bin_end": 1,
            "count": 0
           },
           {
            "bin_start": 1,
            "bin_end": 1.1,
            "count": 0
           },
           {
            "bin_start": 1.1,
            "bin_end": 1.2,
            "count": 0
           },
           {
            "bin_start": 1.2,
            "bin_end": 1.3,
            "count": 1
           },
           {
            "bin_start": 1.3,
            "bin_end": 1.4,
            "count": 0
           },
           {
            "bin_start": 1.4,
            "bin_end": 1.5,
            "count": 0
           },
           {
            "bin_start": 1.5,
            "bin_end": 1.6,
            "count": 0
           },
           {
            "bin_start": 1.6,
            "bin_end": 1.7,
            "count": 0
           }
          ]
         }
        },
        {
         "name": "Yield(ug/ml)",
         "dtype": "float64",
         "stats": {
          "unique_count": 1,
          "nan_count": 0,
          "min": "14.0",
          "max": "14.0",
          "histogram": [
           {
            "bin_start": 13.5,
            "bin_end": 13.6,
            "count": 0
           },
           {
            "bin_start": 13.6,
            "bin_end": 13.7,
            "count": 0
           },
           {
            "bin_start": 13.7,
            "bin_end": 13.8,
            "count": 0
           },
           {
            "bin_start": 13.8,
            "bin_end": 13.9,
            "count": 0
           },
           {
            "bin_start": 13.9,
            "bin_end": 14,
            "count": 0
           },
           {
            "bin_start": 14,
            "bin_end": 14.1,
            "count": 1
           },
           {
            "bin_start": 14.1,
            "bin_end": 14.2,
            "count": 0
           },
           {
            "bin_start": 14.2,
            "bin_end": 14.3,
            "count": 0
           },
           {
            "bin_start": 14.3,
            "bin_end": 14.4,
            "count": 0
           },
           {
            "bin_start": 14.4,
            "bin_end": 14.5,
            "count": 0
           }
          ]
         }
        },
        {
         "name": "Minus Sol",
         "dtype": "float64",
         "stats": {
          "unique_count": 0,
          "nan_count": 1,
          "min": null,
          "max": null,
          "histogram": [
           {
            "bin_start": 0,
            "bin_end": 0.1,
            "count": 0
           },
           {
            "bin_start": 0.1,
            "bin_end": 0.2,
            "count": 0
           },
           {
            "bin_start": 0.2,
            "bin_end": 0.30000000000000004,
            "count": 0
           },
           {
            "bin_start": 0.30000000000000004,
            "bin_end": 0.4,
            "count": 0
           },
           {
            "bin_start": 0.4,
            "bin_end": 0.5,
            "count": 0
           },
           {
            "bin_start": 0.5,
            "bin_end": 0.6000000000000001,
            "count": 0
           },
           {
            "bin_start": 0.6000000000000001,
            "bin_end": 0.7000000000000001,
            "count": 0
           },
           {
            "bin_start": 0.7000000000000001,
            "bin_end": 0.8,
            "count": 0
           },
           {
            "bin_start": 0.8,
            "bin_end": 0.9,
            "count": 0
           },
           {
            "bin_start": 0.9,
            "bin_end": 1,
            "count": 0
           }
          ]
         }
        },
        {
         "name": "TF Sol",
         "dtype": "float64",
         "stats": {
          "unique_count": 0,
          "nan_count": 1,
          "min": null,
          "max": null,
          "histogram": [
           {
            "bin_start": 0,
            "bin_end": 0.1,
            "count": 0
           },
           {
            "bin_start": 0.1,
            "bin_end": 0.2,
            "count": 0
           },
           {
            "bin_start": 0.2,
            "bin_end": 0.30000000000000004,
            "count": 0
           },
           {
            "bin_start": 0.30000000000000004,
            "bin_end": 0.4,
            "count": 0
           },
           {
            "bin_start": 0.4,
            "bin_end": 0.5,
            "count": 0
           },
           {
            "bin_start": 0.5,
            "bin_end": 0.6000000000000001,
            "count": 0
           },
           {
            "bin_start": 0.6000000000000001,
            "bin_end": 0.7000000000000001,
            "count": 0
           },
           {
            "bin_start": 0.7000000000000001,
            "bin_end": 0.8,
            "count": 0
           },
           {
            "bin_start": 0.8,
            "bin_end": 0.9,
            "count": 0
           },
           {
            "bin_start": 0.9,
            "bin_end": 1,
            "count": 0
           }
          ]
         }
        },
        {
         "name": "GroE Sol",
         "dtype": "float64",
         "stats": {
          "unique_count": 0,
          "nan_count": 1,
          "min": null,
          "max": null,
          "histogram": [
           {
            "bin_start": 0,
            "bin_end": 0.1,
            "count": 0
           },
           {
            "bin_start": 0.1,
            "bin_end": 0.2,
            "count": 0
           },
           {
            "bin_start": 0.2,
            "bin_end": 0.30000000000000004,
            "count": 0
           },
           {
            "bin_start": 0.30000000000000004,
            "bin_end": 0.4,
            "count": 0
           },
           {
            "bin_start": 0.4,
            "bin_end": 0.5,
            "count": 0
           },
           {
            "bin_start": 0.5,
            "bin_end": 0.6000000000000001,
            "count": 0
           },
           {
            "bin_start": 0.6000000000000001,
            "bin_end": 0.7000000000000001,
            "count": 0
           },
           {
            "bin_start": 0.7000000000000001,
            "bin_end": 0.8,
            "count": 0
           },
           {
            "bin_start": 0.8,
            "bin_end": 0.9,
            "count": 0
           },
           {
            "bin_start": 0.9,
            "bin_end": 1,
            "count": 0
           }
          ]
         }
        },
        {
         "name": "KJE Sol",
         "dtype": "float64",
         "stats": {
          "unique_count": 0,
          "nan_count": 1,
          "min": null,
          "max": null,
          "histogram": [
           {
            "bin_start": 0,
            "bin_end": 0.1,
            "count": 0
           },
           {
            "bin_start": 0.1,
            "bin_end": 0.2,
            "count": 0
           },
           {
            "bin_start": 0.2,
            "bin_end": 0.30000000000000004,
            "count": 0
           },
           {
            "bin_start": 0.30000000000000004,
            "bin_end": 0.4,
            "count": 0
           },
           {
            "bin_start": 0.4,
            "bin_end": 0.5,
            "count": 0
           },
           {
            "bin_start": 0.5,
            "bin_end": 0.6000000000000001,
            "count": 0
           },
           {
            "bin_start": 0.6000000000000001,
            "bin_end": 0.7000000000000001,
            "count": 0
           },
           {
            "bin_start": 0.7000000000000001,
            "bin_end": 0.8,
            "count": 0
           },
           {
            "bin_start": 0.8,
            "bin_end": 0.9,
            "count": 0
           },
           {
            "bin_start": 0.9,
            "bin_end": 1,
            "count": 0
           }
          ]
         }
        },
        {
         "name": "Minus(uM)",
         "dtype": "float64",
         "stats": {
          "unique_count": 0,
          "nan_count": 1,
          "min": null,
          "max": null,
          "histogram": [
           {
            "bin_start": 0,
            "bin_end": 0.1,
            "count": 0
           },
           {
            "bin_start": 0.1,
            "bin_end": 0.2,
            "count": 0
           },
           {
            "bin_start": 0.2,
            "bin_end": 0.30000000000000004,
            "count": 0
           },
           {
            "bin_start": 0.30000000000000004,
            "bin_end": 0.4,
            "count": 0
           },
           {
            "bin_start": 0.4,
            "bin_end": 0.5,
            "count": 0
           },
           {
            "bin_start": 0.5,
            "bin_end": 0.6000000000000001,
            "count": 0
           },
           {
            "bin_start": 0.6000000000000001,
            "bin_end": 0.7000000000000001,
            "count": 0
           },
           {
            "bin_start": 0.7000000000000001,
            "bin_end": 0.8,
            "count": 0
           },
           {
            "bin_start": 0.8,
            "bin_end": 0.9,
            "count": 0
           },
           {
            "bin_start": 0.9,
            "bin_end": 1,
            "count": 0
           }
          ]
         }
        },
        {
         "name": "TF(uM)",
         "dtype": "float64",
         "stats": {
          "unique_count": 0,
          "nan_count": 1,
          "min": null,
          "max": null,
          "histogram": [
           {
            "bin_start": 0,
            "bin_end": 0.1,
            "count": 0
           },
           {
            "bin_start": 0.1,
            "bin_end": 0.2,
            "count": 0
           },
           {
            "bin_start": 0.2,
            "bin_end": 0.30000000000000004,
            "count": 0
           },
           {
            "bin_start": 0.30000000000000004,
            "bin_end": 0.4,
            "count": 0
           },
           {
            "bin_start": 0.4,
            "bin_end": 0.5,
            "count": 0
           },
           {
            "bin_start": 0.5,
            "bin_end": 0.6000000000000001,
            "count": 0
           },
           {
            "bin_start": 0.6000000000000001,
            "bin_end": 0.7000000000000001,
            "count": 0
           },
           {
            "bin_start": 0.7000000000000001,
            "bin_end": 0.8,
            "count": 0
           },
           {
            "bin_start": 0.8,
            "bin_end": 0.9,
            "count": 0
           },
           {
            "bin_start": 0.9,
            "bin_end": 1,
            "count": 0
           }
          ]
         }
        },
        {
         "name": "GroE(uM)",
         "dtype": "float64",
         "stats": {
          "unique_count": 0,
          "nan_count": 1,
          "min": null,
          "max": null,
          "histogram": [
           {
            "bin_start": 0,
            "bin_end": 0.1,
            "count": 0
           },
           {
            "bin_start": 0.1,
            "bin_end": 0.2,
            "count": 0
           },
           {
            "bin_start": 0.2,
            "bin_end": 0.30000000000000004,
            "count": 0
           },
           {
            "bin_start": 0.30000000000000004,
            "bin_end": 0.4,
            "count": 0
           },
           {
            "bin_start": 0.4,
            "bin_end": 0.5,
            "count": 0
           },
           {
            "bin_start": 0.5,
            "bin_end": 0.6000000000000001,
            "count": 0
           },
           {
            "bin_start": 0.6000000000000001,
            "bin_end": 0.7000000000000001,
            "count": 0
           },
           {
            "bin_start": 0.7000000000000001,
            "bin_end": 0.8,
            "count": 0
           },
           {
            "bin_start": 0.8,
            "bin_end": 0.9,
            "count": 0
           },
           {
            "bin_start": 0.9,
            "bin_end": 1,
            "count": 0
           }
          ]
         }
        },
        {
         "name": "KJE(uM)",
         "dtype": "float64",
         "stats": {
          "unique_count": 0,
          "nan_count": 1,
          "min": null,
          "max": null,
          "histogram": [
           {
            "bin_start": 0,
            "bin_end": 0.1,
            "count": 0
           },
           {
            "bin_start": 0.1,
            "bin_end": 0.2,
            "count": 0
           },
           {
            "bin_start": 0.2,
            "bin_end": 0.30000000000000004,
            "count": 0
           },
           {
            "bin_start": 0.30000000000000004,
            "bin_end": 0.4,
            "count": 0
           },
           {
            "bin_start": 0.4,
            "bin_end": 0.5,
            "count": 0
           },
           {
            "bin_start": 0.5,
            "bin_end": 0.6000000000000001,
            "count": 0
           },
           {
            "bin_start": 0.6000000000000001,
            "bin_end": 0.7000000000000001,
            "count": 0
           },
           {
            "bin_start": 0.7000000000000001,
            "bin_end": 0.8,
            "count": 0
           },
           {
            "bin_start": 0.8,
            "bin_end": 0.9,
            "count": 0
           },
           {
            "bin_start": 0.9,
            "bin_end": 1,
            "count": 0
           }
          ]
         }
        },
        {
         "name": "Minus(ug/ml)",
         "dtype": "float64",
         "stats": {
          "unique_count": 0,
          "nan_count": 1,
          "min": null,
          "max": null,
          "histogram": [
           {
            "bin_start": 0,
            "bin_end": 0.1,
            "count": 0
           },
           {
            "bin_start": 0.1,
            "bin_end": 0.2,
            "count": 0
           },
           {
            "bin_start": 0.2,
            "bin_end": 0.30000000000000004,
            "count": 0
           },
           {
            "bin_start": 0.30000000000000004,
            "bin_end": 0.4,
            "count": 0
           },
           {
            "bin_start": 0.4,
            "bin_end": 0.5,
            "count": 0
           },
           {
            "bin_start": 0.5,
            "bin_end": 0.6000000000000001,
            "count": 0
           },
           {
            "bin_start": 0.6000000000000001,
            "bin_end": 0.7000000000000001,
            "count": 0
           },
           {
            "bin_start": 0.7000000000000001,
            "bin_end": 0.8,
            "count": 0
           },
           {
            "bin_start": 0.8,
            "bin_end": 0.9,
            "count": 0
           },
           {
            "bin_start": 0.9,
            "bin_end": 1,
            "count": 0
           }
          ]
         }
        },
        {
         "name": "TF(ug/ml)",
         "dtype": "float64",
         "stats": {
          "unique_count": 0,
          "nan_count": 1,
          "min": null,
          "max": null,
          "histogram": [
           {
            "bin_start": 0,
            "bin_end": 0.1,
            "count": 0
           },
           {
            "bin_start": 0.1,
            "bin_end": 0.2,
            "count": 0
           },
           {
            "bin_start": 0.2,
            "bin_end": 0.30000000000000004,
            "count": 0
           },
           {
            "bin_start": 0.30000000000000004,
            "bin_end": 0.4,
            "count": 0
           },
           {
            "bin_start": 0.4,
            "bin_end": 0.5,
            "count": 0
           },
           {
            "bin_start": 0.5,
            "bin_end": 0.6000000000000001,
            "count": 0
           },
           {
            "bin_start": 0.6000000000000001,
            "bin_end": 0.7000000000000001,
            "count": 0
           },
           {
            "bin_start": 0.7000000000000001,
            "bin_end": 0.8,
            "count": 0
           },
           {
            "bin_start": 0.8,
            "bin_end": 0.9,
            "count": 0
           },
           {
            "bin_start": 0.9,
            "bin_end": 1,
            "count": 0
           }
          ]
         }
        },
        {
         "name": "GroE(ug/ml)",
         "dtype": "float64",
         "stats": {
          "unique_count": 0,
          "nan_count": 1,
          "min": null,
          "max": null,
          "histogram": [
           {
            "bin_start": 0,
            "bin_end": 0.1,
            "count": 0
           },
           {
            "bin_start": 0.1,
            "bin_end": 0.2,
            "count": 0
           },
           {
            "bin_start": 0.2,
            "bin_end": 0.30000000000000004,
            "count": 0
           },
           {
            "bin_start": 0.30000000000000004,
            "bin_end": 0.4,
            "count": 0
           },
           {
            "bin_start": 0.4,
            "bin_end": 0.5,
            "count": 0
           },
           {
            "bin_start": 0.5,
            "bin_end": 0.6000000000000001,
            "count": 0
           },
           {
            "bin_start": 0.6000000000000001,
            "bin_end": 0.7000000000000001,
            "count": 0
           },
           {
            "bin_start": 0.7000000000000001,
            "bin_end": 0.8,
            "count": 0
           },
           {
            "bin_start": 0.8,
            "bin_end": 0.9,
            "count": 0
           },
           {
            "bin_start": 0.9,
            "bin_end": 1,
            "count": 0
           }
          ]
         }
        },
        {
         "name": "KJE(ug/ml)",
         "dtype": "float64",
         "stats": {
          "unique_count": 0,
          "nan_count": 1,
          "min": null,
          "max": null,
          "histogram": [
           {
            "bin_start": 0,
            "bin_end": 0.1,
            "count": 0
           },
           {
            "bin_start": 0.1,
            "bin_end": 0.2,
            "count": 0
           },
           {
            "bin_start": 0.2,
            "bin_end": 0.30000000000000004,
            "count": 0
           },
           {
            "bin_start": 0.30000000000000004,
            "bin_end": 0.4,
            "count": 0
           },
           {
            "bin_start": 0.4,
            "bin_end": 0.5,
            "count": 0
           },
           {
            "bin_start": 0.5,
            "bin_end": 0.6000000000000001,
            "count": 0
           },
           {
            "bin_start": 0.6000000000000001,
            "bin_end": 0.7000000000000001,
            "count": 0
           },
           {
            "bin_start": 0.7000000000000001,
            "bin_end": 0.8,
            "count": 0
           },
           {
            "bin_start": 0.8,
            "bin_end": 0.9,
            "count": 0
           },
           {
            "bin_start": 0.9,
            "bin_end": 1,
            "count": 0
           }
          ]
         }
        },
        {
         "name": "Calculated MW(kDa)",
         "dtype": "float64",
         "stats": {
          "unique_count": 1,
          "nan_count": 0,
          "min": "11.4",
          "max": "11.4",
          "histogram": [
           {
            "bin_start": 10.9,
            "bin_end": 11,
            "count": 0
           },
           {
            "bin_start": 11,
            "bin_end": 11.1,
            "count": 0
           },
           {
            "bin_start": 11.1,
            "bin_end": 11.200000000000001,
            "count": 0
           },
           {
            "bin_start": 11.200000000000001,
            "bin_end": 11.3,
            "count": 0
           },
           {
            "bin_start": 11.3,
            "bin_end": 11.4,
            "count": 0
           },
           {
            "bin_start": 11.4,
            "bin_end": 11.5,
            "count": 1
           },
           {
            "bin_start": 11.5,
            "bin_end": 11.6,
            "count": 0
           },
           {
            "bin_start": 11.6,
            "bin_end": 11.700000000000001,
            "count": 0
           },
           {
            "bin_start": 11.700000000000001,
            "bin_end": 11.8,
            "count": 0
           },
           {
            "bin_start": 11.8,
            "bin_end": 11.9,
            "count": 0
           }
          ]
         }
        },
        {
         "name": "Calculated pI",
         "dtype": "float64",
         "stats": {
          "unique_count": 1,
          "nan_count": 0,
          "min": "10.9",
          "max": "10.9",
          "histogram": [
           {
            "bin_start": 10.4,
            "bin_end": 10.5,
            "count": 0
           },
           {
            "bin_start": 10.5,
            "bin_end": 10.6,
            "count": 0
           },
           {
            "bin_start": 10.6,
            "bin_end": 10.700000000000001,
            "count": 0
           },
           {
            "bin_start": 10.700000000000001,
            "bin_end": 10.8,
            "count": 0
           },
           {
            "bin_start": 10.8,
            "bin_end": 10.9,
            "count": 0
           },
           {
            "bin_start": 10.9,
            "bin_end": 11,
            "count": 1
           },
           {
            "bin_start": 11,
            "bin_end": 11.1,
            "count": 0
           },
           {
            "bin_start": 11.1,
            "bin_end": 11.200000000000001,
            "count": 0
           },
           {
            "bin_start": 11.200000000000001,
            "bin_end": 11.3,
            "count": 0
           },
           {
            "bin_start": 11.3,
            "bin_end": 11.4,
            "count": 0
           }
          ]
         }
        },
        {
         "name": "Type of gene product",
         "dtype": "object",
         "stats": {
          "unique_count": 1,
          "nan_count": 0,
          "categories": [
           {
            "name": "o",
            "count": 1
           }
          ]
         }
        },
        {
         "name": "Gene product description",
         "dtype": "object",
         "stats": {
          "unique_count": 1,
          "nan_count": 0,
          "categories": [
           {
            "name": "predicted protein",
            "count": 1
           }
          ]
         }
        },
        {
         "name": "Cell location",
         "dtype": "object",
         "stats": {
          "unique_count": 1,
          "nan_count": 0,
          "categories": [
           {
            "name": "Periplasmic",
            "count": 1
           }
          ]
         }
        },
        {
         "name": "Structure (PDB) id",
         "dtype": "object",
         "stats": {
          "unique_count": 0,
          "nan_count": 1,
          "categories": [
           {
            "name": "Missing",
            "count": 1
           }
          ]
         }
        },
        {
         "name": "SCOP assignment",
         "dtype": "object",
         "stats": {
          "unique_count": 0,
          "nan_count": 1,
          "categories": [
           {
            "name": "Missing",
            "count": 1
           }
          ]
         }
        },
        {
         "name": "_deepnote_index_column",
         "dtype": "int64"
        }
       ],
       "rows": [
        {
         "JW_ID": "JW0004",
         "ECK number": "ECK0005",
         "B number": "b0005",
         "Gene name K-12": "yaaX",
         "Locus name K-12": "yaaX",
         "Synonyms of locus names K-12": "nan",
         "Solubility(%)": "78.0",
         "Yield(uM)": "1.2",
         "Yield(ug/ml)": "14.0",
         "Minus Sol": "nan",
         "TF Sol": "nan",
         "GroE Sol": "nan",
         "KJE Sol": "nan",
         "Minus(uM)": "nan",
         "TF(uM)": "nan",
         "GroE(uM)": "nan",
         "KJE(uM)": "nan",
         "Minus(ug/ml)": "nan",
         "TF(ug/ml)": "nan",
         "GroE(ug/ml)": "nan",
         "KJE(ug/ml)": "nan",
         "Calculated MW(kDa)": "11.4",
         "Calculated pI": "10.9",
         "Type of gene product": "o",
         "Gene product description": "predicted protein",
         "Cell location": "Periplasmic",
         "Structure (PDB) id": "nan",
         "SCOP assignment": "nan",
         "_deepnote_index_column": "2"
        }
       ]
      },
      "text/plain": "    JW_ID ECK number B number Gene name K-12 Locus name K-12  \\\n2  JW0004    ECK0005    b0005           yaaX            yaaX   \n\n  Synonyms of locus names K-12  Solubility(%)  Yield(uM)  Yield(ug/ml)  \\\n2                          NaN           78.0        1.2          14.0   \n\n   Minus Sol  ...  TF(ug/ml)  GroE(ug/ml)  KJE(ug/ml)  Calculated MW(kDa)  \\\n2        NaN  ...        NaN          NaN         NaN                11.4   \n\n   Calculated pI  Type of gene product  Gene product description  \\\n2           10.9                     o         predicted protein   \n\n   Cell location  Structure (PDB) id  SCOP assignment  \n2    Periplasmic                 NaN              NaN  \n\n[1 rows x 28 columns]",
      "text/html": "<div>\n<style scoped>\n    .dataframe tbody tr th:only-of-type {\n        vertical-align: middle;\n    }\n\n    .dataframe tbody tr th {\n        vertical-align: top;\n    }\n\n    .dataframe thead th {\n        text-align: right;\n    }\n</style>\n<table border=\"1\" class=\"dataframe\">\n  <thead>\n    <tr style=\"text-align: right;\">\n      <th></th>\n      <th>JW_ID</th>\n      <th>ECK number</th>\n      <th>B number</th>\n      <th>Gene name K-12</th>\n      <th>Locus name K-12</th>\n      <th>Synonyms of locus names K-12</th>\n      <th>Solubility(%)</th>\n      <th>Yield(uM)</th>\n      <th>Yield(ug/ml)</th>\n      <th>Minus Sol</th>\n      <th>...</th>\n      <th>TF(ug/ml)</th>\n      <th>GroE(ug/ml)</th>\n      <th>KJE(ug/ml)</th>\n      <th>Calculated MW(kDa)</th>\n      <th>Calculated pI</th>\n      <th>Type of gene product</th>\n      <th>Gene product description</th>\n      <th>Cell location</th>\n      <th>Structure (PDB) id</th>\n      <th>SCOP assignment</th>\n    </tr>\n  </thead>\n  <tbody>\n    <tr>\n      <th>2</th>\n      <td>JW0004</td>\n      <td>ECK0005</td>\n      <td>b0005</td>\n      <td>yaaX</td>\n      <td>yaaX</td>\n      <td>NaN</td>\n      <td>78.0</td>\n      <td>1.2</td>\n      <td>14.0</td>\n      <td>NaN</td>\n      <td>...</td>\n      <td>NaN</td>\n      <td>NaN</td>\n      <td>NaN</td>\n      <td>11.4</td>\n      <td>10.9</td>\n      <td>o</td>\n      <td>predicted protein</td>\n      <td>Periplasmic</td>\n      <td>NaN</td>\n      <td>NaN</td>\n    </tr>\n  </tbody>\n</table>\n<p>1 rows × 28 columns</p>\n</div>"
     },
     "metadata": {}
    }
   ]
  },
  {
   "cell_type": "code",
   "metadata": {
    "cell_id": "ba2a8a8720224e40b028a397852546bf",
    "tags": [],
    "deepnote_to_be_reexecuted": false,
    "source_hash": "cd8de094",
    "execution_start": 1668156470606,
    "execution_millis": 359,
    "deepnote_cell_type": "code",
    "deepnote_cell_height": 706,
    "deepnote_output_heights": [
     610
    ]
   },
   "source": "retrieve_data_from_uniprot(gene = \"AbgB\", description = \"predicted peptidase, aminobenzoyl-glutamate utilization protein\", organism = \"Escherichia coli\")",
   "execution_count": null,
   "outputs": [
    {
     "output_type": "execute_result",
     "execution_count": 4,
     "data": {
      "text/plain": "{'@xmlns': 'http://uniprot.org/uniprot',\n '@dataset': 'TrEMBL',\n '@created': '2010-11-02',\n '@modified': '2022-08-03',\n '@version': '63',\n 'accession': 'E0IUS0',\n 'name': 'E0IUS0_ECOLW',\n 'protein': {'submittedName': {'fullName': {'@evidence': '3',\n    '#text': 'Predicted peptidase, aminobenzoyl-glutamate utilization protein'}}},\n 'gene': {'name': [{'@evidence': '3', '@type': 'primary', '#text': 'abgB'},\n   {'@evidence': '3', '@type': 'ordered locus', '#text': 'ECW_m1434'}]},\n 'organism': {'@evidence': '3 4',\n  'name': {'@type': 'scientific',\n   '#text': 'Escherichia coli (strain ATCC 9637 / CCM 2024 / DSM 1116 / LMG 11080 / NBRC 13500 / NCIMB 8666 / NRRL B-766 / W)'},\n  'dbReference': {'@type': 'NCBI Taxonomy', '@id': '566546'},\n  'lineage': {'taxon': ['Bacteria',\n    'Proteobacteria',\n    'Gammaproteobacteria',\n    'Enterobacterales',\n    'Enterobacteriaceae',\n    'Escherichia']}},\n 'reference': {'@evidence': '3 4',\n  '@key': '1',\n  'citation': {'@type': 'journal article',\n   '@date': '2011',\n   '@name': 'BMC Genomics',\n   '@volume': '12',\n   '@first': '9',\n   '@last': '9',\n   'title': 'The genome sequence of E. coli W (ATCC 9637): comparative genome analysis and an improved genome-scale reconstruction of E. coli.',\n   'authorList': {'person': [{'@name': 'Archer C.T.'},\n     {'@name': 'Kim J.F.'},\n     {'@name': 'Jeong H.'},\n     {'@name': 'Park J.H.'},\n     {'@name': 'Vickers C.E.'},\n     {'@name': 'Lee S.Y.'},\n     {'@name': 'Nielsen L.K.'}]},\n   'dbReference': [{'@type': 'PubMed', '@id': '21208457'},\n    {'@type': 'DOI', '@id': '10.1186/1471-2164-12-9'}]},\n  'scope': 'NUCLEOTIDE SEQUENCE [LARGE SCALE GENOMIC DNA]',\n  'source': {'strain': {'@evidence': '4',\n    '#text': 'ATCC 9637 / CCM 2024 / DSM 1116 / LMG 11080 / NBRC 13500 / NCIMB 8666 / NRRL B-766 / W'}}},\n 'dbReference': [{'@type': 'EMBL',\n   '@id': 'CP002185',\n   'property': [{'@type': 'protein sequence ID', '@value': 'ADT74918.1'},\n    {'@type': 'molecule type', '@value': 'Genomic_DNA'}]},\n  {'@type': 'RefSeq',\n   '@id': 'WP_001156446.1',\n   'property': {'@type': 'nucleotide sequence ID',\n    '@value': 'NZ_WBMH01000002.1'}},\n  {'@type': 'EnsemblBacteria',\n   '@id': 'ADT74918',\n   'property': [{'@type': 'protein sequence ID', '@value': 'ADT74918'},\n    {'@type': 'gene ID', '@value': 'ECW_m1434'}]},\n  {'@type': 'KEGG', '@id': 'elw:ECW_m1434'},\n  {'@type': 'PATRIC', '@id': 'fig|566546.30.peg.1459'},\n  {'@type': 'OMA', '@id': 'HYAITDT'},\n  {'@type': 'Proteomes',\n   '@id': 'UP000008525',\n   'property': {'@type': 'component', '@value': 'Chromosome'}},\n  {'@type': 'GO',\n   '@id': 'GO:0016787',\n   'property': [{'@type': 'term', '@value': 'F:hydrolase activity'},\n    {'@type': 'evidence', '@value': 'ECO:0007669'},\n    {'@type': 'project', '@value': 'UniProtKB-KW'}]},\n  {'@type': 'GO',\n   '@id': 'GO:1901564',\n   'property': [{'@type': 'term',\n     '@value': 'P:organonitrogen compound metabolic process'},\n    {'@type': 'evidence', '@value': 'ECO:0007669'},\n    {'@type': 'project', '@value': 'UniProt'}]},\n  {'@type': 'InterPro',\n   '@id': 'IPR017439',\n   'property': {'@type': 'entry name', '@value': 'Amidohydrolase'}},\n  {'@type': 'InterPro',\n   '@id': 'IPR017145',\n   'property': {'@type': 'entry name',\n    '@value': 'Aminobenzoyl-glu_utiliz_pB'}},\n  {'@type': 'InterPro',\n   '@id': 'IPR036264',\n   'property': {'@type': 'entry name', '@value': 'Bact_exopeptidase_dim_dom'}},\n  {'@type': 'InterPro',\n   '@id': 'IPR002933',\n   'property': {'@type': 'entry name', '@value': 'Peptidase_M20'}},\n  {'@type': 'Pfam',\n   '@id': 'PF01546',\n   'property': [{'@type': 'entry name', '@value': 'Peptidase_M20'},\n    {'@type': 'match status', '@value': '1'}]},\n  {'@type': 'PIRSF',\n   '@id': 'PIRSF037227',\n   'property': [{'@type': 'entry name',\n     '@value': 'Aminobenzoyl-glu_utiliz_pB'},\n    {'@type': 'match status', '@value': '1'}]},\n  {'@type': 'SUPFAM',\n   '@id': 'SSF55031',\n   'property': [{'@type': 'entry name', '@value': 'SSF55031'},\n    {'@type': 'match status', '@value': '1'}]},\n  {'@type': 'TIGRFAMs',\n   '@id': 'TIGR01891',\n   'property': [{'@type': 'entry name', '@value': 'amidohydrolases'},\n    {'@type': 'match status', '@value': '1'}]}],\n 'proteinExistence': {'@type': 'predicted'},\n 'keyword': {'@evidence': '1', '@id': 'KW-0378', '#text': 'Hydrolase'},\n 'feature': {'@type': 'region of interest',\n  '@description': 'Disordered',\n  '@evidence': '2',\n  'location': {'begin': {'@position': '462'}, 'end': {'@position': '481'}}},\n 'evidence': [{'@type': 'ECO:0000256',\n   '@key': '1',\n   'source': {'dbReference': {'@type': 'ARBA', '@id': 'ARBA00022801'}}},\n  {'@type': 'ECO:0000256',\n   '@key': '2',\n   'source': {'dbReference': {'@type': 'SAM', '@id': 'MobiDB-lite'}}},\n  {'@type': 'ECO:0000313',\n   '@key': '3',\n   'source': {'dbReference': {'@type': 'EMBL', '@id': 'ADT74918.1'}}},\n  {'@type': 'ECO:0000313',\n   '@key': '4',\n   'source': {'dbReference': {'@type': 'Proteomes', '@id': 'UP000008525'}}}],\n 'sequence': {'@length': '481',\n  '@mass': '52213',\n  '@checksum': 'F8669B634AB2ECC0',\n  '@modified': '2010-11-02',\n  '@version': '1',\n  '#text': 'MQEIYRFIDDAIEADRQRYTDIADQIWDHPETRFEEFWSAEHLASALESAGFTVTRNVGNIPNAFIASFGQGKPVIALLGEYDALAGLSQQAGCAQPTSVTPGENGHGCGHNLLGTAAFAAAIAVKKWLEQYGQGGTVRFYGCPGEEGGSGKTFMVREGVFDDVDAALTWHPEAFAGMFNTRTLANIQASWRFKGIAAHAANSPHLGRSALDAVTLMTTGTNFLNEHIIEKARVHYAITNSGGISPNVVQAQAEVLYLIRAPEMTDVQHIYDRVAKIAEGAALMTETTVECRFDKACSSYLPNRTLENAMYHALSHFGTPEWNSEELAFAKQIQATLTPNDRQNSLNNIAATGGENGKVFALRHRETVLANEVAPYAATDNVLAASTDVGDVSWKLPVAQCFSPCFAVGTPLHTWQLVSQGRTSIAHKGMLLAAKTMAATTVNLFIDSGLLQECQQEHQQVTDTQPYHCPIPKNVTPSPLK'}}"
     },
     "metadata": {}
    }
   ]
  },
  {
   "cell_type": "markdown",
   "source": "## Train Model",
   "metadata": {
    "formattedRanges": [],
    "is_collapsed": false,
    "cell_id": "c5467fd383e94bd29a0506e49bf4e350",
    "tags": [],
    "deepnote_cell_type": "text-cell-h2"
   }
  },
  {
   "cell_type": "code",
   "metadata": {
    "cell_id": "b2b3158349214e6cabd0f7d2e70fc7ee",
    "tags": [],
    "deepnote_to_be_reexecuted": false,
    "source_hash": "9d2ebc19",
    "execution_start": 1668598798744,
    "execution_millis": 17,
    "deepnote_cell_type": "code",
    "deepnote_cell_height": 134.3333282470703
   },
   "source": "data = pd.read_csv('complete_esol_uniprot_data.csv')\n# useful_data = data.loc[:,['Yield(uM)','Yield(ug/ml)','Calculated MW(kDa)','Calculated pI','Type of gene product','Cell location' ]]\ndata_only_num = data.loc[:,['Yield(uM)','Yield(ug/ml)','Calculated MW(kDa)','Calculated pI', 'Sequence length', 'Sequence mass']]\n# data_only_num = data.loc[:,['Yield(uM)','Yield(ug/ml)','Calculated MW(kDa)','Calculated pI']]",
   "execution_count": null,
   "outputs": []
  },
  {
   "cell_type": "code",
   "metadata": {
    "cell_id": "031b7c3590e8452fa6bd1632cf6a6406",
    "tags": [],
    "deepnote_to_be_reexecuted": false,
    "source_hash": "a2f5ad50",
    "execution_start": 1668598839764,
    "execution_millis": 6,
    "deepnote_table_state": {
     "pageSize": 100,
     "pageIndex": 0,
     "filters": [],
     "sortBy": []
    },
    "deepnote_table_loading": false,
    "deepnote_table_invalid": false,
    "deepnote_cell_type": "code",
    "deepnote_cell_height": 165.3333282470703
   },
   "source": "Y = data['Solubility(%)']\nY = np.array(Y)\nX = np.array(data_only_num)\n# normalized_Y = Y / Y.max()\nnormalized_Y = Y / np.linalg.norm(Y)\nnormalized_X = X / X.max(axis=0)",
   "execution_count": null,
   "outputs": []
  },
  {
   "cell_type": "code",
   "metadata": {
    "cell_id": "ce473847b72d49d499de1c00e72ff767",
    "tags": [],
    "deepnote_to_be_reexecuted": false,
    "source_hash": "dc1f5f98",
    "execution_start": 1668597777925,
    "execution_millis": 5,
    "deepnote_cell_type": "code",
    "deepnote_cell_height": 147.3333282470703
   },
   "source": "X_train, X_test, Y_train, Y_test = train_test_split(normalized_X, normalized_Y,\n  test_size=0.2, random_state=10)\n# Y_train = tf.convert_to_tensor(Y_train)\n# learning_rate = 0.001\n# num_epochs = 1",
   "execution_count": null,
   "outputs": []
  },
  {
   "cell_type": "code",
   "metadata": {
    "cell_id": "e578ebf8b442474883baade33388fe36",
    "tags": [],
    "deepnote_to_be_reexecuted": false,
    "source_hash": "ad9aa42f",
    "execution_start": 1668598332921,
    "execution_millis": 56,
    "deepnote_cell_type": "code",
    "deepnote_cell_height": 291.33331298828125
   },
   "source": "model = keras.Sequential()\nmodel.add(Input(shape=(6,)))\nmodel.add(layers.Dense(4, activation=\"relu\"))\nmodel.add(layers.Dense(10, activation=\"relu\"))\nmodel.add(layers.Dense(1, activation='sigmoid'))\n# y = model(normalized_X)\nmodel.compile(\n    optimizer=keras.optimizers.RMSprop(),  # Optimizer\n    # Loss function to minimize\n    loss='binary_crossentropy',\n    # List of metrics to monitor\n    metrics=[keras.metrics.SparseCategoricalAccuracy()],\n)",
   "execution_count": null,
   "outputs": []
  },
  {
   "cell_type": "code",
   "metadata": {
    "cell_id": "5e47e19797764f48a33817fe6b242dc9",
    "tags": [],
    "deepnote_to_be_reexecuted": false,
    "source_hash": "8c8395d0",
    "execution_start": 1668598901940,
    "execution_millis": 39,
    "deepnote_cell_type": "code",
    "deepnote_cell_height": 188.3333282470703
   },
   "source": "model = keras.Sequential()\nmodel.add(layers.Dense(12, input_dim=6, activation='relu'))\nmodel.add(layers.Dense(8, activation='relu'))\nmodel.add(layers.Dense(4, activation='relu'))\nmodel.add(layers.Dense(1, activation='sigmoid'))\n# compile the keras model\nmodel.compile(loss='binary_crossentropy',  optimizer=keras.optimizers.Adam(learning_rate=0.01), metrics=['accuracy'])",
   "execution_count": null,
   "outputs": []
  },
  {
   "cell_type": "code",
   "metadata": {
    "cell_id": "b80fe00b7c854add811a0cb8979333eb",
    "tags": [],
    "deepnote_to_be_reexecuted": false,
    "source_hash": "86b324f5",
    "execution_start": 1668599227369,
    "execution_millis": 301,
    "deepnote_cell_type": "code",
    "deepnote_cell_height": 267.8666687011719
   },
   "source": "history = model.fit(\n    normalized_X,\n    normalized_Y,\n    batch_size=12,\n    epochs=20,\n    # We pass some validation for\n    # monitoring validation loss and metrics\n    # at the end of each epoch\n    # validation_data=(x_val, y_val),\n)",
   "execution_count": null,
   "outputs": [
    {
     "name": "stdout",
     "text": "42/42 [==============================] - 0s 850us/step - loss: 0.6074 - accuracy: 0.0000e+00\n",
     "output_type": "stream"
    }
   ]
  },
  {
   "cell_type": "code",
   "metadata": {
    "cell_id": "44b5923cd9934bdabfed6fd50a485609",
    "tags": [],
    "deepnote_to_be_reexecuted": false,
    "source_hash": "a3fbcce6",
    "execution_start": 1668597824090,
    "execution_millis": 417,
    "deepnote_cell_type": "code",
    "deepnote_cell_height": 367.20001220703125
   },
   "source": "# Evaluate the model on the test data using `evaluate`\nprint(\"Evaluate on test data\")\nresults = model.evaluate(X_train,Y_train)\nprint(\"test loss, test acc:\", results)\n\n# Generate predictions (probabilities -- the output of the last layer)\n# on new data using `predict`\nprint(\"Generate predictions for 3 samples\")\npredictions = model.predict(X_test)\nprint(\"predictions shape:\", predictions.shape)",
   "execution_count": null,
   "outputs": [
    {
     "name": "stdout",
     "text": "Evaluate on test data\n80/80 [==============================] - 0s 1ms/step - loss: 0.0754 - sparse_categorical_accuracy: 3.9401e-04\ntest loss, test acc: [0.07540898025035858, 0.00039401103276759386]\nGenerate predictions for 3 samples\n20/20 [==============================] - 0s 878us/step\npredictions shape: (635, 1)\n",
     "output_type": "stream"
    }
   ]
  },
  {
   "cell_type": "markdown",
   "source": "<a style='text-decoration:none;line-height:16px;display:flex;color:#5B5B62;padding:10px;justify-content:end;' href='https://deepnote.com?utm_source=created-in-deepnote-cell&projectId=8ea8948f-b978-492f-a6dd-8ac5feb4b472' target=\"_blank\">\n<img alt='Created in deepnote.com' style='display:inline;max-height:16px;margin:0px;margin-right:7.5px;' src='data:image/svg+xml;base64,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' > </img>\nCreated in <span style='font-weight:600;margin-left:4px;'>Deepnote</span></a>",
   "metadata": {
    "tags": [],
    "created_in_deepnote_cell": true,
    "deepnote_cell_type": "markdown"
   }
  }
 ],
 "nbformat": 4,
 "nbformat_minor": 2,
 "metadata": {
  "orig_nbformat": 2,
  "deepnote": {},
  "deepnote_notebook_id": "06387228-2cbf-41ee-9803-ec85e66f9c0b",
  "deepnote_execution_queue": []
 }
}