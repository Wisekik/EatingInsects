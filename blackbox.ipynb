{
 "cells": [
  {
   "cell_type": "markdown",
   "source": "# Detect alternative insect-based ingredients for solubility properties.",
   "metadata": {
    "is_collapsed": false,
    "cell_id": "0cb0eb823c3546eaa3731c06788e288a",
    "tags": [],
    "formattedRanges": [],
    "deepnote_cell_type": "text-cell-h1"
   }
  },
  {
   "cell_type": "markdown",
   "source": "",
   "metadata": {
    "is_collapsed": false,
    "cell_id": "d4100b12-a42a-4504-ad34-4c12c76e5ead",
    "tags": [],
    "formattedRanges": [],
    "deepnote_cell_type": "text-cell-p"
   }
  },
  {
   "cell_type": "code",
   "source": "import pandas as pd\nimport numpy as np\nimport matplotlib.pyplot as plt\nimport seaborn as sns\nimport requests\nimport torch\nfrom torch import nn\nimport xmltodict",
   "metadata": {
    "tags": [],
    "cell_id": "41fcb8a9-023b-4607-b38d-251f052589e1",
    "deepnote_to_be_reexecuted": false,
    "source_hash": "6f84b839",
    "execution_start": 1668006424660,
    "execution_millis": 0,
    "deepnote_cell_type": "code",
    "deepnote_cell_height": 201.3333282470703
   },
   "execution_count": 5,
   "outputs": []
  },
  {
   "cell_type": "code",
   "source": "raw_data = pd.read_csv('preprocessing/esol_data.tab', sep='\\t')",
   "metadata": {
    "cell_id": "43ff07fcac224ac5b1bdc33569e45522",
    "tags": [],
    "deepnote_to_be_reexecuted": false,
    "source_hash": "2d3d8422",
    "execution_start": 1668006426751,
    "execution_millis": 28,
    "deepnote_cell_type": "code",
    "deepnote_cell_height": 75.33332824707031
   },
   "outputs": [],
   "execution_count": 6
  },
  {
   "cell_type": "code",
   "source": "# delete data if value of Solubility is Nan\ndata = raw_data.dropna(subset=['Solubility(%)'])\nY = data['Solubility(%)']\nX = data.drop(['Solubility(%)'], axis=1)",
   "metadata": {
    "cell_id": "031b7c3590e8452fa6bd1632cf6a6406",
    "tags": [],
    "deepnote_to_be_reexecuted": false,
    "source_hash": "510244ee",
    "execution_start": 1668006557836,
    "execution_millis": 7,
    "deepnote_table_state": {
     "pageSize": 10,
     "pageIndex": 413,
     "filters": [],
     "sortBy": []
    },
    "deepnote_table_loading": false,
    "deepnote_cell_type": "code",
    "deepnote_cell_height": 129.3333282470703,
    "deepnote_output_heights": [
     20
    ]
   },
   "outputs": [],
   "execution_count": 11
  },
  {
   "cell_type": "code",
   "source": "lin = nn.Linear(27,1)",
   "metadata": {
    "cell_id": "ab852390495c433da6efcc7ebad2ce91",
    "tags": [],
    "deepnote_to_be_reexecuted": false,
    "source_hash": "334cf4bb",
    "execution_start": 1668006552395,
    "execution_millis": 1,
    "deepnote_cell_type": "code",
    "deepnote_cell_height": 75.33332824707031,
    "deepnote_output_heights": [
     20
    ]
   },
   "outputs": [],
   "execution_count": 10
  },
  {
   "cell_type": "markdown",
   "source": "## Retrieve Additional Protein Data from UniProt",
   "metadata": {
    "is_collapsed": false,
    "cell_id": "119da6827bc74725986b90bb57eecc10",
    "tags": [],
    "formattedRanges": [],
    "deepnote_cell_type": "text-cell-h2"
   }
  },
  {
   "cell_type": "code",
   "source": "def retrieve_data_from_uniprot(gene, description, organism):\n    # Initialize Query Parameters\n    query = {\n        \"offset\": 0,\n        \"gene\": gene,\n        \"protein\": description,\n        \"organism\": organism\n    }\n\n    # Call UniProt Api\n    response = requests.get(\"https://www.ebi.ac.uk/proteins/api/proteins\", params=query)\n\n    raw_content = response.content\n\n    # Read XML Response Body\n    data = xmltodict.parse(raw_content)\n\n    return data['uniprot']['entry']",
   "metadata": {
    "cell_id": "9094a9bb93a14320b5501432178790c7",
    "tags": [],
    "deepnote_to_be_reexecuted": false,
    "source_hash": "673fddbb",
    "execution_start": 1668007742731,
    "execution_millis": 6,
    "deepnote_cell_type": "code",
    "deepnote_cell_height": 381.33331298828125
   },
   "outputs": [],
   "execution_count": 30
  },
  {
   "cell_type": "code",
   "source": "retrieve_data_from_uniprot(gene = \"AbgB\", description = \"predicted peptidase, aminobenzoyl-glutamate utilization protein\", organism = \"Escherichia coli\")",
   "metadata": {
    "cell_id": "ba2a8a8720224e40b028a397852546bf",
    "tags": [],
    "deepnote_to_be_reexecuted": false,
    "source_hash": "cd8de094",
    "execution_start": 1668007743253,
    "execution_millis": 408,
    "deepnote_cell_type": "code",
    "deepnote_cell_height": 116,
    "deepnote_output_heights": [
     20
    ]
   },
   "outputs": [
    {
     "output_type": "execute_result",
     "execution_count": 31,
     "data": {
      "text/plain": "{'@xmlns': 'http://uniprot.org/uniprot',\n '@dataset': 'TrEMBL',\n '@created': '2010-11-02',\n '@modified': '2022-08-03',\n '@version': '63',\n 'accession': 'E0IUS0',\n 'name': 'E0IUS0_ECOLW',\n 'protein': {'submittedName': {'fullName': {'@evidence': '3',\n    '#text': 'Predicted peptidase, aminobenzoyl-glutamate utilization protein'}}},\n 'gene': {'name': [{'@evidence': '3', '@type': 'primary', '#text': 'abgB'},\n   {'@evidence': '3', '@type': 'ordered locus', '#text': 'ECW_m1434'}]},\n 'organism': {'@evidence': '3 4',\n  'name': {'@type': 'scientific',\n   '#text': 'Escherichia coli (strain ATCC 9637 / CCM 2024 / DSM 1116 / LMG 11080 / NBRC 13500 / NCIMB 8666 / NRRL B-766 / W)'},\n  'dbReference': {'@type': 'NCBI Taxonomy', '@id': '566546'},\n  'lineage': {'taxon': ['Bacteria',\n    'Proteobacteria',\n    'Gammaproteobacteria',\n    'Enterobacterales',\n    'Enterobacteriaceae',\n    'Escherichia']}},\n 'reference': {'@evidence': '3 4',\n  '@key': '1',\n  'citation': {'@type': 'journal article',\n   '@date': '2011',\n   '@name': 'BMC Genomics',\n   '@volume': '12',\n   '@first': '9',\n   '@last': '9',\n   'title': 'The genome sequence of E. coli W (ATCC 9637): comparative genome analysis and an improved genome-scale reconstruction of E. coli.',\n   'authorList': {'person': [{'@name': 'Archer C.T.'},\n     {'@name': 'Kim J.F.'},\n     {'@name': 'Jeong H.'},\n     {'@name': 'Park J.H.'},\n     {'@name': 'Vickers C.E.'},\n     {'@name': 'Lee S.Y.'},\n     {'@name': 'Nielsen L.K.'}]},\n   'dbReference': [{'@type': 'PubMed', '@id': '21208457'},\n    {'@type': 'DOI', '@id': '10.1186/1471-2164-12-9'}]},\n  'scope': 'NUCLEOTIDE SEQUENCE [LARGE SCALE GENOMIC DNA]',\n  'source': {'strain': {'@evidence': '4',\n    '#text': 'ATCC 9637 / CCM 2024 / DSM 1116 / LMG 11080 / NBRC 13500 / NCIMB 8666 / NRRL B-766 / W'}}},\n 'dbReference': [{'@type': 'EMBL',\n   '@id': 'CP002185',\n   'property': [{'@type': 'protein sequence ID', '@value': 'ADT74918.1'},\n    {'@type': 'molecule type', '@value': 'Genomic_DNA'}]},\n  {'@type': 'RefSeq',\n   '@id': 'WP_001156446.1',\n   'property': {'@type': 'nucleotide sequence ID',\n    '@value': 'NZ_WBMH01000002.1'}},\n  {'@type': 'EnsemblBacteria',\n   '@id': 'ADT74918',\n   'property': [{'@type': 'protein sequence ID', '@value': 'ADT74918'},\n    {'@type': 'gene ID', '@value': 'ECW_m1434'}]},\n  {'@type': 'KEGG', '@id': 'elw:ECW_m1434'},\n  {'@type': 'PATRIC', '@id': 'fig|566546.30.peg.1459'},\n  {'@type': 'OMA', '@id': 'HYAITDT'},\n  {'@type': 'Proteomes',\n   '@id': 'UP000008525',\n   'property': {'@type': 'component', '@value': 'Chromosome'}},\n  {'@type': 'GO',\n   '@id': 'GO:0016787',\n   'property': [{'@type': 'term', '@value': 'F:hydrolase activity'},\n    {'@type': 'evidence', '@value': 'ECO:0007669'},\n    {'@type': 'project', '@value': 'UniProtKB-KW'}]},\n  {'@type': 'GO',\n   '@id': 'GO:1901564',\n   'property': [{'@type': 'term',\n     '@value': 'P:organonitrogen compound metabolic process'},\n    {'@type': 'evidence', '@value': 'ECO:0007669'},\n    {'@type': 'project', '@value': 'UniProt'}]},\n  {'@type': 'InterPro',\n   '@id': 'IPR017439',\n   'property': {'@type': 'entry name', '@value': 'Amidohydrolase'}},\n  {'@type': 'InterPro',\n   '@id': 'IPR017145',\n   'property': {'@type': 'entry name',\n    '@value': 'Aminobenzoyl-glu_utiliz_pB'}},\n  {'@type': 'InterPro',\n   '@id': 'IPR036264',\n   'property': {'@type': 'entry name', '@value': 'Bact_exopeptidase_dim_dom'}},\n  {'@type': 'InterPro',\n   '@id': 'IPR002933',\n   'property': {'@type': 'entry name', '@value': 'Peptidase_M20'}},\n  {'@type': 'Pfam',\n   '@id': 'PF01546',\n   'property': [{'@type': 'entry name', '@value': 'Peptidase_M20'},\n    {'@type': 'match status', '@value': '1'}]},\n  {'@type': 'PIRSF',\n   '@id': 'PIRSF037227',\n   'property': [{'@type': 'entry name',\n     '@value': 'Aminobenzoyl-glu_utiliz_pB'},\n    {'@type': 'match status', '@value': '1'}]},\n  {'@type': 'SUPFAM',\n   '@id': 'SSF55031',\n   'property': [{'@type': 'entry name', '@value': 'SSF55031'},\n    {'@type': 'match status', '@value': '1'}]},\n  {'@type': 'TIGRFAMs',\n   '@id': 'TIGR01891',\n   'property': [{'@type': 'entry name', '@value': 'amidohydrolases'},\n    {'@type': 'match status', '@value': '1'}]}],\n 'proteinExistence': {'@type': 'predicted'},\n 'keyword': {'@evidence': '1', '@id': 'KW-0378', '#text': 'Hydrolase'},\n 'feature': {'@type': 'region of interest',\n  '@description': 'Disordered',\n  '@evidence': '2',\n  'location': {'begin': {'@position': '462'}, 'end': {'@position': '481'}}},\n 'evidence': [{'@type': 'ECO:0000256',\n   '@key': '1',\n   'source': {'dbReference': {'@type': 'ARBA', '@id': 'ARBA00022801'}}},\n  {'@type': 'ECO:0000256',\n   '@key': '2',\n   'source': {'dbReference': {'@type': 'SAM', '@id': 'MobiDB-lite'}}},\n  {'@type': 'ECO:0000313',\n   '@key': '3',\n   'source': {'dbReference': {'@type': 'EMBL', '@id': 'ADT74918.1'}}},\n  {'@type': 'ECO:0000313',\n   '@key': '4',\n   'source': {'dbReference': {'@type': 'Proteomes', '@id': 'UP000008525'}}}],\n 'sequence': {'@length': '481',\n  '@mass': '52213',\n  '@checksum': 'F8669B634AB2ECC0',\n  '@modified': '2010-11-02',\n  '@version': '1',\n  '#text': 'MQEIYRFIDDAIEADRQRYTDIADQIWDHPETRFEEFWSAEHLASALESAGFTVTRNVGNIPNAFIASFGQGKPVIALLGEYDALAGLSQQAGCAQPTSVTPGENGHGCGHNLLGTAAFAAAIAVKKWLEQYGQGGTVRFYGCPGEEGGSGKTFMVREGVFDDVDAALTWHPEAFAGMFNTRTLANIQASWRFKGIAAHAANSPHLGRSALDAVTLMTTGTNFLNEHIIEKARVHYAITNSGGISPNVVQAQAEVLYLIRAPEMTDVQHIYDRVAKIAEGAALMTETTVECRFDKACSSYLPNRTLENAMYHALSHFGTPEWNSEELAFAKQIQATLTPNDRQNSLNNIAATGGENGKVFALRHRETVLANEVAPYAATDNVLAASTDVGDVSWKLPVAQCFSPCFAVGTPLHTWQLVSQGRTSIAHKGMLLAAKTMAATTVNLFIDSGLLQECQQEHQQVTDTQPYHCPIPKNVTPSPLK'}}"
     },
     "metadata": {}
    }
   ],
   "execution_count": 31
  },
  {
   "cell_type": "code",
   "source": "",
   "metadata": {
    "cell_id": "790c244393e54507af60d59e4cdaad9a",
    "tags": [],
    "deepnote_cell_type": "code",
    "deepnote_cell_height": 61
   },
   "outputs": [],
   "execution_count": null
  },
  {
   "cell_type": "markdown",
   "source": "<a style='text-decoration:none;line-height:16px;display:flex;color:#5B5B62;padding:10px;justify-content:end;' href='https://deepnote.com?utm_source=created-in-deepnote-cell&projectId=8ea8948f-b978-492f-a6dd-8ac5feb4b472' target=\"_blank\">\n<img alt='Created in deepnote.com' style='display:inline;max-height:16px;margin:0px;margin-right:7.5px;' src='data:image/svg+xml;base64,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' > </img>\nCreated in <span style='font-weight:600;margin-left:4px;'>Deepnote</span></a>",
   "metadata": {
    "tags": [],
    "created_in_deepnote_cell": true,
    "deepnote_cell_type": "markdown"
   }
  }
 ],
 "nbformat": 4,
 "nbformat_minor": 2,
 "metadata": {
  "orig_nbformat": 2,
  "deepnote": {},
  "deepnote_notebook_id": "06387228-2cbf-41ee-9803-ec85e66f9c0b",
  "deepnote_execution_queue": []
 }
}