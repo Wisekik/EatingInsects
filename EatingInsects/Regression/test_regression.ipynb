{
 "cells": [
  {
   "cell_type": "markdown",
   "source": "##### Copyright 2018 The TensorFlow Authors.",
   "metadata": {
    "id": "FhGuhbZ6M5tl",
    "cell_id": "ccc9b4e9-8a20-4b22-969a-a007613cb32c",
    "deepnote_cell_type": "markdown",
    "deepnote_cell_height": 54
   }
  },
  {
   "cell_type": "code",
   "metadata": {
    "cellView": "form",
    "execution": {
     "iopub.execute_input": "2022-06-16T01:37:24.070144Z",
     "iopub.status.busy": "2022-06-16T01:37:24.069835Z",
     "iopub.status.idle": "2022-06-16T01:37:24.074571Z",
     "shell.execute_reply": "2022-06-16T01:37:24.073842Z"
    },
    "id": "AwOEIRJC6Une",
    "cell_id": "00001-63860d05-182e-4889-a966-3b57488b1ca4",
    "deepnote_cell_type": "code",
    "deepnote_cell_height": 241
   },
   "source": "#@title Licensed under the Apache License, Version 2.0 (the \"License\");\n# you may not use this file except in compliance with the License.\n# You may obtain a copy of the License at\n#\n# https://www.apache.org/licenses/LICENSE-2.0\n#\n# Unless required by applicable law or agreed to in writing, software\n# distributed under the License is distributed on an \"AS IS\" BASIS,\n# WITHOUT WARRANTIES OR CONDITIONS OF ANY KIND, either express or implied.\n# See the License for the specific language governing permissions and\n# limitations under the License.",
   "execution_count": null,
   "outputs": []
  },
  {
   "cell_type": "code",
   "metadata": {
    "cellView": "form",
    "execution": {
     "iopub.execute_input": "2022-06-16T01:37:24.078121Z",
     "iopub.status.busy": "2022-06-16T01:37:24.077858Z",
     "iopub.status.idle": "2022-06-16T01:37:24.081968Z",
     "shell.execute_reply": "2022-06-16T01:37:24.081236Z"
    },
    "id": "KyPEtTqk6VdG",
    "cell_id": "00002-e71606d9-31ba-473a-b000-c8c3949e1bc7",
    "deepnote_cell_type": "code",
    "deepnote_cell_height": 421
   },
   "source": "#@title MIT License\n#\n# Copyright (c) 2017 François Chollet\n#\n# Permission is hereby granted, free of charge, to any person obtaining a\n# copy of this software and associated documentation files (the \"Software\"),\n# to deal in the Software without restriction, including without limitation\n# the rights to use, copy, modify, merge, publish, distribute, sublicense,\n# and/or sell copies of the Software, and to permit persons to whom the\n# Software is furnished to do so, subject to the following conditions:\n#\n# The above copyright notice and this permission notice shall be included in\n# all copies or substantial portions of the Software.\n#\n# THE SOFTWARE IS PROVIDED \"AS IS\", WITHOUT WARRANTY OF ANY KIND, EXPRESS OR\n# IMPLIED, INCLUDING BUT NOT LIMITED TO THE WARRANTIES OF MERCHANTABILITY,\n# FITNESS FOR A PARTICULAR PURPOSE AND NONINFRINGEMENT. IN NO EVENT SHALL\n# THE AUTHORS OR COPYRIGHT HOLDERS BE LIABLE FOR ANY CLAIM, DAMAGES OR OTHER\n# LIABILITY, WHETHER IN AN ACTION OF CONTRACT, TORT OR OTHERWISE, ARISING\n# FROM, OUT OF OR IN CONNECTION WITH THE SOFTWARE OR THE USE OR OTHER\n# DEALINGS IN THE SOFTWARE.",
   "execution_count": null,
   "outputs": []
  },
  {
   "cell_type": "markdown",
   "source": "# Basic regression: Predict fuel efficiency",
   "metadata": {
    "id": "EIdT9iu_Z4Rb",
    "cell_id": "00003-9e24c9df-0c41-4728-806d-513175de4b2b",
    "deepnote_cell_type": "markdown",
    "deepnote_cell_height": 82
   }
  },
  {
   "cell_type": "markdown",
   "source": "<table class=\"tfo-notebook-buttons\" align=\"left\">\n  <td>\n    <a target=\"_blank\" href=\"https://www.tensorflow.org/tutorials/keras/regression\"><img src=\"https://www.tensorflow.org/images/tf_logo_32px.png\" />View on TensorFlow.org</a>\n  </td>\n  <td>\n    <a target=\"_blank\" href=\"https://colab.research.google.com/github/tensorflow/docs/blob/master/site/en/tutorials/keras/regression.ipynb\"><img src=\"https://www.tensorflow.org/images/colab_logo_32px.png\" />Run in Google Colab</a>\n  </td>\n  <td>\n    <a target=\"_blank\" href=\"https://github.com/tensorflow/docs/blob/master/site/en/tutorials/keras/regression.ipynb\"><img src=\"https://www.tensorflow.org/images/GitHub-Mark-32px.png\" />View source on GitHub</a>\n  </td>\n  <td>\n    <a href=\"https://storage.googleapis.com/tensorflow_docs/docs/site/en/tutorials/keras/regression.ipynb\"><img src=\"https://www.tensorflow.org/images/download_logo_32px.png\" />Download notebook</a>\n  </td>\n</table>",
   "metadata": {
    "id": "bBIlTPscrIT9",
    "cell_id": "00004-2461c891-c6eb-42e3-b87a-87550e651fbf",
    "deepnote_cell_type": "markdown",
    "deepnote_cell_height": 185.59375
   }
  },
  {
   "cell_type": "markdown",
   "source": "In a *regression* problem, the aim is to predict the output of a continuous value, like a price or a probability. Contrast this with a *classification* problem, where the aim is to select a class from a list of classes (for example, where a picture contains an apple or an orange, recognizing which fruit is in the picture).\n\nThis tutorial uses the classic [Auto MPG](https://archive.ics.uci.edu/ml/datasets/auto+mpg) dataset and demonstrates how to build models to predict the fuel efficiency of the late-1970s and early 1980s automobiles. To do this, you will provide the models with a description of many automobiles from that time period. This description includes attributes like cylinders, displacement, horsepower, and weight.\n\nThis example uses the Keras API. (Visit the Keras [tutorials](https://www.tensorflow.org/tutorials/keras) and [guides](https://www.tensorflow.org/guide/keras) to learn more.)",
   "metadata": {
    "id": "AHp3M9ZmrIxj",
    "cell_id": "00005-d71fcbba-d456-4748-9c7c-cdf904e086e1",
    "deepnote_cell_type": "markdown",
    "deepnote_cell_height": 214.78125
   }
  },
  {
   "cell_type": "code",
   "metadata": {
    "execution": {
     "iopub.execute_input": "2022-06-16T01:37:24.086270Z",
     "iopub.status.busy": "2022-06-16T01:37:24.085608Z",
     "iopub.status.idle": "2022-06-16T01:37:25.710165Z",
     "shell.execute_reply": "2022-06-16T01:37:25.709004Z"
    },
    "id": "moB4tpEHxKB3",
    "cell_id": "00006-d46f0a6f-1108-4fd8-b862-868562203b03",
    "deepnote_cell_type": "code",
    "deepnote_cell_height": 79
   },
   "source": "# Use seaborn for pairplot.\n!pip install -q seaborn",
   "execution_count": null,
   "outputs": []
  },
  {
   "cell_type": "code",
   "metadata": {
    "execution": {
     "iopub.execute_input": "2022-06-16T01:37:25.714605Z",
     "iopub.status.busy": "2022-06-16T01:37:25.714327Z",
     "iopub.status.idle": "2022-06-16T01:37:27.086286Z",
     "shell.execute_reply": "2022-06-16T01:37:27.085246Z"
    },
    "id": "1rRo8oNqZ-Rj",
    "cell_id": "00007-9bb07895-e42b-404c-bd39-527cbb9c9c5a",
    "deepnote_to_be_reexecuted": false,
    "source_hash": "2b3e3fae",
    "execution_start": 1669384687999,
    "execution_millis": 1480,
    "deepnote_cell_type": "code",
    "deepnote_cell_height": 184
   },
   "source": "import matplotlib.pyplot as plt\nimport numpy as np\nimport pandas as pd\nimport seaborn as sns\n\n# Make NumPy printouts easier to read.\nnp.set_printoptions(precision=3, suppress=True)",
   "execution_count": null,
   "outputs": []
  },
  {
   "cell_type": "code",
   "metadata": {
    "execution": {
     "iopub.execute_input": "2022-06-16T01:37:27.090725Z",
     "iopub.status.busy": "2022-06-16T01:37:27.090349Z",
     "iopub.status.idle": "2022-06-16T01:37:28.801639Z",
     "shell.execute_reply": "2022-06-16T01:37:28.800684Z"
    },
    "id": "9xQKvCJ85kCQ",
    "cell_id": "00008-b9b2e919-db70-423b-b3a2-a191c066addd",
    "deepnote_to_be_reexecuted": false,
    "source_hash": "8c30591f",
    "execution_start": 1669384690347,
    "execution_millis": 5865,
    "deepnote_cell_type": "code",
    "deepnote_cell_height": 358.75
   },
   "source": "import tensorflow as tf\n\nfrom tensorflow import keras\nfrom tensorflow.keras import layers\n\nprint(tf.__version__)",
   "execution_count": null,
   "outputs": [
    {
     "name": "stderr",
     "text": "2022-11-25 13:58:10.365949: I tensorflow/core/platform/cpu_feature_guard.cc:193] This TensorFlow binary is optimized with oneAPI Deep Neural Network Library (oneDNN) to use the following CPU instructions in performance-critical operations:  AVX2 FMA\nTo enable them in other operations, rebuild TensorFlow with the appropriate compiler flags.\n2022-11-25 13:58:10.504856: W tensorflow/stream_executor/platform/default/dso_loader.cc:64] Could not load dynamic library 'libcudart.so.11.0'; dlerror: libcudart.so.11.0: cannot open shared object file: No such file or directory\n2022-11-25 13:58:10.504895: I tensorflow/stream_executor/cuda/cudart_stub.cc:29] Ignore above cudart dlerror if you do not have a GPU set up on your machine.\n2022-11-25 13:58:10.524331: E tensorflow/stream_executor/cuda/cuda_blas.cc:2981] Unable to register cuBLAS factory: Attempting to register factory for plugin cuBLAS when one has already been registered\n2022-11-25 13:58:12.632335: W tensorflow/stream_executor/platform/default/dso_loader.cc:64] Could not load dynamic library 'libnvinfer.so.7'; dlerror: libnvinfer.so.7: cannot open shared object file: No such file or directory\n2022-11-25 13:58:12.632407: W tensorflow/stream_executor/platform/default/dso_loader.cc:64] Could not load dynamic library 'libnvinfer_plugin.so.7'; dlerror: libnvinfer_plugin.so.7: cannot open shared object file: No such file or directory\n2022-11-25 13:58:12.632415: W tensorflow/compiler/tf2tensorrt/utils/py_utils.cc:38] TF-TRT Warning: Cannot dlopen some TensorRT libraries. If you would like to use Nvidia GPU with TensorRT, please make sure the missing libraries mentioned above are installed properly.\n2.10.0\n",
     "output_type": "stream"
    }
   ]
  },
  {
   "cell_type": "markdown",
   "source": "## The Auto MPG dataset\n\nThe dataset is available from the [UCI Machine Learning Repository](https://archive.ics.uci.edu/ml/).\n",
   "metadata": {
    "id": "F_72b0LCNbjx",
    "cell_id": "00009-df84b6c1-b5dc-451a-8ece-727e8569284e",
    "deepnote_cell_type": "markdown",
    "deepnote_cell_height": 108.390625
   }
  },
  {
   "cell_type": "markdown",
   "source": "### Get the data\nFirst download and import the dataset using pandas:",
   "metadata": {
    "id": "gFh9ne3FZ-On",
    "cell_id": "00010-449c65a8-9bfb-4fa1-9a2f-60b81180adfd",
    "deepnote_cell_type": "markdown",
    "deepnote_cell_height": 100.390625
   }
  },
  {
   "cell_type": "code",
   "metadata": {
    "execution": {
     "iopub.execute_input": "2022-06-16T01:37:28.830423Z",
     "iopub.status.busy": "2022-06-16T01:37:28.829924Z",
     "iopub.status.idle": "2022-06-16T01:37:29.164726Z",
     "shell.execute_reply": "2022-06-16T01:37:29.163763Z"
    },
    "id": "CiX2FI4gZtTt",
    "cell_id": "00011-ec1cab27-8361-496e-9570-56268418db80",
    "deepnote_to_be_reexecuted": false,
    "source_hash": "122c88af",
    "execution_start": 1669384696021,
    "execution_millis": 216,
    "deepnote_cell_type": "code",
    "deepnote_cell_height": 184
   },
   "source": "url = 'http://archive.ics.uci.edu/ml/machine-learning-databases/auto-mpg/auto-mpg.data'\ncolumn_names = ['MPG', 'Cylinders', 'Displacement', 'Horsepower', 'Weight',\n                'Acceleration', 'Model Year', 'Origin']\n\nraw_dataset = pd.read_csv(url, names=column_names,\n                          na_values='?', comment='\\t',\n                          sep=' ', skipinitialspace=True)",
   "execution_count": null,
   "outputs": []
  },
  {
   "cell_type": "code",
   "metadata": {
    "execution": {
     "iopub.execute_input": "2022-06-16T01:37:29.168273Z",
     "iopub.status.busy": "2022-06-16T01:37:29.168002Z",
     "iopub.status.idle": "2022-06-16T01:37:29.187341Z",
     "shell.execute_reply": "2022-06-16T01:37:29.186598Z"
    },
    "id": "2oY3pMPagJrO",
    "cell_id": "00012-bdf73cb5-c3d9-4e54-b939-72ed81d13847",
    "deepnote_to_be_reexecuted": false,
    "source_hash": "91fbaa7b",
    "execution_start": 1669384696271,
    "execution_millis": 24,
    "deepnote_cell_type": "code",
    "deepnote_cell_height": 408
   },
   "source": "dataset = raw_dataset.copy()\ndataset.tail()",
   "execution_count": null,
   "outputs": [
    {
     "output_type": "execute_result",
     "execution_count": 4,
     "data": {
      "application/vnd.deepnote.dataframe.v3+json": {
       "column_count": 8,
       "row_count": 5,
       "columns": [
        {
         "name": "MPG",
         "dtype": "float64",
         "stats": {
          "unique_count": 5,
          "nan_count": 0,
          "min": "27.0",
          "max": "44.0",
          "histogram": [
           {
            "bin_start": 27,
            "bin_end": 28.7,
            "count": 2
           },
           {
            "bin_start": 28.7,
            "bin_end": 30.4,
            "count": 0
           },
           {
            "bin_start": 30.4,
            "bin_end": 32.1,
            "count": 2
           },
           {
            "bin_start": 32.1,
            "bin_end": 33.8,
            "count": 0
           },
           {
            "bin_start": 33.8,
            "bin_end": 35.5,
            "count": 0
           },
           {
            "bin_start": 35.5,
            "bin_end": 37.2,
            "count": 0
           },
           {
            "bin_start": 37.2,
            "bin_end": 38.9,
            "count": 0
           },
           {
            "bin_start": 38.9,
            "bin_end": 40.6,
            "count": 0
           },
           {
            "bin_start": 40.6,
            "bin_end": 42.3,
            "count": 0
           },
           {
            "bin_start": 42.3,
            "bin_end": 44,
            "count": 1
           }
          ]
         }
        },
        {
         "name": "Cylinders",
         "dtype": "int64",
         "stats": {
          "unique_count": 1,
          "nan_count": 0,
          "min": "4",
          "max": "4",
          "histogram": [
           {
            "bin_start": 3.5,
            "bin_end": 3.6,
            "count": 0
           },
           {
            "bin_start": 3.6,
            "bin_end": 3.7,
            "count": 0
           },
           {
            "bin_start": 3.7,
            "bin_end": 3.8,
            "count": 0
           },
           {
            "bin_start": 3.8,
            "bin_end": 3.9,
            "count": 0
           },
           {
            "bin_start": 3.9,
            "bin_end": 4,
            "count": 0
           },
           {
            "bin_start": 4,
            "bin_end": 4.1,
            "count": 5
           },
           {
            "bin_start": 4.1,
            "bin_end": 4.2,
            "count": 0
           },
           {
            "bin_start": 4.2,
            "bin_end": 4.3,
            "count": 0
           },
           {
            "bin_start": 4.3,
            "bin_end": 4.4,
            "count": 0
           },
           {
            "bin_start": 4.4,
            "bin_end": 4.5,
            "count": 0
           }
          ]
         }
        },
        {
         "name": "Displacement",
         "dtype": "float64",
         "stats": {
          "unique_count": 5,
          "nan_count": 0,
          "min": "97.0",
          "max": "140.0",
          "histogram": [
           {
            "bin_start": 97,
            "bin_end": 101.3,
            "count": 1
           },
           {
            "bin_start": 101.3,
            "bin_end": 105.6,
            "count": 0
           },
           {
            "bin_start": 105.6,
            "bin_end": 109.9,
            "count": 0
           },
           {
            "bin_start": 109.9,
            "bin_end": 114.2,
            "count": 0
           },
           {
            "bin_start": 114.2,
            "bin_end": 118.5,
            "count": 0
           },
           {
            "bin_start": 118.5,
            "bin_end": 122.8,
            "count": 2
           },
           {
            "bin_start": 122.8,
            "bin_end": 127.1,
            "count": 0
           },
           {
            "bin_start": 127.1,
            "bin_end": 131.4,
            "count": 0
           },
           {
            "bin_start": 131.4,
            "bin_end": 135.7,
            "count": 1
           },
           {
            "bin_start": 135.7,
            "bin_end": 140,
            "count": 1
           }
          ]
         }
        },
        {
         "name": "Horsepower",
         "dtype": "float64",
         "stats": {
          "unique_count": 5,
          "nan_count": 0,
          "min": "52.0",
          "max": "86.0",
          "histogram": [
           {
            "bin_start": 52,
            "bin_end": 55.4,
            "count": 1
           },
           {
            "bin_start": 55.4,
            "bin_end": 58.8,
            "count": 0
           },
           {
            "bin_start": 58.8,
            "bin_end": 62.2,
            "count": 0
           },
           {
            "bin_start": 62.2,
            "bin_end": 65.6,
            "count": 0
           },
           {
            "bin_start": 65.6,
            "bin_end": 69,
            "count": 0
           },
           {
            "bin_start": 69,
            "bin_end": 72.4,
            "count": 0
           },
           {
            "bin_start": 72.4,
            "bin_end": 75.8,
            "count": 0
           },
           {
            "bin_start": 75.8,
            "bin_end": 79.2,
            "count": 1
           },
           {
            "bin_start": 79.2,
            "bin_end": 82.6,
            "count": 1
           },
           {
            "bin_start": 82.6,
            "bin_end": 86,
            "count": 2
           }
          ]
         }
        },
        {
         "name": "Weight",
         "dtype": "float64",
         "stats": {
          "unique_count": 5,
          "nan_count": 0,
          "min": "2130.0",
          "max": "2790.0",
          "histogram": [
           {
            "bin_start": 2130,
            "bin_end": 2196,
            "count": 1
           },
           {
            "bin_start": 2196,
            "bin_end": 2262,
            "count": 0
           },
           {
            "bin_start": 2262,
            "bin_end": 2328,
            "count": 1
           },
           {
            "bin_start": 2328,
            "bin_end": 2394,
            "count": 0
           },
           {
            "bin_start": 2394,
            "bin_end": 2460,
            "count": 0
           },
           {
            "bin_start": 2460,
            "bin_end": 2526,
            "count": 0
           },
           {
            "bin_start": 2526,
            "bin_end": 2592,
            "count": 0
           },
           {
            "bin_start": 2592,
            "bin_end": 2658,
            "count": 1
           },
           {
            "bin_start": 2658,
            "bin_end": 2724,
            "count": 1
           },
           {
            "bin_start": 2724,
            "bin_end": 2790,
            "count": 1
           }
          ]
         }
        },
        {
         "name": "Acceleration",
         "dtype": "float64",
         "stats": {
          "unique_count": 5,
          "nan_count": 0,
          "min": "11.6",
          "max": "24.6",
          "histogram": [
           {
            "bin_start": 11.6,
            "bin_end": 12.9,
            "count": 1
           },
           {
            "bin_start": 12.9,
            "bin_end": 14.2,
            "count": 0
           },
           {
            "bin_start": 14.2,
            "bin_end": 15.5,
            "count": 0
           },
           {
            "bin_start": 15.5,
            "bin_end": 16.8,
            "count": 1
           },
           {
            "bin_start": 16.8,
            "bin_end": 18.1,
            "count": 0
           },
           {
            "bin_start": 18.1,
            "bin_end": 19.400000000000002,
            "count": 2
           },
           {
            "bin_start": 19.400000000000002,
            "bin_end": 20.700000000000003,
            "count": 0
           },
           {
            "bin_start": 20.700000000000003,
            "bin_end": 22,
            "count": 0
           },
           {
            "bin_start": 22,
            "bin_end": 23.300000000000004,
            "count": 0
           },
           {
            "bin_start": 23.300000000000004,
            "bin_end": 24.6,
            "count": 1
           }
          ]
         }
        },
        {
         "name": "Model Year",
         "dtype": "int64",
         "stats": {
          "unique_count": 1,
          "nan_count": 0,
          "min": "82",
          "max": "82",
          "histogram": [
           {
            "bin_start": 81.5,
            "bin_end": 81.6,
            "count": 0
           },
           {
            "bin_start": 81.6,
            "bin_end": 81.7,
            "count": 0
           },
           {
            "bin_start": 81.7,
            "bin_end": 81.8,
            "count": 0
           },
           {
            "bin_start": 81.8,
            "bin_end": 81.9,
            "count": 0
           },
           {
            "bin_start": 81.9,
            "bin_end": 82,
            "count": 0
           },
           {
            "bin_start": 82,
            "bin_end": 82.1,
            "count": 5
           },
           {
            "bin_start": 82.1,
            "bin_end": 82.2,
            "count": 0
           },
           {
            "bin_start": 82.2,
            "bin_end": 82.3,
            "count": 0
           },
           {
            "bin_start": 82.3,
            "bin_end": 82.4,
            "count": 0
           },
           {
            "bin_start": 82.4,
            "bin_end": 82.5,
            "count": 0
           }
          ]
         }
        },
        {
         "name": "Origin",
         "dtype": "int64",
         "stats": {
          "unique_count": 2,
          "nan_count": 0,
          "min": "1",
          "max": "2",
          "histogram": [
           {
            "bin_start": 1,
            "bin_end": 1.1,
            "count": 4
           },
           {
            "bin_start": 1.1,
            "bin_end": 1.2,
            "count": 0
           },
           {
            "bin_start": 1.2,
            "bin_end": 1.3,
            "count": 0
           },
           {
            "bin_start": 1.3,
            "bin_end": 1.4,
            "count": 0
           },
           {
            "bin_start": 1.4,
            "bin_end": 1.5,
            "count": 0
           },
           {
            "bin_start": 1.5,
            "bin_end": 1.6,
            "count": 0
           },
           {
            "bin_start": 1.6,
            "bin_end": 1.7000000000000002,
            "count": 0
           },
           {
            "bin_start": 1.7000000000000002,
            "bin_end": 1.8,
            "count": 0
           },
           {
            "bin_start": 1.8,
            "bin_end": 1.9,
            "count": 0
           },
           {
            "bin_start": 1.9,
            "bin_end": 2,
            "count": 1
           }
          ]
         }
        },
        {
         "name": "_deepnote_index_column",
         "dtype": "int64"
        }
       ],
       "rows": [
        {
         "MPG": "27.0",
         "Cylinders": "4",
         "Displacement": "140.0",
         "Horsepower": "86.0",
         "Weight": "2790.0",
         "Acceleration": "15.6",
         "Model Year": "82",
         "Origin": "1",
         "_deepnote_index_column": "393"
        },
        {
         "MPG": "44.0",
         "Cylinders": "4",
         "Displacement": "97.0",
         "Horsepower": "52.0",
         "Weight": "2130.0",
         "Acceleration": "24.6",
         "Model Year": "82",
         "Origin": "2",
         "_deepnote_index_column": "394"
        },
        {
         "MPG": "32.0",
         "Cylinders": "4",
         "Displacement": "135.0",
         "Horsepower": "84.0",
         "Weight": "2295.0",
         "Acceleration": "11.6",
         "Model Year": "82",
         "Origin": "1",
         "_deepnote_index_column": "395"
        },
        {
         "MPG": "28.0",
         "Cylinders": "4",
         "Displacement": "120.0",
         "Horsepower": "79.0",
         "Weight": "2625.0",
         "Acceleration": "18.6",
         "Model Year": "82",
         "Origin": "1",
         "_deepnote_index_column": "396"
        },
        {
         "MPG": "31.0",
         "Cylinders": "4",
         "Displacement": "119.0",
         "Horsepower": "82.0",
         "Weight": "2720.0",
         "Acceleration": "19.4",
         "Model Year": "82",
         "Origin": "1",
         "_deepnote_index_column": "397"
        }
       ]
      },
      "text/plain": "      MPG  Cylinders  Displacement  Horsepower  Weight  Acceleration  \\\n393  27.0          4         140.0        86.0  2790.0          15.6   \n394  44.0          4          97.0        52.0  2130.0          24.6   \n395  32.0          4         135.0        84.0  2295.0          11.6   \n396  28.0          4         120.0        79.0  2625.0          18.6   \n397  31.0          4         119.0        82.0  2720.0          19.4   \n\n     Model Year  Origin  \n393          82       1  \n394          82       2  \n395          82       1  \n396          82       1  \n397          82       1  ",
      "text/html": "<div>\n<style scoped>\n    .dataframe tbody tr th:only-of-type {\n        vertical-align: middle;\n    }\n\n    .dataframe tbody tr th {\n        vertical-align: top;\n    }\n\n    .dataframe thead th {\n        text-align: right;\n    }\n</style>\n<table border=\"1\" class=\"dataframe\">\n  <thead>\n    <tr style=\"text-align: right;\">\n      <th></th>\n      <th>MPG</th>\n      <th>Cylinders</th>\n      <th>Displacement</th>\n      <th>Horsepower</th>\n      <th>Weight</th>\n      <th>Acceleration</th>\n      <th>Model Year</th>\n      <th>Origin</th>\n    </tr>\n  </thead>\n  <tbody>\n    <tr>\n      <th>393</th>\n      <td>27.0</td>\n      <td>4</td>\n      <td>140.0</td>\n      <td>86.0</td>\n      <td>2790.0</td>\n      <td>15.6</td>\n      <td>82</td>\n      <td>1</td>\n    </tr>\n    <tr>\n      <th>394</th>\n      <td>44.0</td>\n      <td>4</td>\n      <td>97.0</td>\n      <td>52.0</td>\n      <td>2130.0</td>\n      <td>24.6</td>\n      <td>82</td>\n      <td>2</td>\n    </tr>\n    <tr>\n      <th>395</th>\n      <td>32.0</td>\n      <td>4</td>\n      <td>135.0</td>\n      <td>84.0</td>\n      <td>2295.0</td>\n      <td>11.6</td>\n      <td>82</td>\n      <td>1</td>\n    </tr>\n    <tr>\n      <th>396</th>\n      <td>28.0</td>\n      <td>4</td>\n      <td>120.0</td>\n      <td>79.0</td>\n      <td>2625.0</td>\n      <td>18.6</td>\n      <td>82</td>\n      <td>1</td>\n    </tr>\n    <tr>\n      <th>397</th>\n      <td>31.0</td>\n      <td>4</td>\n      <td>119.0</td>\n      <td>82.0</td>\n      <td>2720.0</td>\n      <td>19.4</td>\n      <td>82</td>\n      <td>1</td>\n    </tr>\n  </tbody>\n</table>\n</div>"
     },
     "metadata": {}
    }
   ]
  },
  {
   "cell_type": "markdown",
   "source": "### Clean the data\n\nThe dataset contains a few unknown values:",
   "metadata": {
    "id": "3MWuJTKEDM-f",
    "cell_id": "00013-9866709a-9738-4df4-87e8-4301d70ed84c",
    "deepnote_cell_type": "markdown",
    "deepnote_cell_height": 100.390625
   }
  },
  {
   "cell_type": "code",
   "metadata": {
    "execution": {
     "iopub.execute_input": "2022-06-16T01:37:29.191332Z",
     "iopub.status.busy": "2022-06-16T01:37:29.190679Z",
     "iopub.status.idle": "2022-06-16T01:37:29.197435Z",
     "shell.execute_reply": "2022-06-16T01:37:29.196626Z"
    },
    "id": "JEJHhN65a2VV",
    "cell_id": "00014-29409e6d-0edd-4b3b-a9b6-5a646f99e4ab",
    "deepnote_to_be_reexecuted": false,
    "source_hash": "bc9a0baa",
    "execution_start": 1669384696945,
    "execution_millis": 6,
    "deepnote_cell_type": "code",
    "deepnote_cell_height": 265.75,
    "deepnote_output_heights": [
     173.75
    ]
   },
   "source": "dataset.isna().sum()",
   "execution_count": null,
   "outputs": [
    {
     "output_type": "execute_result",
     "execution_count": 5,
     "data": {
      "text/plain": "MPG             0\nCylinders       0\nDisplacement    0\nHorsepower      6\nWeight          0\nAcceleration    0\nModel Year      0\nOrigin          0\ndtype: int64"
     },
     "metadata": {}
    }
   ]
  },
  {
   "cell_type": "markdown",
   "source": "Drop those rows to keep this initial tutorial simple:",
   "metadata": {
    "id": "9UPN0KBHa_WI",
    "cell_id": "00015-31d12300-87a5-4229-84a1-2c38f07194c7",
    "deepnote_cell_type": "markdown",
    "deepnote_cell_height": 52.390625
   }
  },
  {
   "cell_type": "code",
   "metadata": {
    "execution": {
     "iopub.execute_input": "2022-06-16T01:37:29.201473Z",
     "iopub.status.busy": "2022-06-16T01:37:29.200779Z",
     "iopub.status.idle": "2022-06-16T01:37:29.205797Z",
     "shell.execute_reply": "2022-06-16T01:37:29.204988Z"
    },
    "id": "4ZUDosChC1UN",
    "cell_id": "00016-eeb08ee8-eeb9-4115-a1f3-47d26e6c2aaa",
    "deepnote_to_be_reexecuted": false,
    "source_hash": "cd0d36e2",
    "execution_start": 1669384699508,
    "execution_millis": 1,
    "deepnote_cell_type": "code",
    "deepnote_cell_height": 76
   },
   "source": "dataset = dataset.dropna()",
   "execution_count": null,
   "outputs": []
  },
  {
   "cell_type": "markdown",
   "source": "The `\"Origin\"` column is categorical, not numeric. So the next step is to one-hot encode the values in the column with [pd.get_dummies](https://pandas.pydata.org/docs/reference/api/pandas.get_dummies.html).\n\nNote: You can set up the `tf.keras.Model` to do this kind of transformation for you but that's beyond the scope of this tutorial. Check out the [Classify structured data using Keras preprocessing layers](../structured_data/preprocessing_layers.ipynb) or [Load CSV data](../load_data/csv.ipynb) tutorials for examples.",
   "metadata": {
    "id": "8XKitwaH4v8h",
    "cell_id": "00017-ddc9f29e-fd6a-42b9-bcd4-47664afcdbc3",
    "deepnote_cell_type": "markdown",
    "deepnote_cell_height": 133.59375
   }
  },
  {
   "cell_type": "code",
   "metadata": {
    "execution": {
     "iopub.execute_input": "2022-06-16T01:37:29.209662Z",
     "iopub.status.busy": "2022-06-16T01:37:29.209010Z",
     "iopub.status.idle": "2022-06-16T01:37:29.214294Z",
     "shell.execute_reply": "2022-06-16T01:37:29.213499Z"
    },
    "id": "gWNTD2QjBWFJ",
    "cell_id": "00018-b753eecb-cf8e-415e-b575-20a36d01ad8d",
    "deepnote_to_be_reexecuted": false,
    "source_hash": "d1dadd37",
    "execution_start": 1669384700687,
    "execution_millis": 3,
    "deepnote_cell_type": "code",
    "deepnote_cell_height": 76
   },
   "source": "dataset['Origin'] = dataset['Origin'].map({1: 'USA', 2: 'Europe', 3: 'Japan'})",
   "execution_count": null,
   "outputs": []
  },
  {
   "cell_type": "code",
   "metadata": {
    "execution": {
     "iopub.execute_input": "2022-06-16T01:37:29.217643Z",
     "iopub.status.busy": "2022-06-16T01:37:29.217378Z",
     "iopub.status.idle": "2022-06-16T01:37:29.233790Z",
     "shell.execute_reply": "2022-06-16T01:37:29.232937Z"
    },
    "id": "ulXz4J7PAUzk",
    "cell_id": "00019-2d05bac1-1e10-4366-80fe-5079f1b33955",
    "deepnote_to_be_reexecuted": false,
    "source_hash": "f83af244",
    "execution_start": 1669384704004,
    "execution_millis": 727,
    "deepnote_cell_type": "code",
    "deepnote_cell_height": 408
   },
   "source": "dataset = pd.get_dummies(dataset, columns=['Origin'], prefix='', prefix_sep='')\ndataset.tail()",
   "execution_count": null,
   "outputs": [
    {
     "output_type": "execute_result",
     "execution_count": 8,
     "data": {
      "application/vnd.deepnote.dataframe.v3+json": {
       "column_count": 10,
       "row_count": 5,
       "columns": [
        {
         "name": "MPG",
         "dtype": "float64",
         "stats": {
          "unique_count": 5,
          "nan_count": 0,
          "min": "27.0",
          "max": "44.0",
          "histogram": [
           {
            "bin_start": 27,
            "bin_end": 28.7,
            "count": 2
           },
           {
            "bin_start": 28.7,
            "bin_end": 30.4,
            "count": 0
           },
           {
            "bin_start": 30.4,
            "bin_end": 32.1,
            "count": 2
           },
           {
            "bin_start": 32.1,
            "bin_end": 33.8,
            "count": 0
           },
           {
            "bin_start": 33.8,
            "bin_end": 35.5,
            "count": 0
           },
           {
            "bin_start": 35.5,
            "bin_end": 37.2,
            "count": 0
           },
           {
            "bin_start": 37.2,
            "bin_end": 38.9,
            "count": 0
           },
           {
            "bin_start": 38.9,
            "bin_end": 40.6,
            "count": 0
           },
           {
            "bin_start": 40.6,
            "bin_end": 42.3,
            "count": 0
           },
           {
            "bin_start": 42.3,
            "bin_end": 44,
            "count": 1
           }
          ]
         }
        },
        {
         "name": "Cylinders",
         "dtype": "int64",
         "stats": {
          "unique_count": 1,
          "nan_count": 0,
          "min": "4",
          "max": "4",
          "histogram": [
           {
            "bin_start": 3.5,
            "bin_end": 3.6,
            "count": 0
           },
           {
            "bin_start": 3.6,
            "bin_end": 3.7,
            "count": 0
           },
           {
            "bin_start": 3.7,
            "bin_end": 3.8,
            "count": 0
           },
           {
            "bin_start": 3.8,
            "bin_end": 3.9,
            "count": 0
           },
           {
            "bin_start": 3.9,
            "bin_end": 4,
            "count": 0
           },
           {
            "bin_start": 4,
            "bin_end": 4.1,
            "count": 5
           },
           {
            "bin_start": 4.1,
            "bin_end": 4.2,
            "count": 0
           },
           {
            "bin_start": 4.2,
            "bin_end": 4.3,
            "count": 0
           },
           {
            "bin_start": 4.3,
            "bin_end": 4.4,
            "count": 0
           },
           {
            "bin_start": 4.4,
            "bin_end": 4.5,
            "count": 0
           }
          ]
         }
        },
        {
         "name": "Displacement",
         "dtype": "float64",
         "stats": {
          "unique_count": 5,
          "nan_count": 0,
          "min": "97.0",
          "max": "140.0",
          "histogram": [
           {
            "bin_start": 97,
            "bin_end": 101.3,
            "count": 1
           },
           {
            "bin_start": 101.3,
            "bin_end": 105.6,
            "count": 0
           },
           {
            "bin_start": 105.6,
            "bin_end": 109.9,
            "count": 0
           },
           {
            "bin_start": 109.9,
            "bin_end": 114.2,
            "count": 0
           },
           {
            "bin_start": 114.2,
            "bin_end": 118.5,
            "count": 0
           },
           {
            "bin_start": 118.5,
            "bin_end": 122.8,
            "count": 2
           },
           {
            "bin_start": 122.8,
            "bin_end": 127.1,
            "count": 0
           },
           {
            "bin_start": 127.1,
            "bin_end": 131.4,
            "count": 0
           },
           {
            "bin_start": 131.4,
            "bin_end": 135.7,
            "count": 1
           },
           {
            "bin_start": 135.7,
            "bin_end": 140,
            "count": 1
           }
          ]
         }
        },
        {
         "name": "Horsepower",
         "dtype": "float64",
         "stats": {
          "unique_count": 5,
          "nan_count": 0,
          "min": "52.0",
          "max": "86.0",
          "histogram": [
           {
            "bin_start": 52,
            "bin_end": 55.4,
            "count": 1
           },
           {
            "bin_start": 55.4,
            "bin_end": 58.8,
            "count": 0
           },
           {
            "bin_start": 58.8,
            "bin_end": 62.2,
            "count": 0
           },
           {
            "bin_start": 62.2,
            "bin_end": 65.6,
            "count": 0
           },
           {
            "bin_start": 65.6,
            "bin_end": 69,
            "count": 0
           },
           {
            "bin_start": 69,
            "bin_end": 72.4,
            "count": 0
           },
           {
            "bin_start": 72.4,
            "bin_end": 75.8,
            "count": 0
           },
           {
            "bin_start": 75.8,
            "bin_end": 79.2,
            "count": 1
           },
           {
            "bin_start": 79.2,
            "bin_end": 82.6,
            "count": 1
           },
           {
            "bin_start": 82.6,
            "bin_end": 86,
            "count": 2
           }
          ]
         }
        },
        {
         "name": "Weight",
         "dtype": "float64",
         "stats": {
          "unique_count": 5,
          "nan_count": 0,
          "min": "2130.0",
          "max": "2790.0",
          "histogram": [
           {
            "bin_start": 2130,
            "bin_end": 2196,
            "count": 1
           },
           {
            "bin_start": 2196,
            "bin_end": 2262,
            "count": 0
           },
           {
            "bin_start": 2262,
            "bin_end": 2328,
            "count": 1
           },
           {
            "bin_start": 2328,
            "bin_end": 2394,
            "count": 0
           },
           {
            "bin_start": 2394,
            "bin_end": 2460,
            "count": 0
           },
           {
            "bin_start": 2460,
            "bin_end": 2526,
            "count": 0
           },
           {
            "bin_start": 2526,
            "bin_end": 2592,
            "count": 0
           },
           {
            "bin_start": 2592,
            "bin_end": 2658,
            "count": 1
           },
           {
            "bin_start": 2658,
            "bin_end": 2724,
            "count": 1
           },
           {
            "bin_start": 2724,
            "bin_end": 2790,
            "count": 1
           }
          ]
         }
        },
        {
         "name": "Acceleration",
         "dtype": "float64",
         "stats": {
          "unique_count": 5,
          "nan_count": 0,
          "min": "11.6",
          "max": "24.6",
          "histogram": [
           {
            "bin_start": 11.6,
            "bin_end": 12.9,
            "count": 1
           },
           {
            "bin_start": 12.9,
            "bin_end": 14.2,
            "count": 0
           },
           {
            "bin_start": 14.2,
            "bin_end": 15.5,
            "count": 0
           },
           {
            "bin_start": 15.5,
            "bin_end": 16.8,
            "count": 1
           },
           {
            "bin_start": 16.8,
            "bin_end": 18.1,
            "count": 0
           },
           {
            "bin_start": 18.1,
            "bin_end": 19.400000000000002,
            "count": 2
           },
           {
            "bin_start": 19.400000000000002,
            "bin_end": 20.700000000000003,
            "count": 0
           },
           {
            "bin_start": 20.700000000000003,
            "bin_end": 22,
            "count": 0
           },
           {
            "bin_start": 22,
            "bin_end": 23.300000000000004,
            "count": 0
           },
           {
            "bin_start": 23.300000000000004,
            "bin_end": 24.6,
            "count": 1
           }
          ]
         }
        },
        {
         "name": "Model Year",
         "dtype": "int64",
         "stats": {
          "unique_count": 1,
          "nan_count": 0,
          "min": "82",
          "max": "82",
          "histogram": [
           {
            "bin_start": 81.5,
            "bin_end": 81.6,
            "count": 0
           },
           {
            "bin_start": 81.6,
            "bin_end": 81.7,
            "count": 0
           },
           {
            "bin_start": 81.7,
            "bin_end": 81.8,
            "count": 0
           },
           {
            "bin_start": 81.8,
            "bin_end": 81.9,
            "count": 0
           },
           {
            "bin_start": 81.9,
            "bin_end": 82,
            "count": 0
           },
           {
            "bin_start": 82,
            "bin_end": 82.1,
            "count": 5
           },
           {
            "bin_start": 82.1,
            "bin_end": 82.2,
            "count": 0
           },
           {
            "bin_start": 82.2,
            "bin_end": 82.3,
            "count": 0
           },
           {
            "bin_start": 82.3,
            "bin_end": 82.4,
            "count": 0
           },
           {
            "bin_start": 82.4,
            "bin_end": 82.5,
            "count": 0
           }
          ]
         }
        },
        {
         "name": "Europe",
         "dtype": "uint8",
         "stats": {
          "unique_count": 2,
          "nan_count": 0,
          "min": "0",
          "max": "1",
          "histogram": [
           {
            "bin_start": 0,
            "bin_end": 0.1,
            "count": 4
           },
           {
            "bin_start": 0.1,
            "bin_end": 0.2,
            "count": 0
           },
           {
            "bin_start": 0.2,
            "bin_end": 0.30000000000000004,
            "count": 0
           },
           {
            "bin_start": 0.30000000000000004,
            "bin_end": 0.4,
            "count": 0
           },
           {
            "bin_start": 0.4,
            "bin_end": 0.5,
            "count": 0
           },
           {
            "bin_start": 0.5,
            "bin_end": 0.6000000000000001,
            "count": 0
           },
           {
            "bin_start": 0.6000000000000001,
            "bin_end": 0.7000000000000001,
            "count": 0
           },
           {
            "bin_start": 0.7000000000000001,
            "bin_end": 0.8,
            "count": 0
           },
           {
            "bin_start": 0.8,
            "bin_end": 0.9,
            "count": 0
           },
           {
            "bin_start": 0.9,
            "bin_end": 1,
            "count": 1
           }
          ]
         }
        },
        {
         "name": "Japan",
         "dtype": "uint8",
         "stats": {
          "unique_count": 1,
          "nan_count": 0,
          "min": "0",
          "max": "0",
          "histogram": [
           {
            "bin_start": -0.5,
            "bin_end": -0.4,
            "count": 0
           },
           {
            "bin_start": -0.4,
            "bin_end": -0.3,
            "count": 0
           },
           {
            "bin_start": -0.3,
            "bin_end": -0.19999999999999996,
            "count": 0
           },
           {
            "bin_start": -0.19999999999999996,
            "bin_end": -0.09999999999999998,
            "count": 0
           },
           {
            "bin_start": -0.09999999999999998,
            "bin_end": 0,
            "count": 0
           },
           {
            "bin_start": 0,
            "bin_end": 0.10000000000000009,
            "count": 5
           },
           {
            "bin_start": 0.10000000000000009,
            "bin_end": 0.20000000000000007,
            "count": 0
           },
           {
            "bin_start": 0.20000000000000007,
            "bin_end": 0.30000000000000004,
            "count": 0
           },
           {
            "bin_start": 0.30000000000000004,
            "bin_end": 0.4,
            "count": 0
           },
           {
            "bin_start": 0.4,
            "bin_end": 0.5,
            "count": 0
           }
          ]
         }
        },
        {
         "name": "USA",
         "dtype": "uint8",
         "stats": {
          "unique_count": 2,
          "nan_count": 0,
          "min": "0",
          "max": "1",
          "histogram": [
           {
            "bin_start": 0,
            "bin_end": 0.1,
            "count": 1
           },
           {
            "bin_start": 0.1,
            "bin_end": 0.2,
            "count": 0
           },
           {
            "bin_start": 0.2,
            "bin_end": 0.30000000000000004,
            "count": 0
           },
           {
            "bin_start": 0.30000000000000004,
            "bin_end": 0.4,
            "count": 0
           },
           {
            "bin_start": 0.4,
            "bin_end": 0.5,
            "count": 0
           },
           {
            "bin_start": 0.5,
            "bin_end": 0.6000000000000001,
            "count": 0
           },
           {
            "bin_start": 0.6000000000000001,
            "bin_end": 0.7000000000000001,
            "count": 0
           },
           {
            "bin_start": 0.7000000000000001,
            "bin_end": 0.8,
            "count": 0
           },
           {
            "bin_start": 0.8,
            "bin_end": 0.9,
            "count": 0
           },
           {
            "bin_start": 0.9,
            "bin_end": 1,
            "count": 4
           }
          ]
         }
        },
        {
         "name": "_deepnote_index_column",
         "dtype": "int64"
        }
       ],
       "rows": [
        {
         "MPG": "27.0",
         "Cylinders": "4",
         "Displacement": "140.0",
         "Horsepower": "86.0",
         "Weight": "2790.0",
         "Acceleration": "15.6",
         "Model Year": "82",
         "Europe": "0",
         "Japan": "0",
         "USA": "1",
         "_deepnote_index_column": "393"
        },
        {
         "MPG": "44.0",
         "Cylinders": "4",
         "Displacement": "97.0",
         "Horsepower": "52.0",
         "Weight": "2130.0",
         "Acceleration": "24.6",
         "Model Year": "82",
         "Europe": "1",
         "Japan": "0",
         "USA": "0",
         "_deepnote_index_column": "394"
        },
        {
         "MPG": "32.0",
         "Cylinders": "4",
         "Displacement": "135.0",
         "Horsepower": "84.0",
         "Weight": "2295.0",
         "Acceleration": "11.6",
         "Model Year": "82",
         "Europe": "0",
         "Japan": "0",
         "USA": "1",
         "_deepnote_index_column": "395"
        },
        {
         "MPG": "28.0",
         "Cylinders": "4",
         "Displacement": "120.0",
         "Horsepower": "79.0",
         "Weight": "2625.0",
         "Acceleration": "18.6",
         "Model Year": "82",
         "Europe": "0",
         "Japan": "0",
         "USA": "1",
         "_deepnote_index_column": "396"
        },
        {
         "MPG": "31.0",
         "Cylinders": "4",
         "Displacement": "119.0",
         "Horsepower": "82.0",
         "Weight": "2720.0",
         "Acceleration": "19.4",
         "Model Year": "82",
         "Europe": "0",
         "Japan": "0",
         "USA": "1",
         "_deepnote_index_column": "397"
        }
       ]
      },
      "text/plain": "      MPG  Cylinders  Displacement  Horsepower  Weight  Acceleration  \\\n393  27.0          4         140.0        86.0  2790.0          15.6   \n394  44.0          4          97.0        52.0  2130.0          24.6   \n395  32.0          4         135.0        84.0  2295.0          11.6   \n396  28.0          4         120.0        79.0  2625.0          18.6   \n397  31.0          4         119.0        82.0  2720.0          19.4   \n\n     Model Year  Europe  Japan  USA  \n393          82       0      0    1  \n394          82       1      0    0  \n395          82       0      0    1  \n396          82       0      0    1  \n397          82       0      0    1  ",
      "text/html": "<div>\n<style scoped>\n    .dataframe tbody tr th:only-of-type {\n        vertical-align: middle;\n    }\n\n    .dataframe tbody tr th {\n        vertical-align: top;\n    }\n\n    .dataframe thead th {\n        text-align: right;\n    }\n</style>\n<table border=\"1\" class=\"dataframe\">\n  <thead>\n    <tr style=\"text-align: right;\">\n      <th></th>\n      <th>MPG</th>\n      <th>Cylinders</th>\n      <th>Displacement</th>\n      <th>Horsepower</th>\n      <th>Weight</th>\n      <th>Acceleration</th>\n      <th>Model Year</th>\n      <th>Europe</th>\n      <th>Japan</th>\n      <th>USA</th>\n    </tr>\n  </thead>\n  <tbody>\n    <tr>\n      <th>393</th>\n      <td>27.0</td>\n      <td>4</td>\n      <td>140.0</td>\n      <td>86.0</td>\n      <td>2790.0</td>\n      <td>15.6</td>\n      <td>82</td>\n      <td>0</td>\n      <td>0</td>\n      <td>1</td>\n    </tr>\n    <tr>\n      <th>394</th>\n      <td>44.0</td>\n      <td>4</td>\n      <td>97.0</td>\n      <td>52.0</td>\n      <td>2130.0</td>\n      <td>24.6</td>\n      <td>82</td>\n      <td>1</td>\n      <td>0</td>\n      <td>0</td>\n    </tr>\n    <tr>\n      <th>395</th>\n      <td>32.0</td>\n      <td>4</td>\n      <td>135.0</td>\n      <td>84.0</td>\n      <td>2295.0</td>\n      <td>11.6</td>\n      <td>82</td>\n      <td>0</td>\n      <td>0</td>\n      <td>1</td>\n    </tr>\n    <tr>\n      <th>396</th>\n      <td>28.0</td>\n      <td>4</td>\n      <td>120.0</td>\n      <td>79.0</td>\n      <td>2625.0</td>\n      <td>18.6</td>\n      <td>82</td>\n      <td>0</td>\n      <td>0</td>\n      <td>1</td>\n    </tr>\n    <tr>\n      <th>397</th>\n      <td>31.0</td>\n      <td>4</td>\n      <td>119.0</td>\n      <td>82.0</td>\n      <td>2720.0</td>\n      <td>19.4</td>\n      <td>82</td>\n      <td>0</td>\n      <td>0</td>\n      <td>1</td>\n    </tr>\n  </tbody>\n</table>\n</div>"
     },
     "metadata": {}
    }
   ]
  },
  {
   "cell_type": "markdown",
   "source": "### Split the data into training and test sets\n\nNow, split the dataset into a training set and a test set. You will use the test set in the final evaluation of your models.",
   "metadata": {
    "id": "Cuym4yvk76vU",
    "cell_id": "00020-f2934f33-33ec-4d70-ac30-d0f4baf6cef0",
    "deepnote_cell_type": "markdown",
    "deepnote_cell_height": 100.390625
   }
  },
  {
   "cell_type": "code",
   "metadata": {
    "execution": {
     "iopub.execute_input": "2022-06-16T01:37:29.237842Z",
     "iopub.status.busy": "2022-06-16T01:37:29.237194Z",
     "iopub.status.idle": "2022-06-16T01:37:29.242481Z",
     "shell.execute_reply": "2022-06-16T01:37:29.241715Z"
    },
    "id": "qn-IGhUE7_1H",
    "cell_id": "00021-452327b5-e57a-4246-ab9f-a1d3f81ad6d2",
    "deepnote_to_be_reexecuted": false,
    "source_hash": "c15238cb",
    "execution_start": 1669384714749,
    "execution_millis": 0,
    "deepnote_cell_type": "code",
    "deepnote_cell_height": 94
   },
   "source": "train_dataset = dataset.sample(frac=0.8, random_state=0)\ntest_dataset = dataset.drop(train_dataset.index)",
   "execution_count": null,
   "outputs": []
  },
  {
   "cell_type": "markdown",
   "source": "### Inspect the data\n\nReview the joint distribution of a few pairs of columns from the training set.\n\nThe top row suggests that the fuel efficiency (MPG) is a function of all the other parameters. The other rows indicate they are functions of each other.",
   "metadata": {
    "id": "J4ubs136WLNp",
    "cell_id": "00022-54d9d578-be4e-47a7-8228-3af530de3792",
    "deepnote_cell_type": "markdown",
    "deepnote_cell_height": 159.1875
   }
  },
  {
   "cell_type": "code",
   "metadata": {
    "execution": {
     "iopub.execute_input": "2022-06-16T01:37:29.245887Z",
     "iopub.status.busy": "2022-06-16T01:37:29.245630Z",
     "iopub.status.idle": "2022-06-16T01:37:32.018030Z",
     "shell.execute_reply": "2022-06-16T01:37:32.017178Z"
    },
    "id": "oRKO_x8gWKv-",
    "cell_id": "00023-db2ee7d6-a6a2-4362-b3d2-4c4721d7e7f3",
    "deepnote_to_be_reexecuted": false,
    "source_hash": "b4e9f1d4",
    "execution_start": 1669384716198,
    "execution_millis": 4523,
    "deepnote_cell_type": "code",
    "deepnote_cell_height": 753.1875,
    "deepnote_output_heights": [
     20.1875,
     610
    ]
   },
   "source": "sns.pairplot(train_dataset[['MPG', 'Cylinders', 'Displacement', 'Weight']], diag_kind='kde')",
   "execution_count": null,
   "outputs": [
    {
     "output_type": "execute_result",
     "execution_count": 10,
     "data": {
      "text/plain": "<seaborn.axisgrid.PairGrid at 0x7f438b43b820>"
     },
     "metadata": {}
    },
    {
     "data": {
      "text/plain": "<Figure size 1000x1000 with 20 Axes>",
      "image/png": "[encoded data removed]"
     },
     "metadata": {
      "image/png": {
       "width": 985,
       "height": 986
      }
     },
     "output_type": "display_data"
    }
   ]
  },
  {
   "cell_type": "markdown",
   "source": "Let's also check the overall statistics. Note how each feature covers a very different range:",
   "metadata": {
    "id": "gavKO_6DWRMP",
    "cell_id": "00024-7c6d51b2-b733-4d16-ba7d-c0d9ee60ab72",
    "deepnote_cell_type": "markdown",
    "deepnote_cell_height": 52.390625
   }
  },
  {
   "cell_type": "code",
   "metadata": {
    "execution": {
     "iopub.execute_input": "2022-06-16T01:37:32.022713Z",
     "iopub.status.busy": "2022-06-16T01:37:32.022445Z",
     "iopub.status.idle": "2022-06-16T01:37:32.060971Z",
     "shell.execute_reply": "2022-06-16T01:37:32.060147Z"
    },
    "id": "yi2FzC3T21jR",
    "cell_id": "00025-5cc9fd78-931e-4688-9250-91533676e8d9",
    "deepnote_to_be_reexecuted": false,
    "source_hash": "47e0c26a",
    "execution_start": 1669384719772,
    "execution_millis": 967,
    "deepnote_cell_type": "code",
    "deepnote_cell_height": 595
   },
   "source": "train_dataset.describe().transpose()",
   "execution_count": null,
   "outputs": [
    {
     "output_type": "execute_result",
     "execution_count": 11,
     "data": {
      "application/vnd.deepnote.dataframe.v3+json": {
       "column_count": 8,
       "row_count": 10,
       "columns": [
        {
         "name": "count",
         "dtype": "float64",
         "stats": {
          "unique_count": 1,
          "nan_count": 0,
          "min": "314.0",
          "max": "314.0",
          "histogram": [
           {
            "bin_start": 313.5,
            "bin_end": 313.6,
            "count": 0
           },
           {
            "bin_start": 313.6,
            "bin_end": 313.7,
            "count": 0
           },
           {
            "bin_start": 313.7,
            "bin_end": 313.8,
            "count": 0
           },
           {
            "bin_start": 313.8,
            "bin_end": 313.9,
            "count": 0
           },
           {
            "bin_start": 313.9,
            "bin_end": 314,
            "count": 0
           },
           {
            "bin_start": 314,
            "bin_end": 314.1,
            "count": 10
           },
           {
            "bin_start": 314.1,
            "bin_end": 314.2,
            "count": 0
           },
           {
            "bin_start": 314.2,
            "bin_end": 314.3,
            "count": 0
           },
           {
            "bin_start": 314.3,
            "bin_end": 314.4,
            "count": 0
           },
           {
            "bin_start": 314.4,
            "bin_end": 314.5,
            "count": 0
           }
          ]
         }
        },
        {
         "name": "mean",
         "dtype": "float64",
         "stats": {
          "unique_count": 10,
          "nan_count": 0,
          "min": "0.17834394904458598",
          "max": "2990.251592356688",
          "histogram": [
           {
            "bin_start": 0.17834394904458598,
            "bin_end": 299.1856687898089,
            "count": 9
           },
           {
            "bin_start": 299.1856687898089,
            "bin_end": 598.1929936305733,
            "count": 0
           },
           {
            "bin_start": 598.1929936305733,
            "bin_end": 897.2003184713376,
            "count": 0
           },
           {
            "bin_start": 897.2003184713376,
            "bin_end": 1196.207643312102,
            "count": 0
           },
           {
            "bin_start": 1196.207643312102,
            "bin_end": 1495.2149681528663,
            "count": 0
           },
           {
            "bin_start": 1495.2149681528663,
            "bin_end": 1794.2222929936306,
            "count": 0
           },
           {
            "bin_start": 1794.2222929936306,
            "bin_end": 2093.229617834395,
            "count": 0
           },
           {
            "bin_start": 2093.229617834395,
            "bin_end": 2392.2369426751593,
            "count": 0
           },
           {
            "bin_start": 2392.2369426751593,
            "bin_end": 2691.2442675159236,
            "count": 0
           },
           {
            "bin_start": 2691.2442675159236,
            "bin_end": 2990.251592356688,
            "count": 1
           }
          ]
         }
        },
        {
         "name": "std",
         "dtype": "float64",
         "stats": {
          "unique_count": 10,
          "nan_count": 0,
          "min": "0.38341303504510926",
          "max": "843.8985961905663",
          "histogram": [
           {
            "bin_start": 0.38341303504510926,
            "bin_end": 84.73493135059722,
            "count": 8
           },
           {
            "bin_start": 84.73493135059722,
            "bin_end": 169.08644966614935,
            "count": 1
           },
           {
            "bin_start": 169.08644966614935,
            "bin_end": 253.43796798170146,
            "count": 0
           },
           {
            "bin_start": 253.43796798170146,
            "bin_end": 337.7894862972536,
            "count": 0
           },
           {
            "bin_start": 337.7894862972536,
            "bin_end": 422.14100461280566,
            "count": 0
           },
           {
            "bin_start": 422.14100461280566,
            "bin_end": 506.4925229283578,
            "count": 0
           },
           {
            "bin_start": 506.4925229283578,
            "bin_end": 590.8440412439099,
            "count": 0
           },
           {
            "bin_start": 590.8440412439099,
            "bin_end": 675.195559559462,
            "count": 0
           },
           {
            "bin_start": 675.195559559462,
            "bin_end": 759.5470778750141,
            "count": 0
           },
           {
            "bin_start": 759.5470778750141,
            "bin_end": 843.8985961905663,
            "count": 1
           }
          ]
         }
        },
        {
         "name": "min",
         "dtype": "float64",
         "stats": {
          "unique_count": 8,
          "nan_count": 0,
          "min": "0.0",
          "max": "1649.0",
          "histogram": [
           {
            "bin_start": 0,
            "bin_end": 164.9,
            "count": 9
           },
           {
            "bin_start": 164.9,
            "bin_end": 329.8,
            "count": 0
           },
           {
            "bin_start": 329.8,
            "bin_end": 494.70000000000005,
            "count": 0
           },
           {
            "bin_start": 494.70000000000005,
            "bin_end": 659.6,
            "count": 0
           },
           {
            "bin_start": 659.6,
            "bin_end": 824.5,
            "count": 0
           },
           {
            "bin_start": 824.5,
            "bin_end": 989.4000000000001,
            "count": 0
           },
           {
            "bin_start": 989.4000000000001,
            "bin_end": 1154.3,
            "count": 0
           },
           {
            "bin_start": 1154.3,
            "bin_end": 1319.2,
            "count": 0
           },
           {
            "bin_start": 1319.2,
            "bin_end": 1484.1000000000001,
            "count": 0
           },
           {
            "bin_start": 1484.1000000000001,
            "bin_end": 1649,
            "count": 1
           }
          ]
         }
        },
        {
         "name": "25%",
         "dtype": "float64",
         "stats": {
          "unique_count": 8,
          "nan_count": 0,
          "min": "0.0",
          "max": "2256.5",
          "histogram": [
           {
            "bin_start": 0,
            "bin_end": 225.65,
            "count": 9
           },
           {
            "bin_start": 225.65,
            "bin_end": 451.3,
            "count": 0
           },
           {
            "bin_start": 451.3,
            "bin_end": 676.95,
            "count": 0
           },
           {
            "bin_start": 676.95,
            "bin_end": 902.6,
            "count": 0
           },
           {
            "bin_start": 902.6,
            "bin_end": 1128.25,
            "count": 0
           },
           {
            "bin_start": 1128.25,
            "bin_end": 1353.9,
            "count": 0
           },
           {
            "bin_start": 1353.9,
            "bin_end": 1579.55,
            "count": 0
           },
           {
            "bin_start": 1579.55,
            "bin_end": 1805.2,
            "count": 0
           },
           {
            "bin_start": 1805.2,
            "bin_end": 2030.8500000000001,
            "count": 0
           },
           {
            "bin_start": 2030.8500000000001,
            "bin_end": 2256.5,
            "count": 1
           }
          ]
         }
        },
        {
         "name": "50%",
         "dtype": "float64",
         "stats": {
          "unique_count": 9,
          "nan_count": 0,
          "min": "0.0",
          "max": "2822.5",
          "histogram": [
           {
            "bin_start": 0,
            "bin_end": 282.25,
            "count": 9
           },
           {
            "bin_start": 282.25,
            "bin_end": 564.5,
            "count": 0
           },
           {
            "bin_start": 564.5,
            "bin_end": 846.75,
            "count": 0
           },
           {
            "bin_start": 846.75,
            "bin_end": 1129,
            "count": 0
           },
           {
            "bin_start": 1129,
            "bin_end": 1411.25,
            "count": 0
           },
           {
            "bin_start": 1411.25,
            "bin_end": 1693.5,
            "count": 0
           },
           {
            "bin_start": 1693.5,
            "bin_end": 1975.75,
            "count": 0
           },
           {
            "bin_start": 1975.75,
            "bin_end": 2258,
            "count": 0
           },
           {
            "bin_start": 2258,
            "bin_end": 2540.25,
            "count": 0
           },
           {
            "bin_start": 2540.25,
            "bin_end": 2822.5,
            "count": 1
           }
          ]
         }
        },
        {
         "name": "75%",
         "dtype": "float64",
         "stats": {
          "unique_count": 9,
          "nan_count": 0,
          "min": "0.0",
          "max": "3608.0",
          "histogram": [
           {
            "bin_start": 0,
            "bin_end": 360.8,
            "count": 9
           },
           {
            "bin_start": 360.8,
            "bin_end": 721.6,
            "count": 0
           },
           {
            "bin_start": 721.6,
            "bin_end": 1082.4,
            "count": 0
           },
           {
            "bin_start": 1082.4,
            "bin_end": 1443.2,
            "count": 0
           },
           {
            "bin_start": 1443.2,
            "bin_end": 1804,
            "count": 0
           },
           {
            "bin_start": 1804,
            "bin_end": 2164.8,
            "count": 0
           },
           {
            "bin_start": 2164.8,
            "bin_end": 2525.6,
            "count": 0
           },
           {
            "bin_start": 2525.6,
            "bin_end": 2886.4,
            "count": 0
           },
           {
            "bin_start": 2886.4,
            "bin_end": 3247.2000000000003,
            "count": 0
           },
           {
            "bin_start": 3247.2000000000003,
            "bin_end": 3608,
            "count": 1
           }
          ]
         }
        },
        {
         "name": "max",
         "dtype": "float64",
         "stats": {
          "unique_count": 8,
          "nan_count": 0,
          "min": "1.0",
          "max": "5140.0",
          "histogram": [
           {
            "bin_start": 1,
            "bin_end": 514.9,
            "count": 9
           },
           {
            "bin_start": 514.9,
            "bin_end": 1028.8,
            "count": 0
           },
           {
            "bin_start": 1028.8,
            "bin_end": 1542.6999999999998,
            "count": 0
           },
           {
            "bin_start": 1542.6999999999998,
            "bin_end": 2056.6,
            "count": 0
           },
           {
            "bin_start": 2056.6,
            "bin_end": 2570.5,
            "count": 0
           },
           {
            "bin_start": 2570.5,
            "bin_end": 3084.3999999999996,
            "count": 0
           },
           {
            "bin_start": 3084.3999999999996,
            "bin_end": 3598.2999999999997,
            "count": 0
           },
           {
            "bin_start": 3598.2999999999997,
            "bin_end": 4112.2,
            "count": 0
           },
           {
            "bin_start": 4112.2,
            "bin_end": 4626.099999999999,
            "count": 0
           },
           {
            "bin_start": 4626.099999999999,
            "bin_end": 5140,
            "count": 1
           }
          ]
         }
        },
        {
         "name": "_deepnote_index_column",
         "dtype": "object"
        }
       ],
       "rows": [
        {
         "count": "314.0",
         "mean": "23.31050955414013",
         "std": "7.72865199891648",
         "min": "10.0",
         "25%": "17.0",
         "50%": "22.0",
         "75%": "28.95",
         "max": "46.6",
         "_deepnote_index_column": "MPG"
        },
        {
         "count": "314.0",
         "mean": "5.477707006369426",
         "std": "1.6997875727498173",
         "min": "3.0",
         "25%": "4.0",
         "50%": "4.0",
         "75%": "8.0",
         "max": "8.0",
         "_deepnote_index_column": "Cylinders"
        },
        {
         "count": "314.0",
         "mean": "195.3184713375796",
         "std": "104.33158850796352",
         "min": "68.0",
         "25%": "105.5",
         "50%": "151.0",
         "75%": "265.75",
         "max": "455.0",
         "_deepnote_index_column": "Displacement"
        },
        {
         "count": "314.0",
         "mean": "104.86942675159236",
         "std": "38.09621443533365",
         "min": "46.0",
         "25%": "76.25",
         "50%": "94.5",
         "75%": "128.0",
         "max": "225.0",
         "_deepnote_index_column": "Horsepower"
        },
        {
         "count": "314.0",
         "mean": "2990.251592356688",
         "std": "843.8985961905663",
         "min": "1649.0",
         "25%": "2256.5",
         "50%": "2822.5",
         "75%": "3608.0",
         "max": "5140.0",
         "_deepnote_index_column": "Weight"
        },
        {
         "count": "314.0",
         "mean": "15.55923566878981",
         "std": "2.789229751888417",
         "min": "8.0",
         "25%": "13.8",
         "50%": "15.5",
         "75%": "17.2",
         "max": "24.8",
         "_deepnote_index_column": "Acceleration"
        },
        {
         "count": "314.0",
         "mean": "75.89808917197452",
         "std": "3.6756424982267464",
         "min": "70.0",
         "25%": "73.0",
         "50%": "76.0",
         "75%": "79.0",
         "max": "82.0",
         "_deepnote_index_column": "Model Year"
        },
        {
         "count": "314.0",
         "mean": "0.17834394904458598",
         "std": "0.38341303504510926",
         "min": "0.0",
         "25%": "0.0",
         "50%": "0.0",
         "75%": "0.0",
         "max": "1.0",
         "_deepnote_index_column": "Europe"
        },
        {
         "count": "314.0",
         "mean": "0.19745222929936307",
         "std": "0.39871183066063187",
         "min": "0.0",
         "25%": "0.0",
         "50%": "0.0",
         "75%": "0.0",
         "max": "1.0",
         "_deepnote_index_column": "Japan"
        },
        {
         "count": "314.0",
         "mean": "0.6242038216560509",
         "std": "0.4851008621956058",
         "min": "0.0",
         "25%": "0.0",
         "50%": "1.0",
         "75%": "1.0",
         "max": "1.0",
         "_deepnote_index_column": "USA"
        }
       ]
      },
      "text/plain": "              count         mean         std     min      25%     50%  \\\nMPG           314.0    23.310510    7.728652    10.0    17.00    22.0   \nCylinders     314.0     5.477707    1.699788     3.0     4.00     4.0   \nDisplacement  314.0   195.318471  104.331589    68.0   105.50   151.0   \nHorsepower    314.0   104.869427   38.096214    46.0    76.25    94.5   \nWeight        314.0  2990.251592  843.898596  1649.0  2256.50  2822.5   \nAcceleration  314.0    15.559236    2.789230     8.0    13.80    15.5   \nModel Year    314.0    75.898089    3.675642    70.0    73.00    76.0   \nEurope        314.0     0.178344    0.383413     0.0     0.00     0.0   \nJapan         314.0     0.197452    0.398712     0.0     0.00     0.0   \nUSA           314.0     0.624204    0.485101     0.0     0.00     1.0   \n\n                  75%     max  \nMPG             28.95    46.6  \nCylinders        8.00     8.0  \nDisplacement   265.75   455.0  \nHorsepower     128.00   225.0  \nWeight        3608.00  5140.0  \nAcceleration    17.20    24.8  \nModel Year      79.00    82.0  \nEurope           0.00     1.0  \nJapan            0.00     1.0  \nUSA              1.00     1.0  ",
      "text/html": "<div>\n<style scoped>\n    .dataframe tbody tr th:only-of-type {\n        vertical-align: middle;\n    }\n\n    .dataframe tbody tr th {\n        vertical-align: top;\n    }\n\n    .dataframe thead th {\n        text-align: right;\n    }\n</style>\n<table border=\"1\" class=\"dataframe\">\n  <thead>\n    <tr style=\"text-align: right;\">\n      <th></th>\n      <th>count</th>\n      <th>mean</th>\n      <th>std</th>\n      <th>min</th>\n      <th>25%</th>\n      <th>50%</th>\n      <th>75%</th>\n      <th>max</th>\n    </tr>\n  </thead>\n  <tbody>\n    <tr>\n      <th>MPG</th>\n      <td>314.0</td>\n      <td>23.310510</td>\n      <td>7.728652</td>\n      <td>10.0</td>\n      <td>17.00</td>\n      <td>22.0</td>\n      <td>28.95</td>\n      <td>46.6</td>\n    </tr>\n    <tr>\n      <th>Cylinders</th>\n      <td>314.0</td>\n      <td>5.477707</td>\n      <td>1.699788</td>\n      <td>3.0</td>\n      <td>4.00</td>\n      <td>4.0</td>\n      <td>8.00</td>\n      <td>8.0</td>\n    </tr>\n    <tr>\n      <th>Displacement</th>\n      <td>314.0</td>\n      <td>195.318471</td>\n      <td>104.331589</td>\n      <td>68.0</td>\n      <td>105.50</td>\n      <td>151.0</td>\n      <td>265.75</td>\n      <td>455.0</td>\n    </tr>\n    <tr>\n      <th>Horsepower</th>\n      <td>314.0</td>\n      <td>104.869427</td>\n      <td>38.096214</td>\n      <td>46.0</td>\n      <td>76.25</td>\n      <td>94.5</td>\n      <td>128.00</td>\n      <td>225.0</td>\n    </tr>\n    <tr>\n      <th>Weight</th>\n      <td>314.0</td>\n      <td>2990.251592</td>\n      <td>843.898596</td>\n      <td>1649.0</td>\n      <td>2256.50</td>\n      <td>2822.5</td>\n      <td>3608.00</td>\n      <td>5140.0</td>\n    </tr>\n    <tr>\n      <th>Acceleration</th>\n      <td>314.0</td>\n      <td>15.559236</td>\n      <td>2.789230</td>\n      <td>8.0</td>\n      <td>13.80</td>\n      <td>15.5</td>\n      <td>17.20</td>\n      <td>24.8</td>\n    </tr>\n    <tr>\n      <th>Model Year</th>\n      <td>314.0</td>\n      <td>75.898089</td>\n      <td>3.675642</td>\n      <td>70.0</td>\n      <td>73.00</td>\n      <td>76.0</td>\n      <td>79.00</td>\n      <td>82.0</td>\n    </tr>\n    <tr>\n      <th>Europe</th>\n      <td>314.0</td>\n      <td>0.178344</td>\n      <td>0.383413</td>\n      <td>0.0</td>\n      <td>0.00</td>\n      <td>0.0</td>\n      <td>0.00</td>\n      <td>1.0</td>\n    </tr>\n    <tr>\n      <th>Japan</th>\n      <td>314.0</td>\n      <td>0.197452</td>\n      <td>0.398712</td>\n      <td>0.0</td>\n      <td>0.00</td>\n      <td>0.0</td>\n      <td>0.00</td>\n      <td>1.0</td>\n    </tr>\n    <tr>\n      <th>USA</th>\n      <td>314.0</td>\n      <td>0.624204</td>\n      <td>0.485101</td>\n      <td>0.0</td>\n      <td>0.00</td>\n      <td>1.0</td>\n      <td>1.00</td>\n      <td>1.0</td>\n    </tr>\n  </tbody>\n</table>\n</div>"
     },
     "metadata": {}
    }
   ]
  },
  {
   "cell_type": "markdown",
   "source": "### Split features from labels\n\nSeparate the target value—the \"label\"—from the features. This label is the value that you will train the model to predict.",
   "metadata": {
    "id": "Db7Auq1yXUvh",
    "cell_id": "00026-d6ef5e6e-2346-484f-8fc5-5dc5c28d3011",
    "deepnote_cell_type": "markdown",
    "deepnote_cell_height": 100.390625
   }
  },
  {
   "cell_type": "code",
   "metadata": {
    "execution": {
     "iopub.execute_input": "2022-06-16T01:37:32.064430Z",
     "iopub.status.busy": "2022-06-16T01:37:32.064147Z",
     "iopub.status.idle": "2022-06-16T01:37:32.069644Z",
     "shell.execute_reply": "2022-06-16T01:37:32.068859Z"
    },
    "id": "t2sluJdCW7jN",
    "cell_id": "00027-8c0737f9-0a64-42a3-bd62-ec0d87f0754b",
    "deepnote_to_be_reexecuted": false,
    "source_hash": "d6d3c091",
    "execution_start": 1669384719837,
    "execution_millis": 1,
    "deepnote_cell_type": "code",
    "deepnote_cell_height": 148
   },
   "source": "train_features = train_dataset.copy()\ntest_features = test_dataset.copy()\n\ntrain_labels = train_features.pop('MPG')\ntest_labels = test_features.pop('MPG')",
   "execution_count": null,
   "outputs": []
  },
  {
   "cell_type": "markdown",
   "source": "## Normalization\n\nIn the table of statistics it's easy to see how different the ranges of each feature are:",
   "metadata": {
    "id": "mRklxK5s388r",
    "cell_id": "00028-b2894979-c7d5-4b0b-8e6e-c9e2077daeb4",
    "deepnote_cell_type": "markdown",
    "deepnote_cell_height": 108.390625
   }
  },
  {
   "cell_type": "code",
   "metadata": {
    "execution": {
     "iopub.execute_input": "2022-06-16T01:37:32.073498Z",
     "iopub.status.busy": "2022-06-16T01:37:32.072790Z",
     "iopub.status.idle": "2022-06-16T01:37:32.103435Z",
     "shell.execute_reply": "2022-06-16T01:37:32.102654Z"
    },
    "id": "IcmY6lKKbkw8",
    "cell_id": "00029-2cd8ba5e-db37-444a-ac58-93639fdeb62f",
    "deepnote_to_be_reexecuted": false,
    "source_hash": "828884c1",
    "execution_start": 1669384719843,
    "execution_millis": 897,
    "deepnote_cell_type": "code",
    "deepnote_cell_height": 595
   },
   "source": "train_dataset.describe().transpose()[['mean', 'std']]",
   "execution_count": null,
   "outputs": [
    {
     "output_type": "execute_result",
     "execution_count": 13,
     "data": {
      "application/vnd.deepnote.dataframe.v3+json": {
       "column_count": 2,
       "row_count": 10,
       "columns": [
        {
         "name": "mean",
         "dtype": "float64",
         "stats": {
          "unique_count": 10,
          "nan_count": 0,
          "min": "0.17834394904458598",
          "max": "2990.251592356688",
          "histogram": [
           {
            "bin_start": 0.17834394904458598,
            "bin_end": 299.1856687898089,
            "count": 9
           },
           {
            "bin_start": 299.1856687898089,
            "bin_end": 598.1929936305733,
            "count": 0
           },
           {
            "bin_start": 598.1929936305733,
            "bin_end": 897.2003184713376,
            "count": 0
           },
           {
            "bin_start": 897.2003184713376,
            "bin_end": 1196.207643312102,
            "count": 0
           },
           {
            "bin_start": 1196.207643312102,
            "bin_end": 1495.2149681528663,
            "count": 0
           },
           {
            "bin_start": 1495.2149681528663,
            "bin_end": 1794.2222929936306,
            "count": 0
           },
           {
            "bin_start": 1794.2222929936306,
            "bin_end": 2093.229617834395,
            "count": 0
           },
           {
            "bin_start": 2093.229617834395,
            "bin_end": 2392.2369426751593,
            "count": 0
           },
           {
            "bin_start": 2392.2369426751593,
            "bin_end": 2691.2442675159236,
            "count": 0
           },
           {
            "bin_start": 2691.2442675159236,
            "bin_end": 2990.251592356688,
            "count": 1
           }
          ]
         }
        },
        {
         "name": "std",
         "dtype": "float64",
         "stats": {
          "unique_count": 10,
          "nan_count": 0,
          "min": "0.38341303504510926",
          "max": "843.8985961905663",
          "histogram": [
           {
            "bin_start": 0.38341303504510926,
            "bin_end": 84.73493135059722,
            "count": 8
           },
           {
            "bin_start": 84.73493135059722,
            "bin_end": 169.08644966614935,
            "count": 1
           },
           {
            "bin_start": 169.08644966614935,
            "bin_end": 253.43796798170146,
            "count": 0
           },
           {
            "bin_start": 253.43796798170146,
            "bin_end": 337.7894862972536,
            "count": 0
           },
           {
            "bin_start": 337.7894862972536,
            "bin_end": 422.14100461280566,
            "count": 0
           },
           {
            "bin_start": 422.14100461280566,
            "bin_end": 506.4925229283578,
            "count": 0
           },
           {
            "bin_start": 506.4925229283578,
            "bin_end": 590.8440412439099,
            "count": 0
           },
           {
            "bin_start": 590.8440412439099,
            "bin_end": 675.195559559462,
            "count": 0
           },
           {
            "bin_start": 675.195559559462,
            "bin_end": 759.5470778750141,
            "count": 0
           },
           {
            "bin_start": 759.5470778750141,
            "bin_end": 843.8985961905663,
            "count": 1
           }
          ]
         }
        },
        {
         "name": "_deepnote_index_column",
         "dtype": "object"
        }
       ],
       "rows": [
        {
         "mean": "23.31050955414013",
         "std": "7.72865199891648",
         "_deepnote_index_column": "MPG"
        },
        {
         "mean": "5.477707006369426",
         "std": "1.6997875727498173",
         "_deepnote_index_column": "Cylinders"
        },
        {
         "mean": "195.3184713375796",
         "std": "104.33158850796352",
         "_deepnote_index_column": "Displacement"
        },
        {
         "mean": "104.86942675159236",
         "std": "38.09621443533365",
         "_deepnote_index_column": "Horsepower"
        },
        {
         "mean": "2990.251592356688",
         "std": "843.8985961905663",
         "_deepnote_index_column": "Weight"
        },
        {
         "mean": "15.55923566878981",
         "std": "2.789229751888417",
         "_deepnote_index_column": "Acceleration"
        },
        {
         "mean": "75.89808917197452",
         "std": "3.6756424982267464",
         "_deepnote_index_column": "Model Year"
        },
        {
         "mean": "0.17834394904458598",
         "std": "0.38341303504510926",
         "_deepnote_index_column": "Europe"
        },
        {
         "mean": "0.19745222929936307",
         "std": "0.39871183066063187",
         "_deepnote_index_column": "Japan"
        },
        {
         "mean": "0.6242038216560509",
         "std": "0.4851008621956058",
         "_deepnote_index_column": "USA"
        }
       ]
      },
      "text/plain": "                     mean         std\nMPG             23.310510    7.728652\nCylinders        5.477707    1.699788\nDisplacement   195.318471  104.331589\nHorsepower     104.869427   38.096214\nWeight        2990.251592  843.898596\nAcceleration    15.559236    2.789230\nModel Year      75.898089    3.675642\nEurope           0.178344    0.383413\nJapan            0.197452    0.398712\nUSA              0.624204    0.485101",
      "text/html": "<div>\n<style scoped>\n    .dataframe tbody tr th:only-of-type {\n        vertical-align: middle;\n    }\n\n    .dataframe tbody tr th {\n        vertical-align: top;\n    }\n\n    .dataframe thead th {\n        text-align: right;\n    }\n</style>\n<table border=\"1\" class=\"dataframe\">\n  <thead>\n    <tr style=\"text-align: right;\">\n      <th></th>\n      <th>mean</th>\n      <th>std</th>\n    </tr>\n  </thead>\n  <tbody>\n    <tr>\n      <th>MPG</th>\n      <td>23.310510</td>\n      <td>7.728652</td>\n    </tr>\n    <tr>\n      <th>Cylinders</th>\n      <td>5.477707</td>\n      <td>1.699788</td>\n    </tr>\n    <tr>\n      <th>Displacement</th>\n      <td>195.318471</td>\n      <td>104.331589</td>\n    </tr>\n    <tr>\n      <th>Horsepower</th>\n      <td>104.869427</td>\n      <td>38.096214</td>\n    </tr>\n    <tr>\n      <th>Weight</th>\n      <td>2990.251592</td>\n      <td>843.898596</td>\n    </tr>\n    <tr>\n      <th>Acceleration</th>\n      <td>15.559236</td>\n      <td>2.789230</td>\n    </tr>\n    <tr>\n      <th>Model Year</th>\n      <td>75.898089</td>\n      <td>3.675642</td>\n    </tr>\n    <tr>\n      <th>Europe</th>\n      <td>0.178344</td>\n      <td>0.383413</td>\n    </tr>\n    <tr>\n      <th>Japan</th>\n      <td>0.197452</td>\n      <td>0.398712</td>\n    </tr>\n    <tr>\n      <th>USA</th>\n      <td>0.624204</td>\n      <td>0.485101</td>\n    </tr>\n  </tbody>\n</table>\n</div>"
     },
     "metadata": {}
    }
   ]
  },
  {
   "cell_type": "markdown",
   "source": "It is good practice to normalize features that use different scales and ranges.\n\nOne reason this is important is because the features are multiplied by the model weights. So, the scale of the outputs and the scale of the gradients are affected by the scale of the inputs.\n\nAlthough a model *might* converge without feature normalization, normalization makes training much more stable.\n\nNote: There is no advantage to normalizing the one-hot features—it is done here for simplicity. For more details on how to use the preprocessing layers, refer to the [Working with preprocessing layers](https://www.tensorflow.org/guide/keras/preprocessing_layers) guide and the [Classify structured data using Keras preprocessing layers](../structured_data/preprocessing_layers.ipynb) tutorial.",
   "metadata": {
    "id": "-ywmerQ6dSox",
    "cell_id": "00030-6ca45ea5-32a1-4669-974c-18e858d11312",
    "deepnote_cell_type": "markdown",
    "deepnote_cell_height": 228.78125
   }
  },
  {
   "cell_type": "markdown",
   "source": "### The Normalization layer\n\nThe `tf.keras.layers.Normalization` is a clean and simple way to add feature normalization into your model.\n\nThe first step is to create the layer:",
   "metadata": {
    "id": "aFJ6ISropeoo",
    "cell_id": "00031-6e2b53fe-327e-482d-97c6-fe3ae1ccb580",
    "deepnote_cell_type": "markdown",
    "deepnote_cell_height": 136.796875
   }
  },
  {
   "cell_type": "code",
   "metadata": {
    "execution": {
     "iopub.execute_input": "2022-06-16T01:37:32.107447Z",
     "iopub.status.busy": "2022-06-16T01:37:32.107134Z",
     "iopub.status.idle": "2022-06-16T01:37:32.114081Z",
     "shell.execute_reply": "2022-06-16T01:37:32.113297Z"
    },
    "id": "JlC5ooJrgjQF",
    "cell_id": "00032-675a9b63-c0fe-489e-81c1-03470fe09e49",
    "deepnote_to_be_reexecuted": false,
    "source_hash": "a5f08440",
    "execution_start": 1669384722698,
    "execution_millis": 9,
    "deepnote_cell_type": "code"
   },
   "source": "normalizer = tf.keras.layers.Normalization(axis=-1)",
   "execution_count": null,
   "outputs": []
  },
  {
   "cell_type": "markdown",
   "source": "Then, fit the state of the preprocessing layer to the data by calling `Normalization.adapt`:",
   "metadata": {
    "id": "XYA2Ap6nVOha",
    "cell_id": "00033-8a2c85d1-f4a7-4ef3-b5cc-90495295fa92",
    "deepnote_cell_type": "markdown"
   }
  },
  {
   "cell_type": "code",
   "metadata": {
    "execution": {
     "iopub.execute_input": "2022-06-16T01:37:32.117794Z",
     "iopub.status.busy": "2022-06-16T01:37:32.117537Z",
     "iopub.status.idle": "2022-06-16T01:37:35.361879Z",
     "shell.execute_reply": "2022-06-16T01:37:35.360851Z"
    },
    "id": "CrBbbjbwV91f",
    "cell_id": "00034-d1b502b2-2c8c-4941-9cac-a59ce4084479",
    "deepnote_to_be_reexecuted": false,
    "source_hash": "cc495d1a",
    "execution_start": 1669384723416,
    "execution_millis": 822,
    "deepnote_cell_type": "code"
   },
   "source": "normalizer.adapt(np.array(train_features))",
   "execution_count": null,
   "outputs": [
    {
     "name": "stderr",
     "text": "2022-11-25 13:58:43.413911: W tensorflow/stream_executor/platform/default/dso_loader.cc:64] Could not load dynamic library 'libcuda.so.1'; dlerror: libcuda.so.1: cannot open shared object file: No such file or directory\n2022-11-25 13:58:43.413953: W tensorflow/stream_executor/cuda/cuda_driver.cc:263] failed call to cuInit: UNKNOWN ERROR (303)\n2022-11-25 13:58:43.413973: I tensorflow/stream_executor/cuda/cuda_diagnostics.cc:156] kernel driver does not appear to be running on this host (p-8ea8948f-b978-492f-a6dd-8ac5feb4b472): /proc/driver/nvidia/version does not exist\n2022-11-25 13:58:43.414338: I tensorflow/core/platform/cpu_feature_guard.cc:193] This TensorFlow binary is optimized with oneAPI Deep Neural Network Library (oneDNN) to use the following CPU instructions in performance-critical operations:  AVX2 FMA\nTo enable them in other operations, rebuild TensorFlow with the appropriate compiler flags.\n",
     "output_type": "stream"
    }
   ]
  },
  {
   "cell_type": "markdown",
   "source": "Calculate the mean and variance, and store them in the layer:",
   "metadata": {
    "id": "oZccMR5yV9YV",
    "cell_id": "00035-20ce08d0-fb18-42a5-9ad4-d32230e87aa6",
    "deepnote_cell_type": "markdown"
   }
  },
  {
   "cell_type": "code",
   "metadata": {
    "execution": {
     "iopub.execute_input": "2022-06-16T01:37:35.366092Z",
     "iopub.status.busy": "2022-06-16T01:37:35.365830Z",
     "iopub.status.idle": "2022-06-16T01:37:35.370904Z",
     "shell.execute_reply": "2022-06-16T01:37:35.370065Z"
    },
    "id": "GGn-ukwxSPtx",
    "cell_id": "00036-a5e82e49-63fc-4e78-8111-0999ce630891",
    "deepnote_to_be_reexecuted": false,
    "source_hash": "36fc5abd",
    "execution_start": 1669384724731,
    "execution_millis": 8,
    "deepnote_cell_type": "code"
   },
   "source": "print(normalizer.mean.numpy())",
   "execution_count": null,
   "outputs": [
    {
     "name": "stdout",
     "text": "[[   5.478  195.318  104.869 2990.252   15.559   75.898    0.178    0.197\n     0.624]]\n",
     "output_type": "stream"
    }
   ]
  },
  {
   "cell_type": "markdown",
   "source": "When the layer is called, it returns the input data, with each feature independently normalized:",
   "metadata": {
    "id": "oGWKaF9GSRuN",
    "cell_id": "00037-f4f03e45-8709-46be-b35e-086b99f3f706",
    "deepnote_cell_type": "markdown"
   }
  },
  {
   "cell_type": "code",
   "metadata": {
    "execution": {
     "iopub.execute_input": "2022-06-16T01:37:35.374612Z",
     "iopub.status.busy": "2022-06-16T01:37:35.374285Z",
     "iopub.status.idle": "2022-06-16T01:37:35.382418Z",
     "shell.execute_reply": "2022-06-16T01:37:35.381639Z"
    },
    "id": "2l7zFL_XWIRu",
    "cell_id": "00038-7aa0bc14-1e32-4a25-8b1b-9c582fceeb32",
    "deepnote_to_be_reexecuted": false,
    "source_hash": "ebb146c7",
    "execution_start": 1669384726109,
    "execution_millis": 9,
    "deepnote_cell_type": "code"
   },
   "source": "first = np.array(train_features[:1])\n\nwith np.printoptions(precision=2, suppress=True):\n  print('First example:', first)\n  print()\n  print('Normalized:', normalizer(first).numpy())",
   "execution_count": null,
   "outputs": [
    {
     "name": "stdout",
     "text": "First example: [[   4.    90.    75.  2125.    14.5   74.     0.     0.     1. ]]\n\nNormalized: [[-0.87 -1.01 -0.79 -1.03 -0.38 -0.52 -0.47 -0.5   0.78]]\n",
     "output_type": "stream"
    }
   ]
  },
  {
   "cell_type": "markdown",
   "source": "## Linear regression\n\nBefore building a deep neural network model, start with linear regression using one and several variables.",
   "metadata": {
    "id": "6o3CrycBXA2s",
    "cell_id": "00039-7d8bc0bd-77fa-4b40-9080-596b80b26cdb",
    "deepnote_cell_type": "markdown"
   }
  },
  {
   "cell_type": "markdown",
   "source": "### Linear regression with one variable\n\nBegin with a single-variable linear regression to predict `'MPG'` from `'Horsepower'`.\n\nTraining a model with `tf.keras` typically starts by defining the model architecture. Use a `tf.keras.Sequential` model, which [represents a sequence of steps](https://www.tensorflow.org/guide/keras/sequential_model).\n\nThere are two steps in your single-variable linear regression model:\n\n- Normalize the `'Horsepower'` input features using the `tf.keras.layers.Normalization` preprocessing layer.\n- Apply a linear transformation ($y = mx+b$) to produce 1 output using a linear layer (`tf.keras.layers.Dense`).\n\nThe number of _inputs_ can either be set by the `input_shape` argument, or automatically when the model is run for the first time.",
   "metadata": {
    "id": "lFby9n0tnHkw",
    "cell_id": "00040-6e1e84c0-5e75-4eb8-b625-981cf59995d4",
    "deepnote_cell_type": "markdown"
   }
  },
  {
   "cell_type": "markdown",
   "source": "First, create a NumPy array made of the `'Horsepower'` features. Then, instantiate the `tf.keras.layers.Normalization` and fit its state to the `horsepower` data:",
   "metadata": {
    "id": "Xp3gAFn3TPv8",
    "cell_id": "00041-42338085-0e26-4a60-8aec-7024d64b9986",
    "deepnote_cell_type": "markdown"
   }
  },
  {
   "cell_type": "code",
   "metadata": {
    "execution": {
     "iopub.execute_input": "2022-06-16T01:37:35.386215Z",
     "iopub.status.busy": "2022-06-16T01:37:35.385960Z",
     "iopub.status.idle": "2022-06-16T01:37:35.585663Z",
     "shell.execute_reply": "2022-06-16T01:37:35.584741Z"
    },
    "id": "1gJAy0fKs1TS",
    "cell_id": "00042-68c1c051-37b9-44c4-b855-b88a4bd7a407",
    "deepnote_to_be_reexecuted": false,
    "source_hash": "ce36552c",
    "execution_start": 1669384764516,
    "execution_millis": 116,
    "deepnote_cell_type": "code"
   },
   "source": "horsepower = np.array(train_features['Horsepower'])\n\nhorsepower_normalizer = layers.Normalization(input_shape=[1,], axis=None)\nhorsepower_normalizer.adapt(horsepower)",
   "execution_count": null,
   "outputs": []
  },
  {
   "cell_type": "markdown",
   "source": "Build the Keras Sequential model:",
   "metadata": {
    "id": "4NVlHJY2TWlC",
    "cell_id": "00043-00bc7754-08e1-4b4a-bd10-cb7a767391da",
    "deepnote_cell_type": "markdown"
   }
  },
  {
   "cell_type": "code",
   "metadata": {
    "execution": {
     "iopub.execute_input": "2022-06-16T01:37:35.589404Z",
     "iopub.status.busy": "2022-06-16T01:37:35.589117Z",
     "iopub.status.idle": "2022-06-16T01:37:35.626937Z",
     "shell.execute_reply": "2022-06-16T01:37:35.626165Z"
    },
    "id": "c0sXM7qLlKfZ",
    "cell_id": "00044-da4be6fa-fcde-4c35-a391-985fb3230ea1",
    "deepnote_to_be_reexecuted": false,
    "source_hash": "512af066",
    "execution_start": 1669384767175,
    "execution_millis": 74,
    "deepnote_cell_type": "code"
   },
   "source": "horsepower_model = tf.keras.Sequential([\n    horsepower_normalizer,\n    layers.Dense(units=1)\n])\n\nhorsepower_model.summary()",
   "execution_count": null,
   "outputs": [
    {
     "name": "stdout",
     "text": "Model: \"sequential\"\n_________________________________________________________________\n Layer (type)                Output Shape              Param #   \n=================================================================\n normalization_1 (Normalizat  (None, 1)                3         \n ion)                                                            \n                                                                 \n dense (Dense)               (None, 1)                 2         \n                                                                 \n=================================================================\nTotal params: 5\nTrainable params: 2\nNon-trainable params: 3\n_________________________________________________________________\n",
     "output_type": "stream"
    }
   ]
  },
  {
   "cell_type": "markdown",
   "source": "This model will predict `'MPG'` from `'Horsepower'`.\n\nRun the untrained model on the first 10 'Horsepower' values. The output won't be good, but notice that it has the expected shape of `(10, 1)`:",
   "metadata": {
    "id": "eObQu9fDnXGL",
    "cell_id": "00045-cbed1d1c-6a94-439f-9604-a8ace278a84d",
    "deepnote_cell_type": "markdown"
   }
  },
  {
   "cell_type": "code",
   "metadata": {
    "execution": {
     "iopub.execute_input": "2022-06-16T01:37:35.631850Z",
     "iopub.status.busy": "2022-06-16T01:37:35.631587Z",
     "iopub.status.idle": "2022-06-16T01:37:36.034529Z",
     "shell.execute_reply": "2022-06-16T01:37:36.033520Z"
    },
    "id": "UfV1HS6bns-s",
    "cell_id": "00046-749b55a5-e18a-4b1e-be52-269ef524bd27",
    "deepnote_to_be_reexecuted": false,
    "source_hash": "d9cb9f79",
    "execution_start": 1669384770904,
    "execution_millis": 169,
    "deepnote_cell_type": "code"
   },
   "source": "horsepower_model.predict(horsepower[:10])",
   "execution_count": null,
   "outputs": [
    {
     "name": "stdout",
     "text": "1/1 [==============================] - 0s 113ms/step\n",
     "output_type": "stream"
    },
    {
     "output_type": "execute_result",
     "execution_count": 20,
     "data": {
      "text/plain": "array([[-0.302],\n       [-0.171],\n       [ 0.558],\n       [-0.424],\n       [-0.383],\n       [-0.151],\n       [-0.454],\n       [-0.383],\n       [-0.1  ],\n       [-0.171]], dtype=float32)"
     },
     "metadata": {}
    }
   ]
  },
  {
   "cell_type": "markdown",
   "source": "Once the model is built, configure the training procedure using the Keras `Model.compile` method. The most important arguments to compile are the `loss` and the `optimizer`, since these define what will be optimized (`mean_absolute_error`) and how (using the `tf.keras.optimizers.Adam`).",
   "metadata": {
    "id": "CSkanJlmmFBX",
    "cell_id": "00047-a661d1f5-2cc1-4c7d-8327-de9e8973ead5",
    "deepnote_cell_type": "markdown"
   }
  },
  {
   "cell_type": "code",
   "metadata": {
    "execution": {
     "iopub.execute_input": "2022-06-16T01:37:36.038463Z",
     "iopub.status.busy": "2022-06-16T01:37:36.038152Z",
     "iopub.status.idle": "2022-06-16T01:37:36.050568Z",
     "shell.execute_reply": "2022-06-16T01:37:36.049720Z"
    },
    "id": "JxA_3lpOm-SK",
    "cell_id": "00048-1c122b34-d8d8-4bf4-9629-08640383039d",
    "deepnote_to_be_reexecuted": false,
    "source_hash": "e5639f37",
    "execution_start": 1669384776600,
    "execution_millis": 9,
    "deepnote_cell_type": "code"
   },
   "source": "horsepower_model.compile(\n    optimizer=tf.keras.optimizers.Adam(learning_rate=0.1),\n    loss='mean_absolute_error',\n    metrics=[keras.metrics.SparseCategoricalAccuracy()])",
   "execution_count": null,
   "outputs": []
  },
  {
   "cell_type": "markdown",
   "source": "Use Keras `Model.fit` to execute the training for 100 epochs:",
   "metadata": {
    "id": "Z3q1I9TwnRSC",
    "cell_id": "00049-642d8567-4c8d-41e5-99cb-7977f8b0516b",
    "deepnote_cell_type": "markdown"
   }
  },
  {
   "cell_type": "code",
   "metadata": {
    "execution": {
     "iopub.execute_input": "2022-06-16T01:37:36.054101Z",
     "iopub.status.busy": "2022-06-16T01:37:36.053833Z",
     "iopub.status.idle": "2022-06-16T01:37:40.833015Z",
     "shell.execute_reply": "2022-06-16T01:37:40.832093Z"
    },
    "id": "-iSrNy59nRAp",
    "cell_id": "00050-a1205334-f5db-427e-b6c1-f5a1799475f7",
    "deepnote_to_be_reexecuted": false,
    "source_hash": "334e9e54",
    "execution_start": 1669384852944,
    "execution_millis": 3966,
    "deepnote_cell_type": "code"
   },
   "source": "%%time\nhistory = horsepower_model.fit(\n    train_features['Horsepower'],\n    train_labels,\n    epochs=100,\n    # Suppress logging.\n    verbose=0,\n    # Calculate validation results on 20% of the training data.\n    validation_split = 0.2)",
   "execution_count": null,
   "outputs": [
    {
     "name": "stderr",
     "text": "/shared-libs/python3.9/py/lib/python3.9/site-packages/keras/engine/data_adapter.py:1699: FutureWarning: The behavior of `series[i:j]` with an integer-dtype index is deprecated. In a future version, this will be treated as *label-based* indexing, consistent with e.g. `series[i]` lookups. To retain the old behavior, use `series.iloc[i:j]`. To get the future behavior, use `series.loc[i:j]`.\n  return t[start:end]\nCPU times: user 3.58 s, sys: 241 ms, total: 3.82 s\nWall time: 4 s\n",
     "output_type": "stream"
    }
   ]
  },
  {
   "cell_type": "markdown",
   "source": "Visualize the model's training progress using the stats stored in the `history` object:",
   "metadata": {
    "id": "tQm3pc0FYPQB",
    "cell_id": "00051-d815c9ad-9bfd-49d4-a5ad-90ed94f69103",
    "deepnote_cell_type": "markdown"
   }
  },
  {
   "cell_type": "code",
   "metadata": {
    "execution": {
     "iopub.execute_input": "2022-06-16T01:37:40.837885Z",
     "iopub.status.busy": "2022-06-16T01:37:40.836952Z",
     "iopub.status.idle": "2022-06-16T01:37:40.847830Z",
     "shell.execute_reply": "2022-06-16T01:37:40.846976Z"
    },
    "id": "YCAwD_y4AdC3",
    "cell_id": "00052-368173d0-419f-4d71-84d1-569822aecbba",
    "deepnote_to_be_reexecuted": false,
    "source_hash": "61f475c1",
    "execution_start": 1669384856925,
    "execution_millis": 8,
    "deepnote_cell_type": "code"
   },
   "source": "hist = pd.DataFrame(history.history)\nhist['epoch'] = history.epoch\nhist.tail()",
   "execution_count": null,
   "outputs": [
    {
     "output_type": "execute_result",
     "execution_count": 23,
     "data": {
      "application/vnd.deepnote.dataframe.v3+json": {
       "column_count": 5,
       "row_count": 5,
       "columns": [
        {
         "name": "loss",
         "dtype": "float64",
         "stats": {
          "unique_count": 5,
          "nan_count": 0,
          "min": "3.8031516075134277",
          "max": "3.804673433303833",
          "histogram": [
           {
            "bin_start": 3.8031516075134277,
            "bin_end": 3.8033037900924684,
            "count": 1
           },
           {
            "bin_start": 3.8033037900924684,
            "bin_end": 3.8034559726715087,
            "count": 0
           },
           {
            "bin_start": 3.8034559726715087,
            "bin_end": 3.8036081552505494,
            "count": 0
           },
           {
            "bin_start": 3.8036081552505494,
            "bin_end": 3.8037603378295897,
            "count": 0
           },
           {
            "bin_start": 3.8037603378295897,
            "bin_end": 3.8039125204086304,
            "count": 1
           },
           {
            "bin_start": 3.8039125204086304,
            "bin_end": 3.804064702987671,
            "count": 0
           },
           {
            "bin_start": 3.804064702987671,
            "bin_end": 3.8042168855667113,
            "count": 0
           },
           {
            "bin_start": 3.8042168855667113,
            "bin_end": 3.804369068145752,
            "count": 2
           },
           {
            "bin_start": 3.804369068145752,
            "bin_end": 3.8045212507247923,
            "count": 0
           },
           {
            "bin_start": 3.8045212507247923,
            "bin_end": 3.804673433303833,
            "count": 1
           }
          ]
         }
        },
        {
         "name": "sparse_categorical_accuracy",
         "dtype": "float64",
         "stats": {
          "unique_count": 1,
          "nan_count": 0,
          "min": "0.0",
          "max": "0.0",
          "histogram": [
           {
            "bin_start": -0.5,
            "bin_end": -0.4,
            "count": 0
           },
           {
            "bin_start": -0.4,
            "bin_end": -0.3,
            "count": 0
           },
           {
            "bin_start": -0.3,
            "bin_end": -0.19999999999999996,
            "count": 0
           },
           {
            "bin_start": -0.19999999999999996,
            "bin_end": -0.09999999999999998,
            "count": 0
           },
           {
            "bin_start": -0.09999999999999998,
            "bin_end": 0,
            "count": 0
           },
           {
            "bin_start": 0,
            "bin_end": 0.10000000000000009,
            "count": 5
           },
           {
            "bin_start": 0.10000000000000009,
            "bin_end": 0.20000000000000007,
            "count": 0
           },
           {
            "bin_start": 0.20000000000000007,
            "bin_end": 0.30000000000000004,
            "count": 0
           },
           {
            "bin_start": 0.30000000000000004,
            "bin_end": 0.4,
            "count": 0
           },
           {
            "bin_start": 0.4,
            "bin_end": 0.5,
            "count": 0
           }
          ]
         }
        },
        {
         "name": "val_loss",
         "dtype": "float64",
         "stats": {
          "unique_count": 5,
          "nan_count": 0,
          "min": "4.183083534240723",
          "max": "4.200807571411133",
          "histogram": [
           {
            "bin_start": 4.183083534240723,
            "bin_end": 4.184855937957764,
            "count": 1
           },
           {
            "bin_start": 4.184855937957764,
            "bin_end": 4.186628341674805,
            "count": 0
           },
           {
            "bin_start": 4.186628341674805,
            "bin_end": 4.188400745391846,
            "count": 1
           },
           {
            "bin_start": 4.188400745391846,
            "bin_end": 4.190173149108887,
            "count": 1
           },
           {
            "bin_start": 4.190173149108887,
            "bin_end": 4.191945552825928,
            "count": 0
           },
           {
            "bin_start": 4.191945552825928,
            "bin_end": 4.193717956542969,
            "count": 1
           },
           {
            "bin_start": 4.193717956542969,
            "bin_end": 4.19549036026001,
            "count": 0
           },
           {
            "bin_start": 4.19549036026001,
            "bin_end": 4.197262763977051,
            "count": 0
           },
           {
            "bin_start": 4.197262763977051,
            "bin_end": 4.199035167694092,
            "count": 0
           },
           {
            "bin_start": 4.199035167694092,
            "bin_end": 4.200807571411133,
            "count": 1
           }
          ]
         }
        },
        {
         "name": "val_sparse_categorical_accuracy",
         "dtype": "float64",
         "stats": {
          "unique_count": 1,
          "nan_count": 0,
          "min": "0.0",
          "max": "0.0",
          "histogram": [
           {
            "bin_start": -0.5,
            "bin_end": -0.4,
            "count": 0
           },
           {
            "bin_start": -0.4,
            "bin_end": -0.3,
            "count": 0
           },
           {
            "bin_start": -0.3,
            "bin_end": -0.19999999999999996,
            "count": 0
           },
           {
            "bin_start": -0.19999999999999996,
            "bin_end": -0.09999999999999998,
            "count": 0
           },
           {
            "bin_start": -0.09999999999999998,
            "bin_end": 0,
            "count": 0
           },
           {
            "bin_start": 0,
            "bin_end": 0.10000000000000009,
            "count": 5
           },
           {
            "bin_start": 0.10000000000000009,
            "bin_end": 0.20000000000000007,
            "count": 0
           },
           {
            "bin_start": 0.20000000000000007,
            "bin_end": 0.30000000000000004,
            "count": 0
           },
           {
            "bin_start": 0.30000000000000004,
            "bin_end": 0.4,
            "count": 0
           },
           {
            "bin_start": 0.4,
            "bin_end": 0.5,
            "count": 0
           }
          ]
         }
        },
        {
         "name": "epoch",
         "dtype": "int64",
         "stats": {
          "unique_count": 5,
          "nan_count": 0,
          "min": "95",
          "max": "99",
          "histogram": [
           {
            "bin_start": 95,
            "bin_end": 95.4,
            "count": 1
           },
           {
            "bin_start": 95.4,
            "bin_end": 95.8,
            "count": 0
           },
           {
            "bin_start": 95.8,
            "bin_end": 96.2,
            "count": 1
           },
           {
            "bin_start": 96.2,
            "bin_end": 96.6,
            "count": 0
           },
           {
            "bin_start": 96.6,
            "bin_end": 97,
            "count": 0
           },
           {
            "bin_start": 97,
            "bin_end": 97.4,
            "count": 1
           },
           {
            "bin_start": 97.4,
            "bin_end": 97.8,
            "count": 0
           },
           {
            "bin_start": 97.8,
            "bin_end": 98.2,
            "count": 1
           },
           {
            "bin_start": 98.2,
            "bin_end": 98.6,
            "count": 0
           },
           {
            "bin_start": 98.6,
            "bin_end": 99,
            "count": 1
           }
          ]
         }
        },
        {
         "name": "_deepnote_index_column",
         "dtype": "int64"
        }
       ],
       "rows": [
        {
         "loss": "3.8031516075134277",
         "sparse_categorical_accuracy": "0.0",
         "val_loss": "4.183083534240723",
         "val_sparse_categorical_accuracy": "0.0",
         "epoch": "95",
         "_deepnote_index_column": "95"
        },
        {
         "loss": "3.804673433303833",
         "sparse_categorical_accuracy": "0.0",
         "val_loss": "4.190093517303467",
         "val_sparse_categorical_accuracy": "0.0",
         "epoch": "96",
         "_deepnote_index_column": "96"
        },
        {
         "loss": "3.8042750358581543",
         "sparse_categorical_accuracy": "0.0",
         "val_loss": "4.193449974060059",
         "val_sparse_categorical_accuracy": "0.0",
         "epoch": "97",
         "_deepnote_index_column": "97"
        },
        {
         "loss": "3.8043019771575928",
         "sparse_categorical_accuracy": "0.0",
         "val_loss": "4.200807571411133",
         "val_sparse_categorical_accuracy": "0.0",
         "epoch": "98",
         "_deepnote_index_column": "98"
        },
        {
         "loss": "3.803898572921753",
         "sparse_categorical_accuracy": "0.0",
         "val_loss": "4.188157081604004",
         "val_sparse_categorical_accuracy": "0.0",
         "epoch": "99",
         "_deepnote_index_column": "99"
        }
       ]
      },
      "text/plain": "        loss  sparse_categorical_accuracy  val_loss  \\\n95  3.803152                          0.0  4.183084   \n96  3.804673                          0.0  4.190094   \n97  3.804275                          0.0  4.193450   \n98  3.804302                          0.0  4.200808   \n99  3.803899                          0.0  4.188157   \n\n    val_sparse_categorical_accuracy  epoch  \n95                              0.0     95  \n96                              0.0     96  \n97                              0.0     97  \n98                              0.0     98  \n99                              0.0     99  ",
      "text/html": "<div>\n<style scoped>\n    .dataframe tbody tr th:only-of-type {\n        vertical-align: middle;\n    }\n\n    .dataframe tbody tr th {\n        vertical-align: top;\n    }\n\n    .dataframe thead th {\n        text-align: right;\n    }\n</style>\n<table border=\"1\" class=\"dataframe\">\n  <thead>\n    <tr style=\"text-align: right;\">\n      <th></th>\n      <th>loss</th>\n      <th>sparse_categorical_accuracy</th>\n      <th>val_loss</th>\n      <th>val_sparse_categorical_accuracy</th>\n      <th>epoch</th>\n    </tr>\n  </thead>\n  <tbody>\n    <tr>\n      <th>95</th>\n      <td>3.803152</td>\n      <td>0.0</td>\n      <td>4.183084</td>\n      <td>0.0</td>\n      <td>95</td>\n    </tr>\n    <tr>\n      <th>96</th>\n      <td>3.804673</td>\n      <td>0.0</td>\n      <td>4.190094</td>\n      <td>0.0</td>\n      <td>96</td>\n    </tr>\n    <tr>\n      <th>97</th>\n      <td>3.804275</td>\n      <td>0.0</td>\n      <td>4.193450</td>\n      <td>0.0</td>\n      <td>97</td>\n    </tr>\n    <tr>\n      <th>98</th>\n      <td>3.804302</td>\n      <td>0.0</td>\n      <td>4.200808</td>\n      <td>0.0</td>\n      <td>98</td>\n    </tr>\n    <tr>\n      <th>99</th>\n      <td>3.803899</td>\n      <td>0.0</td>\n      <td>4.188157</td>\n      <td>0.0</td>\n      <td>99</td>\n    </tr>\n  </tbody>\n</table>\n</div>"
     },
     "metadata": {}
    }
   ]
  },
  {
   "cell_type": "code",
   "metadata": {
    "execution": {
     "iopub.execute_input": "2022-06-16T01:37:40.851256Z",
     "iopub.status.busy": "2022-06-16T01:37:40.850969Z",
     "iopub.status.idle": "2022-06-16T01:37:40.855872Z",
     "shell.execute_reply": "2022-06-16T01:37:40.855067Z"
    },
    "id": "9E54UoZunqhc",
    "cell_id": "00053-d1c10176-6116-4efd-9a54-e07d84356d94",
    "deepnote_to_be_reexecuted": false,
    "source_hash": "7324f2bb",
    "execution_start": 1669384858425,
    "execution_millis": 4,
    "deepnote_cell_type": "code"
   },
   "source": "def plot_loss(history):\n  plt.plot(history.history['loss'], label='loss')\n  plt.plot(history.history['val_loss'], label='val_loss')\n  plt.ylim([0, 10])\n  plt.xlabel('Epoch')\n  plt.ylabel('Error [MPG]')\n  plt.legend()\n  plt.grid(True)",
   "execution_count": null,
   "outputs": []
  },
  {
   "cell_type": "code",
   "metadata": {
    "execution": {
     "iopub.execute_input": "2022-06-16T01:37:40.859186Z",
     "iopub.status.busy": "2022-06-16T01:37:40.858915Z",
     "iopub.status.idle": "2022-06-16T01:37:41.004585Z",
     "shell.execute_reply": "2022-06-16T01:37:41.003801Z"
    },
    "id": "yYsQYrIZyqjz",
    "cell_id": "00054-faef6dbd-be95-4f16-b9f3-38c89025cbaf",
    "deepnote_to_be_reexecuted": false,
    "source_hash": "39089663",
    "execution_start": 1669384859755,
    "execution_millis": 268,
    "deepnote_cell_type": "code"
   },
   "source": "plot_loss(history)",
   "execution_count": null,
   "outputs": [
    {
     "data": {
      "text/plain": "<Figure size 640x480 with 1 Axes>",
      "image/png": "[encoded data removed]"
     },
     "metadata": {
      "image/png": {
       "width": 562,
       "height": 438
      }
     },
     "output_type": "display_data"
    }
   ]
  },
  {
   "cell_type": "markdown",
   "source": "Collect the results on the test set for later:",
   "metadata": {
    "id": "CMNrt8X2ebXd",
    "cell_id": "00055-87b32988-5854-4498-8e49-fdaeebe00c98",
    "deepnote_cell_type": "markdown"
   }
  },
  {
   "cell_type": "code",
   "metadata": {
    "execution": {
     "iopub.execute_input": "2022-06-16T01:37:41.008131Z",
     "iopub.status.busy": "2022-06-16T01:37:41.007799Z",
     "iopub.status.idle": "2022-06-16T01:37:41.069927Z",
     "shell.execute_reply": "2022-06-16T01:37:41.069091Z"
    },
    "id": "kDZ8EvNYrDtx",
    "cell_id": "00056-f3af364a-ca80-4766-b644-24436c9e7fda",
    "deepnote_to_be_reexecuted": false,
    "source_hash": "c607e41d",
    "execution_start": 1669384866781,
    "execution_millis": 53,
    "deepnote_cell_type": "code"
   },
   "source": "test_results = {}\n\ntest_results['horsepower_model'] = horsepower_model.evaluate(\n    test_features['Horsepower'],\n    test_labels, verbose=0)",
   "execution_count": null,
   "outputs": []
  },
  {
   "cell_type": "markdown",
   "source": "Since this is a single variable regression, it's easy to view the model's predictions as a function of the input:",
   "metadata": {
    "id": "F0qutYAKwoda",
    "cell_id": "00057-703a5b12-0676-43d6-b807-564de33af619",
    "deepnote_cell_type": "markdown"
   }
  },
  {
   "cell_type": "code",
   "metadata": {
    "execution": {
     "iopub.execute_input": "2022-06-16T01:37:41.073572Z",
     "iopub.status.busy": "2022-06-16T01:37:41.073228Z",
     "iopub.status.idle": "2022-06-16T01:37:41.178460Z",
     "shell.execute_reply": "2022-06-16T01:37:41.177685Z"
    },
    "id": "xDS2JEtOn9Jn",
    "cell_id": "00058-b5f5944d-12b8-4b8e-9caf-2bc56694a8c6",
    "deepnote_to_be_reexecuted": false,
    "source_hash": "53b191c5",
    "execution_start": 1669384869195,
    "execution_millis": 351,
    "deepnote_cell_type": "code"
   },
   "source": "x = tf.linspace(0.0, 250, 251)\ny = horsepower_model.predict(x)",
   "execution_count": null,
   "outputs": [
    {
     "name": "stdout",
     "text": "8/8 [==============================] - 0s 3ms/step\n",
     "output_type": "stream"
    }
   ]
  },
  {
   "cell_type": "code",
   "metadata": {
    "execution": {
     "iopub.execute_input": "2022-06-16T01:37:41.181915Z",
     "iopub.status.busy": "2022-06-16T01:37:41.181624Z",
     "iopub.status.idle": "2022-06-16T01:37:41.186582Z",
     "shell.execute_reply": "2022-06-16T01:37:41.185765Z"
    },
    "id": "rttFCTU8czsI",
    "cell_id": "00059-bd068eba-94e4-4b9e-b181-f76e69edf6a4",
    "deepnote_to_be_reexecuted": false,
    "source_hash": "e476838a",
    "execution_start": 1669384876695,
    "execution_millis": 10,
    "deepnote_cell_type": "code"
   },
   "source": "def plot_horsepower(x, y):\n  plt.scatter(train_features['Horsepower'], train_labels, label='Data')\n  plt.plot(x, y, color='k', label='Predictions')\n  plt.xlabel('Horsepower')\n  plt.ylabel('MPG')\n  plt.legend()",
   "execution_count": null,
   "outputs": []
  },
  {
   "cell_type": "code",
   "metadata": {
    "execution": {
     "iopub.execute_input": "2022-06-16T01:37:41.190092Z",
     "iopub.status.busy": "2022-06-16T01:37:41.189828Z",
     "iopub.status.idle": "2022-06-16T01:37:41.359986Z",
     "shell.execute_reply": "2022-06-16T01:37:41.359261Z"
    },
    "id": "7l9ZiAOEUNBL",
    "cell_id": "00060-7aded2f7-9bda-4305-8169-613bb401a3bc",
    "deepnote_to_be_reexecuted": false,
    "source_hash": "bb5642eb",
    "execution_start": 1669384877522,
    "execution_millis": 3453,
    "deepnote_cell_type": "code"
   },
   "source": "plot_horsepower(x, y)",
   "execution_count": null,
   "outputs": [
    {
     "data": {
      "text/plain": "<Figure size 640x480 with 1 Axes>",
      "image/png": "[encoded data removed]"
     },
     "metadata": {
      "image/png": {
       "width": 562,
       "height": 432
      }
     },
     "output_type": "display_data"
    }
   ]
  },
  {
   "cell_type": "markdown",
   "source": "### Linear regression with multiple inputs",
   "metadata": {
    "id": "Yk2RmlqPoM9u",
    "cell_id": "00061-7056a527-f52b-46f3-9918-d5d472e2a4ef",
    "deepnote_cell_type": "markdown"
   }
  },
  {
   "cell_type": "markdown",
   "source": "You can use an almost identical setup to make predictions based on multiple inputs. This model still does the same $y = mx+b$ except that $m$ is a matrix and $b$ is a vector.\n\nCreate a two-step Keras Sequential model again with the first layer being `normalizer` (`tf.keras.layers.Normalization(axis=-1)`) you defined earlier and adapted to the whole dataset:",
   "metadata": {
    "id": "PribnwDHUksC",
    "cell_id": "00062-7d5e672a-d691-4ab1-b253-d67f310e69b7",
    "deepnote_cell_type": "markdown"
   }
  },
  {
   "cell_type": "code",
   "metadata": {
    "execution": {
     "iopub.execute_input": "2022-06-16T01:37:41.363864Z",
     "iopub.status.busy": "2022-06-16T01:37:41.363602Z",
     "iopub.status.idle": "2022-06-16T01:37:41.385487Z",
     "shell.execute_reply": "2022-06-16T01:37:41.384638Z"
    },
    "id": "ssnVcKg7oMe6",
    "cell_id": "00063-ecf7cbd7-f819-47ae-b300-bf76a0943c74",
    "deepnote_to_be_reexecuted": false,
    "source_hash": "6218b57e",
    "execution_start": 1669384884888,
    "execution_millis": 63,
    "deepnote_cell_type": "code"
   },
   "source": "linear_model = tf.keras.Sequential([\n    normalizer,\n    layers.Dense(units=1)\n])",
   "execution_count": null,
   "outputs": []
  },
  {
   "cell_type": "markdown",
   "source": "When you call `Model.predict` on a batch of inputs, it produces `units=1` outputs for each example:",
   "metadata": {
    "id": "IHlx6WeIWyAr",
    "cell_id": "00064-2203114a-9bdb-4177-9fda-b5fedc65bcba",
    "deepnote_cell_type": "markdown"
   }
  },
  {
   "cell_type": "code",
   "metadata": {
    "execution": {
     "iopub.execute_input": "2022-06-16T01:37:41.389070Z",
     "iopub.status.busy": "2022-06-16T01:37:41.388783Z",
     "iopub.status.idle": "2022-06-16T01:37:41.481006Z",
     "shell.execute_reply": "2022-06-16T01:37:41.480209Z"
    },
    "id": "DynfJV18WiuT",
    "cell_id": "00065-7e5b0a5a-4b00-4376-99e4-3c3703275f64",
    "deepnote_to_be_reexecuted": false,
    "source_hash": "9af60c3d",
    "execution_start": 1669384886784,
    "execution_millis": 132,
    "deepnote_cell_type": "code"
   },
   "source": "linear_model.predict(train_features[:10])",
   "execution_count": null,
   "outputs": [
    {
     "name": "stdout",
     "text": "1/1 [==============================] - 0s 68ms/step\n",
     "output_type": "stream"
    },
    {
     "output_type": "execute_result",
     "execution_count": 31,
     "data": {
      "text/plain": "array([[-0.361],\n       [ 0.062],\n       [ 0.725],\n       [ 0.566],\n       [ 0.028],\n       [ 0.462],\n       [-0.136],\n       [-0.95 ],\n       [-0.003],\n       [-0.999]], dtype=float32)"
     },
     "metadata": {}
    }
   ]
  },
  {
   "cell_type": "markdown",
   "source": "When you call the model, its weight matrices will be built—check that the `kernel` weights (the $m$ in $y=mx+b$) have a shape of `(9, 1)`:",
   "metadata": {
    "id": "hvHKH3rPXHmq",
    "cell_id": "00066-9537a032-d868-47b0-bff3-e620c6f38f07",
    "deepnote_cell_type": "markdown"
   }
  },
  {
   "cell_type": "code",
   "metadata": {
    "execution": {
     "iopub.execute_input": "2022-06-16T01:37:41.484477Z",
     "iopub.status.busy": "2022-06-16T01:37:41.484166Z",
     "iopub.status.idle": "2022-06-16T01:37:41.490221Z",
     "shell.execute_reply": "2022-06-16T01:37:41.489461Z"
    },
    "id": "DwJ4Fq0RXBQf",
    "cell_id": "00067-c67b23c7-6ba8-471a-99b9-bb66fa31a798",
    "deepnote_to_be_reexecuted": false,
    "source_hash": "13aa9826",
    "execution_start": 1669384889144,
    "execution_millis": 18,
    "deepnote_cell_type": "code"
   },
   "source": "linear_model.layers[1].kernel",
   "execution_count": null,
   "outputs": [
    {
     "output_type": "execute_result",
     "execution_count": 32,
     "data": {
      "text/plain": "<tf.Variable 'dense_1/kernel:0' shape=(9, 1) dtype=float32, numpy=\narray([[ 0.132],\n       [ 0.182],\n       [-0.462],\n       [ 0.502],\n       [-0.452],\n       [ 0.361],\n       [-0.277],\n       [ 0.151],\n       [ 0.065]], dtype=float32)>"
     },
     "metadata": {}
    }
   ]
  },
  {
   "cell_type": "markdown",
   "source": "Configure the model with Keras `Model.compile` and train with `Model.fit` for 100 epochs:",
   "metadata": {
    "id": "eINAc6rZXzOt",
    "cell_id": "00068-05a1c445-e17a-4628-a422-5669191f7af6",
    "deepnote_cell_type": "markdown"
   }
  },
  {
   "cell_type": "code",
   "metadata": {
    "execution": {
     "iopub.execute_input": "2022-06-16T01:37:41.493956Z",
     "iopub.status.busy": "2022-06-16T01:37:41.493674Z",
     "iopub.status.idle": "2022-06-16T01:37:41.502043Z",
     "shell.execute_reply": "2022-06-16T01:37:41.501229Z"
    },
    "id": "A0Sv_Ybr0szp",
    "cell_id": "00069-4c2ce767-340f-4611-b73b-829a4c64e61a",
    "deepnote_to_be_reexecuted": false,
    "source_hash": "30a2279c",
    "execution_start": 1669384894403,
    "execution_millis": 10,
    "deepnote_cell_type": "code"
   },
   "source": "linear_model.compile(\n    optimizer=tf.keras.optimizers.Adam(learning_rate=0.1),\n    loss='mean_absolute_error',\n    metrics=[keras.metrics.SparseCategoricalAccuracy()])",
   "execution_count": null,
   "outputs": []
  },
  {
   "cell_type": "code",
   "metadata": {
    "execution": {
     "iopub.execute_input": "2022-06-16T01:37:41.505516Z",
     "iopub.status.busy": "2022-06-16T01:37:41.505231Z",
     "iopub.status.idle": "2022-06-16T01:37:46.267888Z",
     "shell.execute_reply": "2022-06-16T01:37:46.266996Z"
    },
    "id": "EZoOYORvoTSe",
    "cell_id": "00070-b229835c-cfe4-4741-96b8-e97e1dbd0e51",
    "deepnote_to_be_reexecuted": false,
    "source_hash": "70f0ea71",
    "execution_start": 1669384895572,
    "execution_millis": 5152,
    "deepnote_cell_type": "code"
   },
   "source": "%%time\nhistory = linear_model.fit(\n    train_features,\n    train_labels,\n    epochs=100,\n    # Suppress logging.\n    verbose=0,\n    # Calculate validation results on 20% of the training data.\n    validation_split = 0.2)",
   "execution_count": null,
   "outputs": [
    {
     "name": "stderr",
     "text": "/shared-libs/python3.9/py/lib/python3.9/site-packages/keras/engine/data_adapter.py:1699: FutureWarning: The behavior of `series[i:j]` with an integer-dtype index is deprecated. In a future version, this will be treated as *label-based* indexing, consistent with e.g. `series[i]` lookups. To retain the old behavior, use `series.iloc[i:j]`. To get the future behavior, use `series.loc[i:j]`.\n  return t[start:end]\nCPU times: user 4.54 s, sys: 238 ms, total: 4.78 s\nWall time: 5.15 s\n",
     "output_type": "stream"
    }
   ]
  },
  {
   "cell_type": "markdown",
   "source": "Using all the inputs in this regression model achieves a much lower training and validation error than the `horsepower_model`, which had one input:",
   "metadata": {
    "id": "EdxiCbiNYK2F",
    "cell_id": "00071-1007b470-7080-404a-895c-a6eb866af45d",
    "deepnote_cell_type": "markdown"
   }
  },
  {
   "cell_type": "code",
   "metadata": {
    "execution": {
     "iopub.execute_input": "2022-06-16T01:37:46.271922Z",
     "iopub.status.busy": "2022-06-16T01:37:46.271615Z",
     "iopub.status.idle": "2022-06-16T01:37:46.430400Z",
     "shell.execute_reply": "2022-06-16T01:37:46.429572Z"
    },
    "id": "4sWO3W0koYgu",
    "cell_id": "00072-2995d27e-0de7-471e-a40d-fbbf24cb0313",
    "deepnote_to_be_reexecuted": false,
    "source_hash": "39089663",
    "execution_start": 1669384902993,
    "execution_millis": 475,
    "deepnote_cell_type": "code"
   },
   "source": "plot_loss(history)",
   "execution_count": null,
   "outputs": [
    {
     "data": {
      "text/plain": "<Figure size 640x480 with 1 Axes>",
      "image/png": "[encoded data removed]"
     },
     "metadata": {
      "image/png": {
       "width": 562,
       "height": 438
      }
     },
     "output_type": "display_data"
    }
   ]
  },
  {
   "cell_type": "markdown",
   "source": "Collect the results on the test set for later:",
   "metadata": {
    "id": "NyN49hIWe_NH",
    "cell_id": "00073-2d4b82b8-e5e0-45ec-8c4e-857a3d2db910",
    "deepnote_cell_type": "markdown"
   }
  },
  {
   "cell_type": "code",
   "metadata": {
    "execution": {
     "iopub.execute_input": "2022-06-16T01:37:46.434017Z",
     "iopub.status.busy": "2022-06-16T01:37:46.433721Z",
     "iopub.status.idle": "2022-06-16T01:37:46.505064Z",
     "shell.execute_reply": "2022-06-16T01:37:46.504193Z"
    },
    "id": "jNC3D1DGsGgK",
    "cell_id": "00074-8552be68-5fb9-420e-9c32-54bb7f6ba97b",
    "deepnote_to_be_reexecuted": false,
    "source_hash": "79257f53",
    "execution_start": 1669384906040,
    "execution_millis": 88,
    "deepnote_cell_type": "code"
   },
   "source": "test_results['linear_model'] = linear_model.evaluate(\n    test_features, test_labels, verbose=0)",
   "execution_count": null,
   "outputs": []
  },
  {
   "cell_type": "markdown",
   "source": "## Regression with a deep neural network (DNN)",
   "metadata": {
    "id": "SmjdzxKzEu1-",
    "cell_id": "00075-43eef56d-4dc6-49e7-89ae-9131d3006ac7",
    "deepnote_cell_type": "markdown"
   }
  },
  {
   "cell_type": "markdown",
   "source": "In the previous section, you implemented two linear models for single and multiple inputs.\n\nHere, you will implement single-input and multiple-input DNN models.\n\nThe code is basically the same except the model is expanded to include some \"hidden\" non-linear layers. The name \"hidden\" here just means not directly connected to the inputs or outputs.",
   "metadata": {
    "id": "DT_aHPsrzO1t",
    "cell_id": "00076-0a317366-4e3d-4507-bcb2-8f9b3311ce26",
    "deepnote_cell_type": "markdown"
   }
  },
  {
   "cell_type": "markdown",
   "source": "These models will contain a few more layers than the linear model:\n\n* The normalization layer, as before (with `horsepower_normalizer` for a single-input model and `normalizer` for a multiple-input model).\n* Two hidden, non-linear, `Dense` layers with the ReLU (`relu`) activation function nonlinearity.\n* A linear `Dense` single-output layer.\n\nBoth models will use the same training procedure, so the `compile` method is included in the `build_and_compile_model` function below.",
   "metadata": {
    "id": "6SWtkIjhrZwa",
    "cell_id": "00077-2e0b0818-e219-45d4-8472-ed7e4a4bdc90",
    "deepnote_cell_type": "markdown"
   }
  },
  {
   "cell_type": "code",
   "metadata": {
    "execution": {
     "iopub.execute_input": "2022-06-16T01:37:46.509115Z",
     "iopub.status.busy": "2022-06-16T01:37:46.508799Z",
     "iopub.status.idle": "2022-06-16T01:37:46.514105Z",
     "shell.execute_reply": "2022-06-16T01:37:46.513192Z"
    },
    "id": "c26juK7ZG8j-",
    "cell_id": "00078-043b9018-c4bf-4263-a8e8-736e0d1da903",
    "deepnote_to_be_reexecuted": false,
    "source_hash": "25c744c4",
    "execution_start": 1669384915808,
    "execution_millis": 4,
    "deepnote_cell_type": "code"
   },
   "source": "def build_and_compile_model(norm):\n  model = keras.Sequential([\n      norm,\n      layers.Dense(64, activation='relu'),\n      layers.Dense(64, activation='relu'),\n      layers.Dense(1)\n  ])\n\n  model.compile(loss='mean_absolute_error',\n                optimizer=tf.keras.optimizers.Adam(0.001), metrics=[keras.metrics.SparseCategoricalAccuracy()])\n  return model",
   "execution_count": null,
   "outputs": []
  },
  {
   "cell_type": "markdown",
   "source": "### Regression using a DNN and a single input",
   "metadata": {
    "id": "6c51caebbc0d",
    "cell_id": "00079-dd7491a1-f6aa-44d4-b60b-fd3e7262d31b",
    "deepnote_cell_type": "markdown"
   }
  },
  {
   "cell_type": "markdown",
   "source": "Create a DNN model with only `'Horsepower'` as input and `horsepower_normalizer` (defined earlier) as the normalization layer:",
   "metadata": {
    "id": "xvu9gtxTZR5V",
    "cell_id": "00080-e02ff93f-8b1e-4132-b703-a168f5922f26",
    "deepnote_cell_type": "markdown"
   }
  },
  {
   "cell_type": "code",
   "metadata": {
    "execution": {
     "iopub.execute_input": "2022-06-16T01:37:46.518076Z",
     "iopub.status.busy": "2022-06-16T01:37:46.517808Z",
     "iopub.status.idle": "2022-06-16T01:37:46.561331Z",
     "shell.execute_reply": "2022-06-16T01:37:46.560553Z"
    },
    "id": "cGbPb-PHGbhs",
    "cell_id": "00081-0e2b80a7-8b23-4db3-95af-11fc624ea922",
    "deepnote_to_be_reexecuted": false,
    "source_hash": "cc023bc6",
    "execution_start": 1669384919991,
    "execution_millis": 50,
    "deepnote_cell_type": "code"
   },
   "source": "dnn_horsepower_model = build_and_compile_model(horsepower_normalizer)",
   "execution_count": null,
   "outputs": []
  },
  {
   "cell_type": "markdown",
   "source": "This model has quite a few more trainable parameters than the linear models:",
   "metadata": {
    "id": "Sj49Og4YGULr",
    "cell_id": "00082-bbcf3f0f-a90c-4bc8-8e8c-4cf25ae2d735",
    "deepnote_cell_type": "markdown"
   }
  },
  {
   "cell_type": "code",
   "metadata": {
    "execution": {
     "iopub.execute_input": "2022-06-16T01:37:46.565600Z",
     "iopub.status.busy": "2022-06-16T01:37:46.564979Z",
     "iopub.status.idle": "2022-06-16T01:37:46.582607Z",
     "shell.execute_reply": "2022-06-16T01:37:46.581796Z"
    },
    "id": "ReAD0n6MsFK-",
    "cell_id": "00083-38530fd3-14f2-4afd-8af6-393d4e18886e",
    "deepnote_to_be_reexecuted": false,
    "source_hash": "fd0ad294",
    "execution_start": 1669384921752,
    "execution_millis": 23,
    "deepnote_cell_type": "code"
   },
   "source": "dnn_horsepower_model.summary()",
   "execution_count": null,
   "outputs": [
    {
     "name": "stdout",
     "text": "Model: \"sequential_2\"\n_________________________________________________________________\n Layer (type)                Output Shape              Param #   \n=================================================================\n normalization_1 (Normalizat  (None, 1)                3         \n ion)                                                            \n                                                                 \n dense_2 (Dense)             (None, 64)                128       \n                                                                 \n dense_3 (Dense)             (None, 64)                4160      \n                                                                 \n dense_4 (Dense)             (None, 1)                 65        \n                                                                 \n=================================================================\nTotal params: 4,356\nTrainable params: 4,353\nNon-trainable params: 3\n_________________________________________________________________\n",
     "output_type": "stream"
    }
   ]
  },
  {
   "cell_type": "markdown",
   "source": "Train the model with Keras `Model.fit`:",
   "metadata": {
    "id": "0-qWCsh6DlyH",
    "cell_id": "00084-576eb93f-2441-4389-b5b0-9500290f6020",
    "deepnote_cell_type": "markdown"
   }
  },
  {
   "cell_type": "code",
   "metadata": {
    "execution": {
     "iopub.execute_input": "2022-06-16T01:37:46.588590Z",
     "iopub.status.busy": "2022-06-16T01:37:46.588037Z",
     "iopub.status.idle": "2022-06-16T01:37:51.655644Z",
     "shell.execute_reply": "2022-06-16T01:37:51.654718Z"
    },
    "id": "sD7qHCmNIOY0",
    "cell_id": "00085-c775211b-4c52-47ec-8294-37eebd3a5d37",
    "deepnote_to_be_reexecuted": false,
    "source_hash": "ca617275",
    "execution_start": 1669384925051,
    "execution_millis": 5231,
    "deepnote_cell_type": "code"
   },
   "source": "%%time\nhistory = dnn_horsepower_model.fit(\n    train_features['Horsepower'],\n    train_labels,\n    validation_split=0.2,\n    verbose=0, epochs=100)",
   "execution_count": null,
   "outputs": [
    {
     "name": "stderr",
     "text": "/shared-libs/python3.9/py/lib/python3.9/site-packages/keras/engine/data_adapter.py:1699: FutureWarning: The behavior of `series[i:j]` with an integer-dtype index is deprecated. In a future version, this will be treated as *label-based* indexing, consistent with e.g. `series[i]` lookups. To retain the old behavior, use `series.iloc[i:j]`. To get the future behavior, use `series.loc[i:j]`.\n  return t[start:end]\nCPU times: user 4.61 s, sys: 313 ms, total: 4.92 s\nWall time: 5.23 s\n",
     "output_type": "stream"
    }
   ]
  },
  {
   "cell_type": "markdown",
   "source": "This model does slightly better than the linear single-input `horsepower_model`:",
   "metadata": {
    "id": "dArGGxHxcKjN",
    "cell_id": "00086-28c2ed70-0274-44ac-bc8c-2252df2ca2e8",
    "deepnote_cell_type": "markdown"
   }
  },
  {
   "cell_type": "code",
   "metadata": {
    "execution": {
     "iopub.execute_input": "2022-06-16T01:37:51.659683Z",
     "iopub.status.busy": "2022-06-16T01:37:51.659362Z",
     "iopub.status.idle": "2022-06-16T01:37:51.813187Z",
     "shell.execute_reply": "2022-06-16T01:37:51.812363Z"
    },
    "id": "NcF6UWjdCU8T",
    "cell_id": "00087-54e306f1-b4e0-4c1a-a564-7b756fd55d2f",
    "deepnote_to_be_reexecuted": false,
    "source_hash": "39089663",
    "execution_start": 1669384930313,
    "execution_millis": 402,
    "deepnote_cell_type": "code"
   },
   "source": "plot_loss(history)",
   "execution_count": null,
   "outputs": [
    {
     "data": {
      "text/plain": "<Figure size 640x480 with 1 Axes>",
      "image/png": "[encoded data removed]"
     },
     "metadata": {
      "image/png": {
       "width": 562,
       "height": 438
      }
     },
     "output_type": "display_data"
    }
   ]
  },
  {
   "cell_type": "markdown",
   "source": "If you plot the predictions as a function of `'Horsepower'`, you should notice how this model takes advantage of the nonlinearity provided by the hidden layers:",
   "metadata": {
    "id": "TG1snlpR2QCK",
    "cell_id": "00088-3b0c4d5b-0da2-4736-b348-dc4dd03c9c66",
    "deepnote_cell_type": "markdown"
   }
  },
  {
   "cell_type": "code",
   "metadata": {
    "execution": {
     "iopub.execute_input": "2022-06-16T01:37:51.816926Z",
     "iopub.status.busy": "2022-06-16T01:37:51.816643Z",
     "iopub.status.idle": "2022-06-16T01:37:51.932559Z",
     "shell.execute_reply": "2022-06-16T01:37:51.931649Z"
    },
    "id": "hPF53Rem14NS",
    "cell_id": "00089-61054ec2-f518-4f3a-9bc5-5fa2b121e50e",
    "deepnote_to_be_reexecuted": false,
    "source_hash": "e5e8e682",
    "execution_start": 1669384930708,
    "execution_millis": 216,
    "deepnote_cell_type": "code"
   },
   "source": "x = tf.linspace(0.0, 250, 251)\ny = dnn_horsepower_model.predict(x)",
   "execution_count": null,
   "outputs": [
    {
     "name": "stdout",
     "text": "8/8 [==============================] - 0s 2ms/step\n",
     "output_type": "stream"
    }
   ]
  },
  {
   "cell_type": "code",
   "metadata": {
    "execution": {
     "iopub.execute_input": "2022-06-16T01:37:51.936008Z",
     "iopub.status.busy": "2022-06-16T01:37:51.935714Z",
     "iopub.status.idle": "2022-06-16T01:37:52.106312Z",
     "shell.execute_reply": "2022-06-16T01:37:52.105417Z"
    },
    "id": "rsf9rD8I17Wq",
    "cell_id": "00090-87076157-1757-4f3e-8f42-7576039d32b5",
    "deepnote_to_be_reexecuted": false,
    "source_hash": "bb5642eb",
    "execution_start": 1669384933386,
    "execution_millis": 300,
    "deepnote_cell_type": "code"
   },
   "source": "plot_horsepower(x, y)",
   "execution_count": null,
   "outputs": [
    {
     "data": {
      "text/plain": "<Figure size 640x480 with 1 Axes>",
      "image/png": "[encoded data removed]"
     },
     "metadata": {
      "image/png": {
       "width": 562,
       "height": 432
      }
     },
     "output_type": "display_data"
    }
   ]
  },
  {
   "cell_type": "markdown",
   "source": "Collect the results on the test set for later:",
   "metadata": {
    "id": "WxCJKIUpe4io",
    "cell_id": "00091-39527c67-843a-42bf-b755-e36aa1f04173",
    "deepnote_cell_type": "markdown"
   }
  },
  {
   "cell_type": "code",
   "metadata": {
    "execution": {
     "iopub.execute_input": "2022-06-16T01:37:52.110280Z",
     "iopub.status.busy": "2022-06-16T01:37:52.109702Z",
     "iopub.status.idle": "2022-06-16T01:37:52.174910Z",
     "shell.execute_reply": "2022-06-16T01:37:52.174085Z"
    },
    "id": "bJjM0dU52XtN",
    "cell_id": "00092-fee80118-b486-4892-a48a-5380d5173a8e",
    "deepnote_to_be_reexecuted": false,
    "source_hash": "be9eb371",
    "execution_start": 1669384952106,
    "execution_millis": 0,
    "deepnote_cell_type": "code"
   },
   "source": "test_results['dnn_horsepower_model'] = dnn_horsepower_model.evaluate(\n    test_features['Horsepower'], test_labels,\n    verbose=0)",
   "execution_count": null,
   "outputs": []
  },
  {
   "cell_type": "markdown",
   "source": "### Regression using a DNN and multiple inputs",
   "metadata": {
    "id": "S_2Btebp2e64",
    "cell_id": "00093-fa74d06d-9658-4d87-afe3-2d64a0904f72",
    "deepnote_cell_type": "markdown"
   }
  },
  {
   "cell_type": "markdown",
   "source": "Repeat the previous process using all the inputs. The model's performance slightly improves on the validation dataset.",
   "metadata": {
    "id": "aKFtezDldLSf",
    "cell_id": "00094-a9fc5ecc-3858-4e05-876b-6774b68a1e54",
    "deepnote_cell_type": "markdown"
   }
  },
  {
   "cell_type": "code",
   "metadata": {
    "execution": {
     "iopub.execute_input": "2022-06-16T01:37:52.179009Z",
     "iopub.status.busy": "2022-06-16T01:37:52.178721Z",
     "iopub.status.idle": "2022-06-16T01:37:52.233906Z",
     "shell.execute_reply": "2022-06-16T01:37:52.233118Z"
    },
    "id": "c0mhscXh2k36",
    "cell_id": "00095-8fa7ec1b-bef9-4a23-938c-2b4edcfaf0c2",
    "deepnote_to_be_reexecuted": false,
    "source_hash": "541f490f",
    "execution_start": 1669384954867,
    "execution_millis": 503,
    "deepnote_cell_type": "code"
   },
   "source": "dnn_model = build_and_compile_model(normalizer)\ndnn_model.summary()",
   "execution_count": null,
   "outputs": [
    {
     "name": "stdout",
     "text": "Model: \"sequential_3\"\n_________________________________________________________________\n Layer (type)                Output Shape              Param #   \n=================================================================\n normalization (Normalizatio  (None, 9)                19        \n n)                                                              \n                                                                 \n dense_5 (Dense)             (None, 64)                640       \n                                                                 \n dense_6 (Dense)             (None, 64)                4160      \n                                                                 \n dense_7 (Dense)             (None, 1)                 65        \n                                                                 \n=================================================================\nTotal params: 4,884\nTrainable params: 4,865\nNon-trainable params: 19\n_________________________________________________________________\n",
     "output_type": "stream"
    }
   ]
  },
  {
   "cell_type": "code",
   "metadata": {
    "execution": {
     "iopub.execute_input": "2022-06-16T01:37:52.239509Z",
     "iopub.status.busy": "2022-06-16T01:37:52.239167Z",
     "iopub.status.idle": "2022-06-16T01:37:57.266766Z",
     "shell.execute_reply": "2022-06-16T01:37:57.265465Z"
    },
    "id": "CXDENACl2tuW",
    "cell_id": "00096-42dce8cd-8d88-445b-853f-9a92312ce799",
    "deepnote_to_be_reexecuted": false,
    "source_hash": "8c893d5c",
    "execution_start": 1669384968357,
    "execution_millis": 4564,
    "deepnote_cell_type": "code"
   },
   "source": "%%time\nhistory = dnn_model.fit(\n    train_features,\n    train_labels,\n    validation_split=0.2,\n    verbose=0, epochs=100)",
   "execution_count": null,
   "outputs": [
    {
     "name": "stdout",
     "text": "CPU times: user 4.04 s, sys: 242 ms, total: 4.28 s\nWall time: 4.55 s\n",
     "output_type": "stream"
    }
   ]
  },
  {
   "cell_type": "code",
   "metadata": {
    "execution": {
     "iopub.execute_input": "2022-06-16T01:37:57.270912Z",
     "iopub.status.busy": "2022-06-16T01:37:57.270542Z",
     "iopub.status.idle": "2022-06-16T01:37:57.471378Z",
     "shell.execute_reply": "2022-06-16T01:37:57.470577Z"
    },
    "id": "-9Dbj0fX23RQ",
    "cell_id": "00097-fd4bfbda-8b7e-4a24-979e-4adc0bab17d0",
    "deepnote_to_be_reexecuted": false,
    "source_hash": "39089663",
    "execution_start": 1669384972928,
    "execution_millis": 271,
    "deepnote_cell_type": "code"
   },
   "source": "plot_loss(history)",
   "execution_count": null,
   "outputs": [
    {
     "data": {
      "text/plain": "<Figure size 640x480 with 1 Axes>",
      "image/png": "[encoded data removed]"
     },
     "metadata": {
      "image/png": {
       "width": 562,
       "height": 438
      }
     },
     "output_type": "display_data"
    }
   ]
  },
  {
   "cell_type": "markdown",
   "source": "Collect the results on the test set:",
   "metadata": {
    "id": "hWoVYS34fJPZ",
    "cell_id": "00098-6ac92918-cf84-4b73-8326-ad8d56d8c1cf",
    "deepnote_cell_type": "markdown"
   }
  },
  {
   "cell_type": "code",
   "metadata": {
    "execution": {
     "iopub.execute_input": "2022-06-16T01:37:57.475040Z",
     "iopub.status.busy": "2022-06-16T01:37:57.474781Z",
     "iopub.status.idle": "2022-06-16T01:37:57.547030Z",
     "shell.execute_reply": "2022-06-16T01:37:57.546235Z"
    },
    "id": "-bZIa96W3c7K",
    "cell_id": "00099-d43e576c-3014-468d-acd6-1aeea6dce40c",
    "deepnote_to_be_reexecuted": false,
    "source_hash": "a453b9e4",
    "execution_start": 1669384977152,
    "execution_millis": 58,
    "deepnote_cell_type": "code"
   },
   "source": "test_results['dnn_model'] = dnn_model.evaluate(test_features, test_labels, verbose=0)",
   "execution_count": null,
   "outputs": []
  },
  {
   "cell_type": "markdown",
   "source": "## Performance",
   "metadata": {
    "id": "uiCucdPLfMkZ",
    "cell_id": "00100-895aa03d-db91-4a52-863f-e7e17d75c9a7",
    "deepnote_cell_type": "markdown"
   }
  },
  {
   "cell_type": "markdown",
   "source": "Since all models have been trained, you can review their test set performance:",
   "metadata": {
    "id": "rDf1xebEfWBw",
    "cell_id": "00101-8fd54be8-8333-4e03-a144-3dc94d6de8b5",
    "deepnote_cell_type": "markdown"
   }
  },
  {
   "cell_type": "code",
   "metadata": {
    "execution": {
     "iopub.execute_input": "2022-06-16T01:37:57.550913Z",
     "iopub.status.busy": "2022-06-16T01:37:57.550656Z",
     "iopub.status.idle": "2022-06-16T01:37:57.559235Z",
     "shell.execute_reply": "2022-06-16T01:37:57.558285Z"
    },
    "id": "e5_ooufM5iH2",
    "cell_id": "00102-ed60f452-9cf7-4f48-9ed2-17b7d6f9a4f2",
    "deepnote_to_be_reexecuted": false,
    "source_hash": "5cba1b86",
    "execution_start": 1669384980687,
    "execution_millis": 2413,
    "deepnote_cell_type": "code"
   },
   "source": "pd.DataFrame(test_results, index=['Mean absolute error [MPG]']).T",
   "execution_count": null,
   "outputs": [
    {
     "output_type": "error",
     "ename": "ValueError",
     "evalue": "Length of values (2) does not match length of index (1)",
     "traceback": [
      "\u001b[0;31m---------------------------------------------------------------------------\u001b[0m",
      "\u001b[0;31mValueError\u001b[0m                                Traceback (most recent call last)",
      "Cell \u001b[0;32mIn [49], line 1\u001b[0m\n\u001b[0;32m----> 1\u001b[0m \u001b[43mpd\u001b[49m\u001b[38;5;241;43m.\u001b[39;49m\u001b[43mDataFrame\u001b[49m\u001b[43m(\u001b[49m\u001b[43mtest_results\u001b[49m\u001b[43m,\u001b[49m\u001b[43m \u001b[49m\u001b[43mindex\u001b[49m\u001b[38;5;241;43m=\u001b[39;49m\u001b[43m[\u001b[49m\u001b[38;5;124;43m'\u001b[39;49m\u001b[38;5;124;43mMean absolute error [MPG]\u001b[39;49m\u001b[38;5;124;43m'\u001b[39;49m\u001b[43m]\u001b[49m\u001b[43m)\u001b[49m\u001b[38;5;241m.\u001b[39mT\n",
      "File \u001b[0;32m~/venv/lib/python3.9/site-packages/pandas/core/frame.py:663\u001b[0m, in \u001b[0;36mDataFrame.__init__\u001b[0;34m(self, data, index, columns, dtype, copy)\u001b[0m\n\u001b[1;32m    657\u001b[0m     mgr \u001b[38;5;241m=\u001b[39m \u001b[38;5;28mself\u001b[39m\u001b[38;5;241m.\u001b[39m_init_mgr(\n\u001b[1;32m    658\u001b[0m         data, axes\u001b[38;5;241m=\u001b[39m{\u001b[38;5;124m\"\u001b[39m\u001b[38;5;124mindex\u001b[39m\u001b[38;5;124m\"\u001b[39m: index, \u001b[38;5;124m\"\u001b[39m\u001b[38;5;124mcolumns\u001b[39m\u001b[38;5;124m\"\u001b[39m: columns}, dtype\u001b[38;5;241m=\u001b[39mdtype, copy\u001b[38;5;241m=\u001b[39mcopy\n\u001b[1;32m    659\u001b[0m     )\n\u001b[1;32m    661\u001b[0m \u001b[38;5;28;01melif\u001b[39;00m \u001b[38;5;28misinstance\u001b[39m(data, \u001b[38;5;28mdict\u001b[39m):\n\u001b[1;32m    662\u001b[0m     \u001b[38;5;66;03m# GH#38939 de facto copy defaults to False only in non-dict cases\u001b[39;00m\n\u001b[0;32m--> 663\u001b[0m     mgr \u001b[38;5;241m=\u001b[39m \u001b[43mdict_to_mgr\u001b[49m\u001b[43m(\u001b[49m\u001b[43mdata\u001b[49m\u001b[43m,\u001b[49m\u001b[43m \u001b[49m\u001b[43mindex\u001b[49m\u001b[43m,\u001b[49m\u001b[43m \u001b[49m\u001b[43mcolumns\u001b[49m\u001b[43m,\u001b[49m\u001b[43m \u001b[49m\u001b[43mdtype\u001b[49m\u001b[38;5;241;43m=\u001b[39;49m\u001b[43mdtype\u001b[49m\u001b[43m,\u001b[49m\u001b[43m \u001b[49m\u001b[43mcopy\u001b[49m\u001b[38;5;241;43m=\u001b[39;49m\u001b[43mcopy\u001b[49m\u001b[43m,\u001b[49m\u001b[43m \u001b[49m\u001b[43mtyp\u001b[49m\u001b[38;5;241;43m=\u001b[39;49m\u001b[43mmanager\u001b[49m\u001b[43m)\u001b[49m\n\u001b[1;32m    664\u001b[0m \u001b[38;5;28;01melif\u001b[39;00m \u001b[38;5;28misinstance\u001b[39m(data, ma\u001b[38;5;241m.\u001b[39mMaskedArray):\n\u001b[1;32m    665\u001b[0m     \u001b[38;5;28;01mimport\u001b[39;00m \u001b[38;5;21;01mnumpy\u001b[39;00m\u001b[38;5;21;01m.\u001b[39;00m\u001b[38;5;21;01mma\u001b[39;00m\u001b[38;5;21;01m.\u001b[39;00m\u001b[38;5;21;01mmrecords\u001b[39;00m \u001b[38;5;28;01mas\u001b[39;00m \u001b[38;5;21;01mmrecords\u001b[39;00m\n",
      "File \u001b[0;32m~/venv/lib/python3.9/site-packages/pandas/core/internals/construction.py:494\u001b[0m, in \u001b[0;36mdict_to_mgr\u001b[0;34m(data, index, columns, dtype, typ, copy)\u001b[0m\n\u001b[1;32m    490\u001b[0m     \u001b[38;5;28;01melse\u001b[39;00m:\n\u001b[1;32m    491\u001b[0m         \u001b[38;5;66;03m# dtype check to exclude e.g. range objects, scalars\u001b[39;00m\n\u001b[1;32m    492\u001b[0m         arrays \u001b[38;5;241m=\u001b[39m [x\u001b[38;5;241m.\u001b[39mcopy() \u001b[38;5;28;01mif\u001b[39;00m \u001b[38;5;28mhasattr\u001b[39m(x, \u001b[38;5;124m\"\u001b[39m\u001b[38;5;124mdtype\u001b[39m\u001b[38;5;124m\"\u001b[39m) \u001b[38;5;28;01melse\u001b[39;00m x \u001b[38;5;28;01mfor\u001b[39;00m x \u001b[38;5;129;01min\u001b[39;00m arrays]\n\u001b[0;32m--> 494\u001b[0m \u001b[38;5;28;01mreturn\u001b[39;00m \u001b[43marrays_to_mgr\u001b[49m\u001b[43m(\u001b[49m\u001b[43marrays\u001b[49m\u001b[43m,\u001b[49m\u001b[43m \u001b[49m\u001b[43mcolumns\u001b[49m\u001b[43m,\u001b[49m\u001b[43m \u001b[49m\u001b[43mindex\u001b[49m\u001b[43m,\u001b[49m\u001b[43m \u001b[49m\u001b[43mdtype\u001b[49m\u001b[38;5;241;43m=\u001b[39;49m\u001b[43mdtype\u001b[49m\u001b[43m,\u001b[49m\u001b[43m \u001b[49m\u001b[43mtyp\u001b[49m\u001b[38;5;241;43m=\u001b[39;49m\u001b[43mtyp\u001b[49m\u001b[43m,\u001b[49m\u001b[43m \u001b[49m\u001b[43mconsolidate\u001b[49m\u001b[38;5;241;43m=\u001b[39;49m\u001b[43mcopy\u001b[49m\u001b[43m)\u001b[49m\n",
      "File \u001b[0;32m~/venv/lib/python3.9/site-packages/pandas/core/internals/construction.py:124\u001b[0m, in \u001b[0;36marrays_to_mgr\u001b[0;34m(arrays, columns, index, dtype, verify_integrity, typ, consolidate)\u001b[0m\n\u001b[1;32m    121\u001b[0m         index \u001b[38;5;241m=\u001b[39m ensure_index(index)\n\u001b[1;32m    123\u001b[0m     \u001b[38;5;66;03m# don't force copy because getting jammed in an ndarray anyway\u001b[39;00m\n\u001b[0;32m--> 124\u001b[0m     arrays \u001b[38;5;241m=\u001b[39m \u001b[43m_homogenize\u001b[49m\u001b[43m(\u001b[49m\u001b[43marrays\u001b[49m\u001b[43m,\u001b[49m\u001b[43m \u001b[49m\u001b[43mindex\u001b[49m\u001b[43m,\u001b[49m\u001b[43m \u001b[49m\u001b[43mdtype\u001b[49m\u001b[43m)\u001b[49m\n\u001b[1;32m    125\u001b[0m     \u001b[38;5;66;03m# _homogenize ensures\u001b[39;00m\n\u001b[1;32m    126\u001b[0m     \u001b[38;5;66;03m#  - all(len(x) == len(index) for x in arrays)\u001b[39;00m\n\u001b[1;32m    127\u001b[0m     \u001b[38;5;66;03m#  - all(x.ndim == 1 for x in arrays)\u001b[39;00m\n\u001b[0;32m   (...)\u001b[0m\n\u001b[1;32m    130\u001b[0m \n\u001b[1;32m    131\u001b[0m \u001b[38;5;28;01melse\u001b[39;00m:\n\u001b[1;32m    132\u001b[0m     index \u001b[38;5;241m=\u001b[39m ensure_index(index)\n",
      "File \u001b[0;32m~/venv/lib/python3.9/site-packages/pandas/core/internals/construction.py:621\u001b[0m, in \u001b[0;36m_homogenize\u001b[0;34m(data, index, dtype)\u001b[0m\n\u001b[1;32m    616\u001b[0m             val \u001b[38;5;241m=\u001b[39m lib\u001b[38;5;241m.\u001b[39mfast_multiget(val, oindex\u001b[38;5;241m.\u001b[39m_values, default\u001b[38;5;241m=\u001b[39mnp\u001b[38;5;241m.\u001b[39mnan)\n\u001b[1;32m    618\u001b[0m         val \u001b[38;5;241m=\u001b[39m sanitize_array(\n\u001b[1;32m    619\u001b[0m             val, index, dtype\u001b[38;5;241m=\u001b[39mdtype, copy\u001b[38;5;241m=\u001b[39m\u001b[38;5;28;01mFalse\u001b[39;00m, raise_cast_failure\u001b[38;5;241m=\u001b[39m\u001b[38;5;28;01mFalse\u001b[39;00m\n\u001b[1;32m    620\u001b[0m         )\n\u001b[0;32m--> 621\u001b[0m         \u001b[43mcom\u001b[49m\u001b[38;5;241;43m.\u001b[39;49m\u001b[43mrequire_length_match\u001b[49m\u001b[43m(\u001b[49m\u001b[43mval\u001b[49m\u001b[43m,\u001b[49m\u001b[43m \u001b[49m\u001b[43mindex\u001b[49m\u001b[43m)\u001b[49m\n\u001b[1;32m    623\u001b[0m     homogenized\u001b[38;5;241m.\u001b[39mappend(val)\n\u001b[1;32m    625\u001b[0m \u001b[38;5;28;01mreturn\u001b[39;00m homogenized\n",
      "File \u001b[0;32m~/venv/lib/python3.9/site-packages/pandas/core/common.py:561\u001b[0m, in \u001b[0;36mrequire_length_match\u001b[0;34m(data, index)\u001b[0m\n\u001b[1;32m    557\u001b[0m \u001b[38;5;124;03m\"\"\"\u001b[39;00m\n\u001b[1;32m    558\u001b[0m \u001b[38;5;124;03mCheck the length of data matches the length of the index.\u001b[39;00m\n\u001b[1;32m    559\u001b[0m \u001b[38;5;124;03m\"\"\"\u001b[39;00m\n\u001b[1;32m    560\u001b[0m \u001b[38;5;28;01mif\u001b[39;00m \u001b[38;5;28mlen\u001b[39m(data) \u001b[38;5;241m!=\u001b[39m \u001b[38;5;28mlen\u001b[39m(index):\n\u001b[0;32m--> 561\u001b[0m     \u001b[38;5;28;01mraise\u001b[39;00m \u001b[38;5;167;01mValueError\u001b[39;00m(\n\u001b[1;32m    562\u001b[0m         \u001b[38;5;124m\"\u001b[39m\u001b[38;5;124mLength of values \u001b[39m\u001b[38;5;124m\"\u001b[39m\n\u001b[1;32m    563\u001b[0m         \u001b[38;5;124mf\u001b[39m\u001b[38;5;124m\"\u001b[39m\u001b[38;5;124m(\u001b[39m\u001b[38;5;132;01m{\u001b[39;00m\u001b[38;5;28mlen\u001b[39m(data)\u001b[38;5;132;01m}\u001b[39;00m\u001b[38;5;124m) \u001b[39m\u001b[38;5;124m\"\u001b[39m\n\u001b[1;32m    564\u001b[0m         \u001b[38;5;124m\"\u001b[39m\u001b[38;5;124mdoes not match length of index \u001b[39m\u001b[38;5;124m\"\u001b[39m\n\u001b[1;32m    565\u001b[0m         \u001b[38;5;124mf\u001b[39m\u001b[38;5;124m\"\u001b[39m\u001b[38;5;124m(\u001b[39m\u001b[38;5;132;01m{\u001b[39;00m\u001b[38;5;28mlen\u001b[39m(index)\u001b[38;5;132;01m}\u001b[39;00m\u001b[38;5;124m)\u001b[39m\u001b[38;5;124m\"\u001b[39m\n\u001b[1;32m    566\u001b[0m     )\n",
      "\u001b[0;31mValueError\u001b[0m: Length of values (2) does not match length of index (1)"
     ]
    }
   ]
  },
  {
   "cell_type": "markdown",
   "source": "These results match the validation error observed during training.",
   "metadata": {
    "id": "DABIVzsCf-QI",
    "cell_id": "00103-6a68c28e-272b-4bd9-8b8e-c2be16a65366",
    "deepnote_cell_type": "markdown"
   }
  },
  {
   "cell_type": "markdown",
   "source": "### Make predictions\n\nYou can now make predictions with the `dnn_model` on the test set using Keras `Model.predict` and review the loss:",
   "metadata": {
    "id": "ft603OzXuEZC",
    "cell_id": "00104-d5bcf3b7-a420-48ba-bb25-fd547d5ba05d",
    "deepnote_cell_type": "markdown"
   }
  },
  {
   "cell_type": "code",
   "metadata": {
    "execution": {
     "iopub.execute_input": "2022-06-16T01:37:57.563016Z",
     "iopub.status.busy": "2022-06-16T01:37:57.562761Z",
     "iopub.status.idle": "2022-06-16T01:37:57.803178Z",
     "shell.execute_reply": "2022-06-16T01:37:57.802305Z"
    },
    "id": "Xe7RXH3N3CWU",
    "cell_id": "00105-2b03fb85-ac04-434c-bf00-ab0971cc18b9",
    "deepnote_to_be_reexecuted": false,
    "source_hash": "3b8314be",
    "execution_start": 1669384984019,
    "execution_millis": 401,
    "deepnote_cell_type": "code"
   },
   "source": "test_predictions = dnn_model.predict(test_features).flatten()\n\na = plt.axes(aspect='equal')\nplt.scatter(test_labels, test_predictions)\nplt.xlabel('True Values [MPG]')\nplt.ylabel('Predictions [MPG]')\nlims = [0, 50]\nplt.xlim(lims)\nplt.ylim(lims)\n_ = plt.plot(lims, lims)\n",
   "execution_count": null,
   "outputs": [
    {
     "name": "stdout",
     "text": "3/3 [==============================] - 0s 2ms/step\n",
     "output_type": "stream"
    },
    {
     "data": {
      "text/plain": "<Figure size 640x480 with 1 Axes>",
      "image/png": "[encoded data removed]"
     },
     "metadata": {
      "image/png": {
       "width": 445,
       "height": 438
      }
     },
     "output_type": "display_data"
    }
   ]
  },
  {
   "cell_type": "markdown",
   "source": "It appears that the model predicts reasonably well.\n\nNow, check the error distribution:",
   "metadata": {
    "id": "19wyogbOSU5t",
    "cell_id": "00106-7feae936-38af-482d-9edd-b18af5e330cf",
    "deepnote_cell_type": "markdown"
   }
  },
  {
   "cell_type": "code",
   "metadata": {
    "execution": {
     "iopub.execute_input": "2022-06-16T01:37:57.808578Z",
     "iopub.status.busy": "2022-06-16T01:37:57.808309Z",
     "iopub.status.idle": "2022-06-16T01:37:57.977360Z",
     "shell.execute_reply": "2022-06-16T01:37:57.976541Z"
    },
    "id": "f-OHX4DiXd8x",
    "cell_id": "00107-08bd5bfe-95bd-4cf4-9e34-13f23654ffa8",
    "deepnote_to_be_reexecuted": false,
    "source_hash": "82a97fb7",
    "execution_start": 1669384986781,
    "execution_millis": 271,
    "deepnote_cell_type": "code"
   },
   "source": "error = test_predictions - test_labels\nplt.hist(error, bins=25)\nplt.xlabel('Prediction Error [MPG]')\n_ = plt.ylabel('Count')",
   "execution_count": null,
   "outputs": [
    {
     "data": {
      "text/plain": "<Figure size 640x480 with 1 Axes>",
      "image/png": "[encoded data removed]"
     },
     "metadata": {
      "image/png": {
       "width": 566,
       "height": 432
      }
     },
     "output_type": "display_data"
    }
   ]
  },
  {
   "cell_type": "markdown",
   "source": "If you're happy with the model, save it for later use with `Model.save`:",
   "metadata": {
    "id": "KSyaHUfDT-mZ",
    "cell_id": "00108-4d36b406-5333-4ca9-9f93-4b68ec310664",
    "deepnote_cell_type": "markdown"
   }
  },
  {
   "cell_type": "code",
   "metadata": {
    "execution": {
     "iopub.execute_input": "2022-06-16T01:37:57.980804Z",
     "iopub.status.busy": "2022-06-16T01:37:57.980546Z",
     "iopub.status.idle": "2022-06-16T01:37:58.883962Z",
     "shell.execute_reply": "2022-06-16T01:37:58.882854Z"
    },
    "id": "4-WwLlmfT-mb",
    "cell_id": "00109-3aac6e44-ffa5-4aa5-afbe-4498378297bd",
    "deepnote_to_be_reexecuted": false,
    "source_hash": "61d8a6e2",
    "execution_start": 1669384991948,
    "execution_millis": 1295,
    "deepnote_cell_type": "code"
   },
   "source": "dnn_model.save('dnn_model')",
   "execution_count": null,
   "outputs": [
    {
     "name": "stdout",
     "text": "INFO:tensorflow:Assets written to: dnn_model/assets\n",
     "output_type": "stream"
    }
   ]
  },
  {
   "cell_type": "markdown",
   "source": "If you reload the model, it gives identical output:",
   "metadata": {
    "id": "Benlnl8UT-me",
    "cell_id": "00110-512ab4d0-dee0-49b2-a021-8e6239c6c02c",
    "deepnote_cell_type": "markdown"
   }
  },
  {
   "cell_type": "code",
   "metadata": {
    "execution": {
     "iopub.execute_input": "2022-06-16T01:37:58.888525Z",
     "iopub.status.busy": "2022-06-16T01:37:58.888155Z",
     "iopub.status.idle": "2022-06-16T01:37:59.318932Z",
     "shell.execute_reply": "2022-06-16T01:37:59.317985Z"
    },
    "id": "dyyyj2zVT-mf",
    "cell_id": "00111-5d34bde9-4a1a-4d7a-9b44-ff2285cb3b76",
    "deepnote_to_be_reexecuted": false,
    "source_hash": "10f1a03f",
    "execution_start": 1669384992958,
    "execution_millis": 534,
    "deepnote_cell_type": "code"
   },
   "source": "reloaded = tf.keras.models.load_model('dnn_model')\n\ntest_results['reloaded'] = reloaded.evaluate(\n    test_features, test_labels, verbose=0)",
   "execution_count": null,
   "outputs": []
  },
  {
   "cell_type": "code",
   "metadata": {
    "cell_id": "6cf16ecbb7114cf38836430c9ad0fd0c",
    "tags": [],
    "deepnote_to_be_reexecuted": false,
    "source_hash": "46882426",
    "execution_start": 1669385735357,
    "execution_millis": 2,
    "deepnote_cell_type": "code"
   },
   "source": "test_results",
   "execution_count": null,
   "outputs": [
    {
     "output_type": "execute_result",
     "execution_count": 57,
     "data": {
      "text/plain": "{'horsepower_model': [3.645879030227661, 0.0],\n 'linear_model': [2.4771716594696045, 0.0],\n 'dnn_horsepower_model': [2.8985066413879395, 0.0],\n 'dnn_model': [1.7101067304611206, 0.0],\n 'reloaded': [1.7101067304611206, 0.0]}"
     },
     "metadata": {}
    }
   ]
  },
  {
   "cell_type": "markdown",
   "source": "## Conclusion\n\nThis notebook introduced a few techniques to handle a regression problem. Here are a few more tips that may help:\n\n- Mean squared error (MSE) (`tf.keras.losses.MeanSquaredError`) and mean absolute error (MAE) (`tf.keras.losses.MeanAbsoluteError`) are common loss functions used for regression problems. MAE is less sensitive to outliers. Different loss functions are used for classification problems.\n- Similarly, evaluation metrics used for regression differ from classification.\n- When numeric input data features have values with different ranges, each feature should be scaled independently to the same range.\n- Overfitting is a common problem for DNN models, though it wasn't a problem for this tutorial. Visit the [Overfit and underfit](overfit_and_underfit.ipynb) tutorial for more help with this.",
   "metadata": {
    "id": "vgGQuV-yqYZH",
    "cell_id": "00113-3347b6a8-e6a3-4bd4-9089-5a279d3d074b",
    "deepnote_cell_type": "markdown"
   }
  },
  {
   "cell_type": "markdown",
   "source": "<a style='text-decoration:none;line-height:16px;display:flex;color:#5B5B62;padding:10px;justify-content:end;' href='https://deepnote.com?utm_source=created-in-deepnote-cell&projectId=8ea8948f-b978-492f-a6dd-8ac5feb4b472' target=\"_blank\">\n<img alt='Created in deepnote.com' style='display:inline;max-height:16px;margin:0px;margin-right:7.5px;' src='data:image/svg+xml;base64,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' > </img>\nCreated in <span style='font-weight:600;margin-left:4px;'>Deepnote</span></a>",
   "metadata": {
    "tags": [],
    "created_in_deepnote_cell": true,
    "deepnote_cell_type": "markdown"
   }
  }
 ],
 "nbformat": 4,
 "nbformat_minor": 0,
 "metadata": {
  "colab": {
   "collapsed_sections": [],
   "name": "regression.ipynb",
   "toc_visible": true
  },
  "kernelspec": {
   "display_name": "Python 3",
   "name": "python3"
  },
  "language_info": {
   "codemirror_mode": {
    "name": "ipython",
    "version": 3
   },
   "file_extension": ".py",
   "mimetype": "text/x-python",
   "name": "python",
   "nbconvert_exporter": "python",
   "pygments_lexer": "ipython3",
   "version": "3.9.13"
  },
  "deepnote_notebook_id": "c4d399ca-9e2b-475c-9683-5f189077fd17",
  "deepnote": {},
  "deepnote_execution_queue": []
 }
}