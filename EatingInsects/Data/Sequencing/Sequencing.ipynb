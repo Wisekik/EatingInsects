{
 "cells": [
  {
   "cell_type": "markdown",
   "source": "## WARNING!\nThis Process takes a very long time and is very memory heavy.",
   "metadata": {
    "cell_id": "2d921351-59b3-4543-93b5-9d225f9569b0",
    "deepnote_cell_type": "markdown",
    "deepnote_cell_height": 108.390625
   }
  },
  {
   "cell_type": "code",
   "metadata": {
    "cell_id": "642ecada-eeb7-455e-9780-ad9f22d681a9",
    "deepnote_to_be_reexecuted": false,
    "execution_millis": 11767,
    "execution_start": 1668691522262,
    "source_hash": "24a46bf4",
    "tags": [],
    "deepnote_cell_type": "code",
    "deepnote_cell_height": 256
   },
   "source": "import pandas as pd\nimport numpy as np\n\n# Make numpy values easier to read.\nnp.set_printoptions(precision=3, suppress=True)\n\nimport tensorflow as tf\nfrom tensorflow.keras import layers\nfrom sklearn.model_selection import train_test_split\n\nfrom IPython.display import clear_output",
   "execution_count": null,
   "outputs": []
  },
  {
   "cell_type": "code",
   "metadata": {
    "cell_id": "00001-2eff2696-69e6-4dd0-8aa9-b1f66dc44c14",
    "deepnote_to_be_reexecuted": false,
    "execution_millis": 40,
    "execution_start": 1668691534036,
    "source_hash": "ceb54204",
    "tags": [],
    "deepnote_cell_type": "code",
    "deepnote_cell_height": 76
   },
   "source": "data = pd.read_csv('../Data/Processed Data/complete_data.csv')",
   "execution_count": null,
   "outputs": []
  },
  {
   "cell_type": "code",
   "metadata": {
    "cell_id": "00002-4bafad65-993a-439a-a082-c18c54ec66fd",
    "deepnote_to_be_reexecuted": false,
    "execution_millis": 32,
    "execution_start": 1668691534087,
    "source_hash": "b42d3c7e",
    "tags": [],
    "deepnote_cell_type": "code",
    "deepnote_cell_height": 94
   },
   "source": "def normalize(col_data):\n    return (col_data - col_data.min())/(col_data.max()-col_data.min())",
   "execution_count": null,
   "outputs": []
  },
  {
   "cell_type": "code",
   "source": "def update_progress(actual, total, clear=True, title=\"Progress\"):\n    bar_length = 100\n\n    progress = (actual / total)\n\n    if isinstance(progress, int):\n        progress = float(progress)\n    if not isinstance(progress, float):\n        progress = 0\n    if progress < 0:\n        progress = 0\n    if progress >= 1:\n        progress = 1\n\n    block = int(round(bar_length * progress))\n\n    if clear:\n        clear_output(wait = True)\n\n    text = \"{0}: [{1}] {2:.1f}%\".format(title, \"#\" * block + \"-\" * (bar_length - block), progress * 100)\n    print(text)",
   "metadata": {
    "cell_id": "00004-759393ff-7060-4210-8a65-68731b1d8568",
    "deepnote_cell_type": "code",
    "deepnote_cell_height": 421
   },
   "execution_count": null,
   "outputs": []
  },
  {
   "cell_type": "code",
   "metadata": {
    "cell_id": "00005-97ed02bf-39e7-4c86-80bb-915aa4161c6d",
    "deepnote_cell_type": "code",
    "deepnote_cell_height": 895.953125
   },
   "source": "if data is None or len(data) <= 0:\n    raise Error(\"Data has not been provided or an empty array has been given.\")\n    \nMAX_ACIDS = 2000\n\nacid_columns = np.arange(0, MAX_ACIDS, 1)\nX = pd.DataFrame([], columns=acid_columns)\ny = pd.DataFrame()\n\nsequences = pd.DataFrame(data['Sequence'], columns=['Sequence'])\ny = pd.DataFrame(data['Solubility(%)'])\n\ntotal_seq = len(sequences)\ni_seq = 0\n\nfor idx, row in sequences.iterrows():\n    sequence = row.iloc[0]\n    \n    total_acid = len(sequence)\n    i_acid = 0\n    \n    amino_acid_arr = np.zeros(MAX_ACIDS)\n    \n    for acid in sequence:\n        acid_num_val = ord(acid)\n        amino_acid_arr[i_acid] = acid_num_val\n        i_acid += 1\n        update_progress(i_seq, total_seq, clear=True, title='Sequences Progress')\n        update_progress(i_acid, total_acid, title=\"Current Sequence Amino Acid Progress\", clear=False)\n    \n    X_dict = dict(zip(acid_columns, amino_acid_arr))\n    \n    X = pd.concat([X, pd.DataFrame([X_dict], columns=acid_columns)], ignore_index=True)\n    i_seq += 1\n    update_progress(i_seq, total_seq, clear=True, title='Sequences Progress')",
   "execution_count": null,
   "outputs": [
    {
     "name": "stderr",
     "output_type": "stream",
     "text": "IOPub message rate exceeded.\nThe Jupyter server will temporarily stop sending output\nto the client in order to avoid crashing it.\nTo change this limit, set the config variable\n`--ServerApp.iopub_msg_rate_limit`.\n\nCurrent values:\nServerApp.iopub_msg_rate_limit=1000.0 (msgs/sec)\nServerApp.rate_limit_window=3.0 (secs)\n\n"
    }
   ]
  },
  {
   "cell_type": "code",
   "metadata": {
    "cell_id": "00006-97d35f3e-2f32-4ec8-8e2b-f4da0c9e5cf4",
    "deepnote_cell_type": "code",
    "deepnote_cell_height": 151
   },
   "source": "# Add Solubility Data to the data\nexport_data = X.copy()\nexport_data['UP_ID'] = pd.DataFrame(data['UP_ID'])\n\n# # Move Solubility as the first column\nexport_data = export_data[ ['UP_ID'] + [ col for col in export_data.columns if col != 'UP_ID' ] ]",
   "execution_count": null,
   "outputs": []
  },
  {
   "cell_type": "code",
   "metadata": {
    "cell_id": "00007-946a6539-28c4-44ac-ae26-2e92fb209ccf",
    "deepnote_cell_type": "code",
    "deepnote_cell_height": 61
   },
   "source": "merged_export_data = data.merge(export_data, how='inner', on='UP_ID')",
   "execution_count": null,
   "outputs": []
  },
  {
   "cell_type": "code",
   "metadata": {
    "cell_id": "00008-b0319f46-bc05-4626-bc0f-4e1897fd9cb9",
    "deepnote_cell_type": "code",
    "deepnote_cell_height": 61
   },
   "source": "merged_export_data.to_csv('sequenced_data.csv', index=False)",
   "execution_count": null,
   "outputs": []
  },
  {
   "cell_type": "markdown",
   "source": "<a style='text-decoration:none;line-height:16px;display:flex;color:#5B5B62;padding:10px;justify-content:end;' href='https://deepnote.com?utm_source=created-in-deepnote-cell&projectId=8ea8948f-b978-492f-a6dd-8ac5feb4b472' target=\"_blank\">\n<img alt='Created in deepnote.com' style='display:inline;max-height:16px;margin:0px;margin-right:7.5px;' src='data:image/svg+xml;base64,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' > </img>\nCreated in <span style='font-weight:600;margin-left:4px;'>Deepnote</span></a>",
   "metadata": {
    "tags": [],
    "created_in_deepnote_cell": true,
    "deepnote_cell_type": "markdown"
   }
  }
 ],
 "nbformat": 4,
 "nbformat_minor": 4,
 "metadata": {
  "deepnote": {},
  "deepnote_execution_queue": [],
  "deepnote_notebook_id": "632ca8c1-4ca9-4bda-a5b5-956e8d98b24b",
  "deepnote_persisted_session": {
   "createdAt": "2022-11-16T21:18:04.611Z"
  },
  "kernelspec": {
   "display_name": "Python 3 (ipykernel)",
   "language": "python",
   "name": "python3"
  },
  "language_info": {
   "codemirror_mode": {
    "name": "ipython",
    "version": 3
   },
   "file_extension": ".py",
   "mimetype": "text/x-python",
   "name": "python",
   "nbconvert_exporter": "python",
   "pygments_lexer": "ipython3",
   "version": "3.10.8"
  }
 }
}