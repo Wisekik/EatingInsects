{
 "cells": [
  {
   "cell_type": "code",
   "execution_count": 72,
   "metadata": {
    "cell_id": "f64a7e9d-abc0-4ff1-92b6-05f5743bc6e0",
    "deepnote_cell_height": 388.933349609375,
    "deepnote_cell_type": "code",
    "deepnote_to_be_reexecuted": false,
    "execution_millis": 4579,
    "execution_start": 1668671814789,
    "source_hash": "24a46bf4",
    "tags": []
   },
   "outputs": [],
   "source": [
    "import pandas as pd\n",
    "import numpy as np\n",
    "\n",
    "# Make numpy values easier to read.\n",
    "np.set_printoptions(precision=3, suppress=True)\n",
    "\n",
    "import tensorflow as tf\n",
    "from tensorflow.keras import layers\n",
    "from sklearn.model_selection import train_test_split"
   ]
  },
  {
   "cell_type": "code",
   "execution_count": 73,
   "metadata": {
    "cell_id": "9bf9523d67304a9f9036fa9e85a46b89",
    "deepnote_cell_height": 75.33332824707031,
    "deepnote_cell_type": "code",
    "deepnote_to_be_reexecuted": false,
    "execution_millis": 73,
    "execution_start": 1668671819881,
    "source_hash": "ceb54204",
    "tags": []
   },
   "outputs": [],
   "source": [
    "data = pd.read_csv('../Data/Sequencing/sequenced_data.csv')"
   ]
  },
  {
   "cell_type": "code",
   "execution_count": 74,
   "metadata": {
    "cell_id": "68ce673b91544ba2bd217256639f9dfd",
    "deepnote_cell_height": 93.33332824707031,
    "deepnote_cell_type": "code",
    "deepnote_to_be_reexecuted": false,
    "execution_millis": 1,
    "execution_start": 1668671820208,
    "source_hash": "b42d3c7e",
    "tags": []
   },
   "outputs": [],
   "source": [
    "def normalize(col_data):\n",
    "    return (col_data - col_data.min())/(col_data.max()-col_data.min())"
   ]
  },
  {
   "cell_type": "code",
   "execution_count": 75,
   "metadata": {},
   "outputs": [],
   "source": [
    "X = data.iloc[:, 29:2029]"
   ]
  },
  {
   "cell_type": "code",
   "execution_count": 76,
   "metadata": {},
   "outputs": [],
   "source": [
    "y = normalize(data.iloc[:, 1:2])"
   ]
  },
  {
   "cell_type": "code",
   "execution_count": 77,
   "metadata": {},
   "outputs": [],
   "source": [
    "X_train, X_test, y_train, y_test = train_test_split(X, y, test_size=0.2, random_state=42)"
   ]
  },
  {
   "cell_type": "code",
   "execution_count": 78,
   "metadata": {},
   "outputs": [
    {
     "name": "stdout",
     "output_type": "stream",
     "text": [
      "Epoch 1/20\n",
      "214/214 [==============================] - 1s 3ms/step - loss: 0.6554 - accuracy: 3.8971e-04\n",
      "Epoch 2/20\n",
      "214/214 [==============================] - 1s 6ms/step - loss: 0.6348 - accuracy: 3.8971e-04\n",
      "Epoch 3/20\n",
      "214/214 [==============================] - 1s 3ms/step - loss: 0.6347 - accuracy: 3.8971e-04\n",
      "Epoch 4/20\n",
      "214/214 [==============================] - 1s 3ms/step - loss: 0.6348 - accuracy: 3.8971e-04\n",
      "Epoch 5/20\n",
      "214/214 [==============================] - 1s 3ms/step - loss: 0.6346 - accuracy: 3.8971e-04\n",
      "Epoch 6/20\n",
      "214/214 [==============================] - 1s 3ms/step - loss: 0.6347 - accuracy: 3.8971e-04\n",
      "Epoch 7/20\n",
      "214/214 [==============================] - 1s 3ms/step - loss: 0.6348 - accuracy: 3.8971e-04\n",
      "Epoch 8/20\n",
      "214/214 [==============================] - 1s 3ms/step - loss: 0.6347 - accuracy: 3.8971e-04\n",
      "Epoch 9/20\n",
      "214/214 [==============================] - 1s 3ms/step - loss: 0.6347 - accuracy: 3.8971e-04\n",
      "Epoch 10/20\n",
      "214/214 [==============================] - 1s 3ms/step - loss: 0.6348 - accuracy: 3.8971e-04\n",
      "Epoch 11/20\n",
      "214/214 [==============================] - 1s 3ms/step - loss: 0.6349 - accuracy: 3.8971e-04\n",
      "Epoch 12/20\n",
      "214/214 [==============================] - 1s 3ms/step - loss: 0.6348 - accuracy: 3.8971e-04\n",
      "Epoch 13/20\n",
      "214/214 [==============================] - 1s 3ms/step - loss: 0.6350 - accuracy: 3.8971e-04\n",
      "Epoch 14/20\n",
      "214/214 [==============================] - 1s 3ms/step - loss: 0.6348 - accuracy: 3.8971e-04\n",
      "Epoch 15/20\n",
      "214/214 [==============================] - 1s 3ms/step - loss: 0.6348 - accuracy: 3.8971e-04\n",
      "Epoch 16/20\n",
      "214/214 [==============================] - 1s 3ms/step - loss: 0.6349 - accuracy: 3.8971e-04\n",
      "Epoch 17/20\n",
      "214/214 [==============================] - 1s 3ms/step - loss: 0.6348 - accuracy: 3.8971e-04\n",
      "Epoch 18/20\n",
      "214/214 [==============================] - 1s 3ms/step - loss: 0.6349 - accuracy: 3.8971e-04\n",
      "Epoch 19/20\n",
      "214/214 [==============================] - 1s 3ms/step - loss: 0.6347 - accuracy: 3.8971e-04\n",
      "Epoch 20/20\n",
      "214/214 [==============================] - 1s 3ms/step - loss: 0.6348 - accuracy: 3.8971e-04\n"
     ]
    }
   ],
   "source": [
    "model = tf.keras.Sequential()\n",
    "model.add(layers.Dense(256, input_dim=2000, activation='relu'))\n",
    "model.add(layers.Dense(256, activation='relu'))\n",
    "model.add(layers.Dense(128, activation='relu'))\n",
    "model.add(layers.Dense(64, activation='relu'))\n",
    "model.add(layers.Dense(8, activation='relu'))\n",
    "model.add(layers.Dense(4, activation='relu'))\n",
    "model.add(layers.Dense(1, activation='sigmoid'))\n",
    "# compile the keras model\n",
    "model.compile(loss='binary_crossentropy',  optimizer=tf.keras.optimizers.Adam(learning_rate=0.01), metrics=['accuracy'])\n",
    "history = model.fit(\n",
    "    X_train,\n",
    "    y_train,\n",
    "    batch_size=12,\n",
    "    epochs=20,\n",
    "    # We pass some validation for\n",
    "    # monitoring validation loss and metrics\n",
    "    # at the end of each epoch\n",
    "    # validation_data=(x_val, y_val),\n",
    ")"
   ]
  },
  {
   "cell_type": "code",
   "execution_count": 81,
   "metadata": {},
   "outputs": [
    {
     "name": "stdout",
     "output_type": "stream",
     "text": [
      "81/81 [==============================] - 0s 2ms/step - loss: 0.6348 - accuracy: 3.8971e-04\n"
     ]
    }
   ],
   "source": [
    "eval_results = model.evaluate(X_train, y_train)"
   ]
  },
  {
   "cell_type": "code",
   "execution_count": 82,
   "metadata": {},
   "outputs": [
    {
     "name": "stdout",
     "output_type": "stream",
     "text": [
      "loss, accuracy [0.6348158717155457, 0.00038971161120571196]\n"
     ]
    }
   ],
   "source": [
    "print(\"loss, accuracy\", eval_results)"
   ]
  },
  {
   "cell_type": "code",
   "execution_count": 40,
   "metadata": {
    "cell_id": "2a7ebbef852b485ebcb5267f1b6c9328",
    "deepnote_cell_height": 530.3333129882812,
    "deepnote_cell_type": "code",
    "deepnote_to_be_reexecuted": false,
    "execution_millis": 18,
    "execution_start": 1668671852842,
    "source_hash": "a97bd95",
    "tags": []
   },
   "outputs": [],
   "source": [
    "def ANN(data):\n",
    "    X = data[['Yield(uM)','Yield(ug/ml)','Calculated MW(kDa)','Calculated pI', 'Sequence length', 'Sequence mass']]\n",
    "    y = data['Solubility(%)']\n",
    "\n",
    "    for column in X.columns:\n",
    "        X[column] = normalize(X[column])\n",
    "\n",
    "    y = normalize(y)\n",
    "\n",
    "    X_train, X_test, y_train, y_test = train_test_split(X, y, test_size=0.2, random_state=42)\n",
    "\n",
    "    model = tf.keras.Sequential([\n",
    "        layers.Dense(64),\n",
    "        layers.Dense(32),\n",
    "        layers.Dense(8),\n",
    "        layers.Dense(1)\n",
    "    ])\n",
    "\n",
    "    model.compile(loss = tf.keras.losses.MeanSquaredError(),\n",
    "    optimizer = tf.keras.optimizers.Adam())\n",
    "\n",
    "    model.fit(X_train, y_train, epochs=25)\n",
    "    evaluation = model.evaluate(X_test, y_test)\n",
    "\n",
    "    return model, evaluation, X_test, y_test\n",
    "    "
   ]
  },
  {
   "cell_type": "code",
   "execution_count": null,
   "metadata": {
    "cell_id": "170b739fc2dc4cb380733d30b7a9d4ab",
    "deepnote_cell_height": 695,
    "deepnote_cell_type": "code",
    "deepnote_to_be_reexecuted": false,
    "execution_millis": 7269,
    "execution_start": 1668671852870,
    "source_hash": "97f4ea3",
    "tags": []
   },
   "outputs": [
    {
     "name": "stdout",
     "output_type": "stream",
     "text": [
      "Epoch 1/25\n",
      "/tmp/ipykernel_99/1743203428.py:6: SettingWithCopyWarning: \n",
      "A value is trying to be set on a copy of a slice from a DataFrame.\n",
      "Try using .loc[row_indexer,col_indexer] = value instead\n",
      "\n",
      "See the caveats in the documentation: https://pandas.pydata.org/pandas-docs/stable/user_guide/indexing.html#returning-a-view-versus-a-copy\n",
      "  X[column] = normalize(X[column])\n",
      "79/79 [==============================] - 1s 3ms/step - loss: 0.0629\n",
      "Epoch 2/25\n",
      "79/79 [==============================] - 0s 3ms/step - loss: 0.0426\n",
      "Epoch 3/25\n",
      "79/79 [==============================] - 0s 3ms/step - loss: 0.0421\n",
      "Epoch 4/25\n",
      "79/79 [==============================] - 0s 4ms/step - loss: 0.0418\n",
      "Epoch 5/25\n",
      "79/79 [==============================] - 0s 3ms/step - loss: 0.0424\n",
      "Epoch 6/25\n",
      "79/79 [==============================] - 0s 3ms/step - loss: 0.0424\n",
      "Epoch 7/25\n",
      "79/79 [==============================] - 0s 3ms/step - loss: 0.0422\n",
      "Epoch 8/25\n",
      "79/79 [==============================] - 0s 3ms/step - loss: 0.0418\n",
      "Epoch 9/25\n",
      "79/79 [==============================] - 0s 3ms/step - loss: 0.0423\n",
      "Epoch 10/25\n",
      "79/79 [==============================] - 0s 4ms/step - loss: 0.0417\n",
      "Epoch 11/25\n",
      "79/79 [==============================] - 0s 3ms/step - loss: 0.0420\n",
      "Epoch 12/25\n",
      "79/79 [==============================] - 0s 4ms/step - loss: 0.0424\n",
      "Epoch 13/25\n",
      "79/79 [==============================] - 0s 3ms/step - loss: 0.0423\n",
      "Epoch 14/25\n",
      "79/79 [==============================] - 0s 3ms/step - loss: 0.0425\n",
      "Epoch 15/25\n",
      "79/79 [==============================] - 0s 3ms/step - loss: 0.0424\n",
      "Epoch 16/25\n",
      "79/79 [==============================] - 0s 3ms/step - loss: 0.0424\n",
      "Epoch 17/25\n",
      "79/79 [==============================] - 0s 4ms/step - loss: 0.0426\n",
      "Epoch 18/25\n",
      "79/79 [==============================] - 0s 3ms/step - loss: 0.0418\n",
      "Epoch 19/25\n",
      "79/79 [==============================] - 0s 3ms/step - loss: 0.0424\n",
      "Epoch 20/25\n",
      "79/79 [==============================] - 0s 3ms/step - loss: 0.0419\n",
      "Epoch 21/25\n",
      "79/79 [==============================] - 0s 3ms/step - loss: 0.0419\n",
      "Epoch 22/25\n",
      "79/79 [==============================] - 0s 3ms/step - loss: 0.0420\n",
      "Epoch 23/25\n",
      "79/79 [==============================] - 0s 3ms/step - loss: 0.0419\n",
      "Epoch 24/25\n",
      "79/79 [==============================] - 0s 3ms/step - loss: 0.0417\n",
      "Epoch 25/25\n",
      "79/79 [==============================] - 0s 2ms/step - loss: 0.0415\n",
      "20/20 [==============================] - 0s 2ms/step - loss: 0.0417\n"
     ]
    }
   ],
   "source": [
    "ann_model, eval_results, X_test, y_test = ANN(data)"
   ]
  },
  {
   "cell_type": "code",
   "execution_count": null,
   "metadata": {
    "cell_id": "d37cc131e949496b847a00373082eba4",
    "deepnote_cell_height": 105.86666870117188,
    "deepnote_cell_type": "code",
    "deepnote_to_be_reexecuted": false,
    "execution_millis": 3,
    "execution_start": 1668671875605,
    "source_hash": "546c4539",
    "tags": []
   },
   "outputs": [
    {
     "name": "stdout",
     "output_type": "stream",
     "text": [
      "loss, accuracy 4.173898324370384 %\n"
     ]
    }
   ],
   "source": [
    "print(\"loss, accuracy\", eval_results * 100, '%')"
   ]
  },
  {
   "cell_type": "code",
   "execution_count": null,
   "metadata": {
    "cell_id": "b4cc2ad78d304895b2a0e1b4fce50896",
    "deepnote_cell_height": 60.33332824707031,
    "deepnote_cell_type": "code",
    "tags": []
   },
   "outputs": [],
   "source": []
  },
  {
   "cell_type": "markdown",
   "metadata": {
    "created_in_deepnote_cell": true,
    "deepnote_cell_type": "markdown",
    "tags": []
   },
   "source": [
    "<a style='text-decoration:none;line-height:16px;display:flex;color:#5B5B62;padding:10px;justify-content:end;' href='https://deepnote.com?utm_source=created-in-deepnote-cell&projectId=8ea8948f-b978-492f-a6dd-8ac5feb4b472' target=\"_blank\">\n",
    "<img alt='Created in deepnote.com' style='display:inline;max-height:16px;margin:0px;margin-right:7.5px;' src='data:image/svg+xml;base64,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' > </img>\n",
    "Created in <span style='font-weight:600;margin-left:4px;'>Deepnote</span></a>"
   ]
  }
 ],
 "metadata": {
  "deepnote": {},
  "deepnote_execution_queue": [],
  "deepnote_notebook_id": "442e4f49-98b6-4548-aab2-a38a608686a7",
  "deepnote_persisted_session": {
   "createdAt": "2022-11-17T10:31:33.807Z"
  },
  "kernelspec": {
   "display_name": "Python 3 (ipykernel)",
   "language": "python",
   "name": "python3"
  },
  "language_info": {
   "codemirror_mode": {
    "name": "ipython",
    "version": 3
   },
   "file_extension": ".py",
   "mimetype": "text/x-python",
   "name": "python",
   "nbconvert_exporter": "python",
   "pygments_lexer": "ipython3",
   "version": "3.10.8"
  }
 },
 "nbformat": 4,
 "nbformat_minor": 4
}
