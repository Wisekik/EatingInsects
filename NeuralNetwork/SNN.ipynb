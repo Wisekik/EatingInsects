{
 "cells": [
  {
   "cell_type": "code",
   "metadata": {
    "tags": [],
    "cell_id": "f64a7e9d-abc0-4ff1-92b6-05f5743bc6e0",
    "deepnote_to_be_reexecuted": false,
    "source_hash": "24a46bf4",
    "execution_start": 1668671814789,
    "execution_millis": 4579,
    "deepnote_cell_type": "code",
    "deepnote_cell_height": 388.933349609375
   },
   "source": "import pandas as pd\nimport numpy as np\n\n# Make numpy values easier to read.\nnp.set_printoptions(precision=3, suppress=True)\n\nimport tensorflow as tf\nfrom tensorflow.keras import layers\nfrom sklearn.model_selection import train_test_split",
   "outputs": [
    {
     "name": "stderr",
     "text": "2022-11-17 07:56:54.792118: I tensorflow/core/platform/cpu_feature_guard.cc:193] This TensorFlow binary is optimized with oneAPI Deep Neural Network Library (oneDNN) to use the following CPU instructions in performance-critical operations:  AVX2 AVX512F FMA\nTo enable them in other operations, rebuild TensorFlow with the appropriate compiler flags.\n2022-11-17 07:56:55.032143: W tensorflow/stream_executor/platform/default/dso_loader.cc:64] Could not load dynamic library 'libcudart.so.11.0'; dlerror: libcudart.so.11.0: cannot open shared object file: No such file or directory\n2022-11-17 07:56:55.032228: I tensorflow/stream_executor/cuda/cudart_stub.cc:29] Ignore above cudart dlerror if you do not have a GPU set up on your machine.\n2022-11-17 07:56:55.089705: E tensorflow/stream_executor/cuda/cuda_blas.cc:2981] Unable to register cuBLAS factory: Attempting to register factory for plugin cuBLAS when one has already been registered\n2022-11-17 07:56:56.590082: W tensorflow/stream_executor/platform/default/dso_loader.cc:64] Could not load dynamic library 'libnvinfer.so.7'; dlerror: libnvinfer.so.7: cannot open shared object file: No such file or directory\n2022-11-17 07:56:56.590162: W tensorflow/stream_executor/platform/default/dso_loader.cc:64] Could not load dynamic library 'libnvinfer_plugin.so.7'; dlerror: libnvinfer_plugin.so.7: cannot open shared object file: No such file or directory\n2022-11-17 07:56:56.590171: W tensorflow/compiler/tf2tensorrt/utils/py_utils.cc:38] TF-TRT Warning: Cannot dlopen some TensorRT libraries. If you would like to use Nvidia GPU with TensorRT, please make sure the missing libraries mentioned above are installed properly.\n",
     "output_type": "stream"
    }
   ],
   "execution_count": null
  },
  {
   "cell_type": "code",
   "source": "data = pd.read_csv('../Data/Processed Data/complete_data.csv')",
   "metadata": {
    "cell_id": "9bf9523d67304a9f9036fa9e85a46b89",
    "tags": [],
    "deepnote_to_be_reexecuted": false,
    "source_hash": "ceb54204",
    "execution_start": 1668671819881,
    "execution_millis": 73,
    "deepnote_cell_type": "code",
    "deepnote_cell_height": 75.33332824707031
   },
   "outputs": [],
   "execution_count": null
  },
  {
   "cell_type": "code",
   "metadata": {
    "cell_id": "68ce673b91544ba2bd217256639f9dfd",
    "tags": [],
    "deepnote_to_be_reexecuted": false,
    "source_hash": "b42d3c7e",
    "execution_start": 1668671820208,
    "execution_millis": 1,
    "deepnote_cell_type": "code",
    "deepnote_cell_height": 93.33332824707031
   },
   "source": "def normalize(col_data):\n    return (col_data - col_data.min())/(col_data.max()-col_data.min())",
   "outputs": [],
   "execution_count": null
  },
  {
   "cell_type": "code",
   "source": "def ANN(data):\n    X = data[['Yield(uM)','Yield(ug/ml)','Calculated MW(kDa)','Calculated pI', 'Sequence length', 'Sequence mass']]\n    y = data['Solubility(%)']\n\n    for column in X.columns:\n        X[column] = normalize(X[column])\n\n    y = normalize(y)\n\n    X_train, X_test, y_train, y_test = train_test_split(X, y, test_size=0.2, random_state=42)\n\n    model = tf.keras.Sequential([\n        layers.Dense(64),\n        layers.Dense(32),\n        layers.Dense(8),\n        layers.Dense(1)\n    ])\n\n    model.compile(loss = tf.keras.losses.MeanSquaredError(),\n    optimizer = tf.keras.optimizers.Adam())\n\n    model.fit(X_train, y_train, epochs=25)\n    evaluation = model.evaluate(X_test, y_test)\n\n    return model, evaluation, X_test, y_test\n    ",
   "metadata": {
    "cell_id": "2a7ebbef852b485ebcb5267f1b6c9328",
    "tags": [],
    "deepnote_to_be_reexecuted": false,
    "source_hash": "a97bd95",
    "execution_start": 1668671852842,
    "execution_millis": 18,
    "deepnote_cell_type": "code",
    "deepnote_cell_height": 530.3333129882812
   },
   "outputs": [],
   "execution_count": null
  },
  {
   "cell_type": "code",
   "metadata": {
    "cell_id": "170b739fc2dc4cb380733d30b7a9d4ab",
    "tags": [],
    "deepnote_to_be_reexecuted": false,
    "source_hash": "97f4ea3",
    "execution_start": 1668671852870,
    "execution_millis": 7269,
    "deepnote_cell_type": "code",
    "deepnote_cell_height": 695
   },
   "source": "ann_model, eval_results, X_test, y_test = ANN(data)",
   "outputs": [
    {
     "name": "stdout",
     "text": "Epoch 1/25\n/tmp/ipykernel_99/1743203428.py:6: SettingWithCopyWarning: \nA value is trying to be set on a copy of a slice from a DataFrame.\nTry using .loc[row_indexer,col_indexer] = value instead\n\nSee the caveats in the documentation: https://pandas.pydata.org/pandas-docs/stable/user_guide/indexing.html#returning-a-view-versus-a-copy\n  X[column] = normalize(X[column])\n79/79 [==============================] - 1s 3ms/step - loss: 0.0629\nEpoch 2/25\n79/79 [==============================] - 0s 3ms/step - loss: 0.0426\nEpoch 3/25\n79/79 [==============================] - 0s 3ms/step - loss: 0.0421\nEpoch 4/25\n79/79 [==============================] - 0s 4ms/step - loss: 0.0418\nEpoch 5/25\n79/79 [==============================] - 0s 3ms/step - loss: 0.0424\nEpoch 6/25\n79/79 [==============================] - 0s 3ms/step - loss: 0.0424\nEpoch 7/25\n79/79 [==============================] - 0s 3ms/step - loss: 0.0422\nEpoch 8/25\n79/79 [==============================] - 0s 3ms/step - loss: 0.0418\nEpoch 9/25\n79/79 [==============================] - 0s 3ms/step - loss: 0.0423\nEpoch 10/25\n79/79 [==============================] - 0s 4ms/step - loss: 0.0417\nEpoch 11/25\n79/79 [==============================] - 0s 3ms/step - loss: 0.0420\nEpoch 12/25\n79/79 [==============================] - 0s 4ms/step - loss: 0.0424\nEpoch 13/25\n79/79 [==============================] - 0s 3ms/step - loss: 0.0423\nEpoch 14/25\n79/79 [==============================] - 0s 3ms/step - loss: 0.0425\nEpoch 15/25\n79/79 [==============================] - 0s 3ms/step - loss: 0.0424\nEpoch 16/25\n79/79 [==============================] - 0s 3ms/step - loss: 0.0424\nEpoch 17/25\n79/79 [==============================] - 0s 4ms/step - loss: 0.0426\nEpoch 18/25\n79/79 [==============================] - 0s 3ms/step - loss: 0.0418\nEpoch 19/25\n79/79 [==============================] - 0s 3ms/step - loss: 0.0424\nEpoch 20/25\n79/79 [==============================] - 0s 3ms/step - loss: 0.0419\nEpoch 21/25\n79/79 [==============================] - 0s 3ms/step - loss: 0.0419\nEpoch 22/25\n79/79 [==============================] - 0s 3ms/step - loss: 0.0420\nEpoch 23/25\n79/79 [==============================] - 0s 3ms/step - loss: 0.0419\nEpoch 24/25\n79/79 [==============================] - 0s 3ms/step - loss: 0.0417\nEpoch 25/25\n79/79 [==============================] - 0s 2ms/step - loss: 0.0415\n20/20 [==============================] - 0s 2ms/step - loss: 0.0417\n",
     "output_type": "stream"
    }
   ],
   "execution_count": null
  },
  {
   "cell_type": "code",
   "source": "print(\"loss, accuracy\", eval_results * 100, '%')",
   "metadata": {
    "cell_id": "d37cc131e949496b847a00373082eba4",
    "tags": [],
    "deepnote_to_be_reexecuted": false,
    "source_hash": "546c4539",
    "execution_start": 1668671875605,
    "execution_millis": 3,
    "deepnote_cell_type": "code",
    "deepnote_cell_height": 105.86666870117188
   },
   "outputs": [
    {
     "name": "stdout",
     "text": "loss, accuracy 4.173898324370384 %\n",
     "output_type": "stream"
    }
   ],
   "execution_count": null
  },
  {
   "cell_type": "code",
   "metadata": {
    "cell_id": "b4cc2ad78d304895b2a0e1b4fce50896",
    "tags": [],
    "deepnote_cell_type": "code",
    "deepnote_cell_height": 60.33332824707031
   },
   "source": "",
   "execution_count": null,
   "outputs": []
  },
  {
   "cell_type": "markdown",
   "source": "<a style='text-decoration:none;line-height:16px;display:flex;color:#5B5B62;padding:10px;justify-content:end;' href='https://deepnote.com?utm_source=created-in-deepnote-cell&projectId=8ea8948f-b978-492f-a6dd-8ac5feb4b472' target=\"_blank\">\n<img alt='Created in deepnote.com' style='display:inline;max-height:16px;margin:0px;margin-right:7.5px;' src='data:image/svg+xml;base64,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' > </img>\nCreated in <span style='font-weight:600;margin-left:4px;'>Deepnote</span></a>",
   "metadata": {
    "tags": [],
    "created_in_deepnote_cell": true,
    "deepnote_cell_type": "markdown"
   }
  }
 ],
 "nbformat": 4,
 "nbformat_minor": 2,
 "metadata": {
  "orig_nbformat": 2,
  "deepnote": {},
  "deepnote_notebook_id": "442e4f49-98b6-4548-aab2-a38a608686a7",
  "deepnote_persisted_session": {
   "createdAt": "2022-11-17T10:31:33.807Z"
  },
  "deepnote_execution_queue": []
 }
}