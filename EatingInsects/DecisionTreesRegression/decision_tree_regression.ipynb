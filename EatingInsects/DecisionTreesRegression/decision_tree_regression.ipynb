{
 "cells": [
  {
   "cell_type": "code",
   "execution_count": 140,
   "metadata": {},
   "outputs": [],
   "source": [
    "import numpy as np \n",
    "import matplotlib.pyplot as plt\n",
    "import pandas as pd \n",
    "from sklearn import metrics\n",
    "from sklearn.tree import DecisionTreeRegressor \n",
    "from sklearn.model_selection import train_test_split"
   ]
  },
  {
   "cell_type": "code",
   "execution_count": 152,
   "metadata": {},
   "outputs": [],
   "source": [
    "def normalize(col_data):\n",
    "    return (col_data - col_data.min())/(col_data.max()-col_data.min())"
   ]
  },
  {
   "cell_type": "code",
   "execution_count": 173,
   "metadata": {},
   "outputs": [],
   "source": [
    "data = pd.read_csv('../Data/Processed Data/usable_data.csv')\n",
    "y = data.iloc[:,0:1]\n",
    "X = data.drop('Solubility(%)', axis=1)"
   ]
  },
  {
   "cell_type": "code",
   "execution_count": 161,
   "metadata": {},
   "outputs": [],
   "source": [
    "for column in X:\n",
    "    X[column] = normalize(X[column])\n",
    "X = round(X,2)"
   ]
  },
  {
   "cell_type": "code",
   "execution_count": 162,
   "metadata": {},
   "outputs": [],
   "source": [
    "y = round(normalize(y),2)"
   ]
  },
  {
   "cell_type": "code",
   "execution_count": 163,
   "metadata": {},
   "outputs": [],
   "source": [
    "X_train, X_test, y_train, y_test = train_test_split(X, y, test_size=0.2, random_state=42)"
   ]
  },
  {
   "cell_type": "code",
   "execution_count": 147,
   "metadata": {},
   "outputs": [
    {
     "data": {
      "text/html": [
       "<div>\n",
       "<style scoped>\n",
       "    .dataframe tbody tr th:only-of-type {\n",
       "        vertical-align: middle;\n",
       "    }\n",
       "\n",
       "    .dataframe tbody tr th {\n",
       "        vertical-align: top;\n",
       "    }\n",
       "\n",
       "    .dataframe thead th {\n",
       "        text-align: right;\n",
       "    }\n",
       "</style>\n",
       "<table border=\"1\" class=\"dataframe\">\n",
       "  <thead>\n",
       "    <tr style=\"text-align: right;\">\n",
       "      <th></th>\n",
       "      <th>Sequence length</th>\n",
       "      <th>Sequence mass</th>\n",
       "      <th>Steric parameter</th>\n",
       "      <th>Polarizability</th>\n",
       "      <th>Volume</th>\n",
       "      <th>Hydrophobicity</th>\n",
       "      <th>Helix probability</th>\n",
       "      <th>Sheet probability</th>\n",
       "    </tr>\n",
       "  </thead>\n",
       "  <tbody>\n",
       "    <tr>\n",
       "      <th>0</th>\n",
       "      <td>310</td>\n",
       "      <td>33624</td>\n",
       "      <td>2.089581</td>\n",
       "      <td>0.140290</td>\n",
       "      <td>3.172129</td>\n",
       "      <td>0.435258</td>\n",
       "      <td>0.295806</td>\n",
       "      <td>0.295581</td>\n",
       "    </tr>\n",
       "    <tr>\n",
       "      <th>1</th>\n",
       "      <td>428</td>\n",
       "      <td>47114</td>\n",
       "      <td>2.142336</td>\n",
       "      <td>0.144322</td>\n",
       "      <td>3.282336</td>\n",
       "      <td>0.409650</td>\n",
       "      <td>0.299463</td>\n",
       "      <td>0.293995</td>\n",
       "    </tr>\n",
       "    <tr>\n",
       "      <th>2</th>\n",
       "      <td>98</td>\n",
       "      <td>11355</td>\n",
       "      <td>2.175204</td>\n",
       "      <td>0.159694</td>\n",
       "      <td>3.623469</td>\n",
       "      <td>0.334082</td>\n",
       "      <td>0.279184</td>\n",
       "      <td>0.291837</td>\n",
       "    </tr>\n",
       "    <tr>\n",
       "      <th>3</th>\n",
       "      <td>258</td>\n",
       "      <td>29586</td>\n",
       "      <td>2.180078</td>\n",
       "      <td>0.157519</td>\n",
       "      <td>3.555426</td>\n",
       "      <td>0.358450</td>\n",
       "      <td>0.298837</td>\n",
       "      <td>0.293372</td>\n",
       "    </tr>\n",
       "    <tr>\n",
       "      <th>4</th>\n",
       "      <td>317</td>\n",
       "      <td>35219</td>\n",
       "      <td>2.165868</td>\n",
       "      <td>0.148644</td>\n",
       "      <td>3.336120</td>\n",
       "      <td>0.345615</td>\n",
       "      <td>0.306751</td>\n",
       "      <td>0.295079</td>\n",
       "    </tr>\n",
       "    <tr>\n",
       "      <th>...</th>\n",
       "      <td>...</td>\n",
       "      <td>...</td>\n",
       "      <td>...</td>\n",
       "      <td>...</td>\n",
       "      <td>...</td>\n",
       "      <td>...</td>\n",
       "      <td>...</td>\n",
       "      <td>...</td>\n",
       "    </tr>\n",
       "    <tr>\n",
       "      <th>3147</th>\n",
       "      <td>113</td>\n",
       "      <td>12866</td>\n",
       "      <td>2.110354</td>\n",
       "      <td>0.155841</td>\n",
       "      <td>3.467434</td>\n",
       "      <td>0.370973</td>\n",
       "      <td>0.282832</td>\n",
       "      <td>0.292301</td>\n",
       "    </tr>\n",
       "    <tr>\n",
       "      <th>3148</th>\n",
       "      <td>89</td>\n",
       "      <td>10585</td>\n",
       "      <td>2.305169</td>\n",
       "      <td>0.168652</td>\n",
       "      <td>3.790899</td>\n",
       "      <td>0.313034</td>\n",
       "      <td>0.283483</td>\n",
       "      <td>0.308539</td>\n",
       "    </tr>\n",
       "    <tr>\n",
       "      <th>3149</th>\n",
       "      <td>83</td>\n",
       "      <td>9272</td>\n",
       "      <td>2.150723</td>\n",
       "      <td>0.146506</td>\n",
       "      <td>3.322530</td>\n",
       "      <td>0.395904</td>\n",
       "      <td>0.295542</td>\n",
       "      <td>0.297108</td>\n",
       "    </tr>\n",
       "    <tr>\n",
       "      <th>3150</th>\n",
       "      <td>154</td>\n",
       "      <td>17446</td>\n",
       "      <td>2.250130</td>\n",
       "      <td>0.151818</td>\n",
       "      <td>3.439221</td>\n",
       "      <td>0.406299</td>\n",
       "      <td>0.272597</td>\n",
       "      <td>0.308701</td>\n",
       "    </tr>\n",
       "    <tr>\n",
       "      <th>3151</th>\n",
       "      <td>128</td>\n",
       "      <td>13612</td>\n",
       "      <td>2.266406</td>\n",
       "      <td>0.133125</td>\n",
       "      <td>3.060469</td>\n",
       "      <td>0.358047</td>\n",
       "      <td>0.293359</td>\n",
       "      <td>0.308672</td>\n",
       "    </tr>\n",
       "  </tbody>\n",
       "</table>\n",
       "<p>3152 rows × 8 columns</p>\n",
       "</div>"
      ],
      "text/plain": [
       "      Sequence length  Sequence mass  Steric parameter  Polarizability  \\\n",
       "0                 310          33624          2.089581        0.140290   \n",
       "1                 428          47114          2.142336        0.144322   \n",
       "2                  98          11355          2.175204        0.159694   \n",
       "3                 258          29586          2.180078        0.157519   \n",
       "4                 317          35219          2.165868        0.148644   \n",
       "...               ...            ...               ...             ...   \n",
       "3147              113          12866          2.110354        0.155841   \n",
       "3148               89          10585          2.305169        0.168652   \n",
       "3149               83           9272          2.150723        0.146506   \n",
       "3150              154          17446          2.250130        0.151818   \n",
       "3151              128          13612          2.266406        0.133125   \n",
       "\n",
       "        Volume  Hydrophobicity  Helix probability  Sheet probability  \n",
       "0     3.172129        0.435258           0.295806           0.295581  \n",
       "1     3.282336        0.409650           0.299463           0.293995  \n",
       "2     3.623469        0.334082           0.279184           0.291837  \n",
       "3     3.555426        0.358450           0.298837           0.293372  \n",
       "4     3.336120        0.345615           0.306751           0.295079  \n",
       "...        ...             ...                ...                ...  \n",
       "3147  3.467434        0.370973           0.282832           0.292301  \n",
       "3148  3.790899        0.313034           0.283483           0.308539  \n",
       "3149  3.322530        0.395904           0.295542           0.297108  \n",
       "3150  3.439221        0.406299           0.272597           0.308701  \n",
       "3151  3.060469        0.358047           0.293359           0.308672  \n",
       "\n",
       "[3152 rows x 8 columns]"
      ]
     },
     "execution_count": 147,
     "metadata": {},
     "output_type": "execute_result"
    }
   ],
   "source": [
    "X"
   ]
  },
  {
   "cell_type": "code",
   "execution_count": 164,
   "metadata": {},
   "outputs": [
    {
     "data": {
      "text/plain": [
       "DecisionTreeRegressor(min_samples_leaf=10, random_state=0)"
      ]
     },
     "execution_count": 164,
     "metadata": {},
     "output_type": "execute_result"
    }
   ],
   "source": [
    "# create a regressor object\n",
    "regressor = DecisionTreeRegressor(random_state = 0, min_samples_leaf=15) \n",
    "  \n",
    "# fit the regressor with X and Y data\n",
    "regressor.fit(X_train, y_train)"
   ]
  },
  {
   "cell_type": "code",
   "execution_count": 170,
   "metadata": {},
   "outputs": [
    {
     "name": "stdout",
     "output_type": "stream",
     "text": [
      "mean squared error : 0.020133261515771085\n"
     ]
    }
   ],
   "source": [
    "predictions = regressor.predict(X_train)\n",
    "print(\"mean squared error :\",metrics.mean_squared_error(y_train, predictions))"
   ]
  },
  {
   "cell_type": "code",
   "execution_count": 172,
   "metadata": {},
   "outputs": [
    {
     "name": "stdout",
     "output_type": "stream",
     "text": [
      "mean squared error : 0.03707900007930828\n"
     ]
    }
   ],
   "source": [
    "predictions = regressor.predict(X_test)\n",
    "print(\"mean squared error :\",metrics.mean_squared_error(y_test, predictions))"
   ]
  },
  {
   "cell_type": "code",
   "execution_count": 168,
   "metadata": {},
   "outputs": [
    {
     "name": "stdout",
     "output_type": "stream",
     "text": [
      "0.3230769230769231\n"
     ]
    },
    {
     "data": {
      "text/plain": [
       "Solubility(%)    0.34\n",
       "Name: 2359, dtype: float64"
      ]
     },
     "execution_count": 168,
     "metadata": {},
     "output_type": "execute_result"
    }
   ],
   "source": [
    "print(predictions[2])\n",
    "y_test.iloc[2]"
   ]
  }
 ],
 "metadata": {
  "kernelspec": {
   "display_name": "Python 3.9.0 64-bit",
   "language": "python",
   "name": "python3"
  },
  "language_info": {
   "codemirror_mode": {
    "name": "ipython",
    "version": 3
   },
   "file_extension": ".py",
   "mimetype": "text/x-python",
   "name": "python",
   "nbconvert_exporter": "python",
   "pygments_lexer": "ipython3",
   "version": "3.9.0"
  },
  "orig_nbformat": 4,
  "vscode": {
   "interpreter": {
    "hash": "aee8b7b246df8f9039afb4144a1f6fd8d2ca17a180786b69acc140d282b71a49"
   }
  }
 },
 "nbformat": 4,
 "nbformat_minor": 2
}
