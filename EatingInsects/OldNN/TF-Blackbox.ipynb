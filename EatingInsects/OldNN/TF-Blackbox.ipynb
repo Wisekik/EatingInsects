{
 "cells": [
  {
   "cell_type": "code",
   "metadata": {
    "tags": [],
    "cell_id": "df5d4fe8-3f80-419e-9d26-74405a099507",
    "deepnote_to_be_reexecuted": false,
    "source_hash": "24a46bf4",
    "execution_start": 1668602373519,
    "execution_millis": 0,
    "deepnote_cell_type": "code",
    "deepnote_cell_height": 219.3333282470703
   },
   "source": "import pandas as pd\nimport numpy as np\n\n# Make numpy values easier to read.\nnp.set_printoptions(precision=3, suppress=True)\n\nimport tensorflow as tf\nfrom tensorflow.keras import layers\nfrom sklearn.model_selection import train_test_split",
   "execution_count": null,
   "outputs": []
  },
  {
   "cell_type": "code",
   "metadata": {
    "cell_id": "a1f0a3b43758454cbdcd5d018b87191b",
    "tags": [],
    "deepnote_to_be_reexecuted": false,
    "source_hash": "361e676d",
    "execution_start": 1668602373942,
    "execution_millis": 8,
    "deepnote_cell_type": "code",
    "deepnote_cell_height": 75.33332824707031
   },
   "source": "data = pd.read_csv('complete_esol_uniprot_data.csv')",
   "execution_count": null,
   "outputs": []
  },
  {
   "cell_type": "code",
   "metadata": {
    "cell_id": "36c82fb50e244e179f4e2f60096571f1",
    "tags": [],
    "deepnote_to_be_reexecuted": false,
    "source_hash": "75c3860b",
    "execution_start": 1668602374787,
    "execution_millis": 3,
    "deepnote_cell_type": "code",
    "deepnote_cell_height": 98.33332824707031
   },
   "source": "X = data[['Yield(uM)','Yield(ug/ml)','Calculated MW(kDa)','Calculated pI', 'Sequence length', 'Sequence mass']]\ny = data['Solubility(%)']",
   "execution_count": null,
   "outputs": []
  },
  {
   "cell_type": "code",
   "metadata": {
    "cell_id": "be9336bd66124af49a564a2ec9bd95e1",
    "tags": [],
    "deepnote_to_be_reexecuted": false,
    "source_hash": "b42d3c7e",
    "execution_start": 1668602375543,
    "execution_millis": 1,
    "deepnote_cell_type": "code",
    "deepnote_cell_height": 93.33332824707031
   },
   "source": "def normalize(col_data):\n    return (col_data - col_data.min())/(col_data.max()-col_data.min())",
   "execution_count": null,
   "outputs": []
  },
  {
   "cell_type": "code",
   "metadata": {
    "cell_id": "08476223459f4e60a5999b5fb3dd9d55",
    "tags": [],
    "deepnote_to_be_reexecuted": false,
    "source_hash": "674e8419",
    "execution_start": 1668602376299,
    "execution_millis": 181,
    "deepnote_cell_type": "code",
    "deepnote_cell_height": 259.20001220703125
   },
   "source": "for column in reversed(X.columns):\n    X[column] = normalize(X[column])\n\ny = normalize(y)",
   "execution_count": null,
   "outputs": [
    {
     "name": "stderr",
     "text": "/tmp/ipykernel_770/4084632487.py:2: SettingWithCopyWarning: \nA value is trying to be set on a copy of a slice from a DataFrame.\nTry using .loc[row_indexer,col_indexer] = value instead\n\nSee the caveats in the documentation: https://pandas.pydata.org/pandas-docs/stable/user_guide/indexing.html#returning-a-view-versus-a-copy\n  X[column] = normalize(X[column])\n",
     "output_type": "stream"
    }
   ]
  },
  {
   "cell_type": "code",
   "metadata": {
    "cell_id": "5cba67ac918248468518c6f5bfae43dc",
    "tags": [],
    "deepnote_to_be_reexecuted": false,
    "source_hash": "26d9c02a",
    "execution_start": 1668602377624,
    "execution_millis": 4,
    "deepnote_cell_type": "code",
    "deepnote_cell_height": 75.33332824707031
   },
   "source": "X_train, X_test, y_train, y_test = train_test_split(X, y, test_size=0.2, random_state=42)",
   "execution_count": null,
   "outputs": []
  },
  {
   "cell_type": "code",
   "metadata": {
    "cell_id": "747c733f470b4a27b6a3b13887a12edb",
    "tags": [],
    "deepnote_to_be_reexecuted": false,
    "source_hash": "d41c369d",
    "execution_start": 1668602713988,
    "execution_millis": 0,
    "deepnote_cell_type": "code",
    "deepnote_cell_height": 237.3333282470703
   },
   "source": "model = tf.keras.Sequential([\n    layers.Dense(64),\n    layers.Dense(32),\n    layers.Dense(16),\n    layers.Dense(8),\n    layers.Dense(1)\n])\n\nmodel.compile(loss = tf.keras.losses.MeanSquaredError(),\noptimizer = tf.keras.optimizers.Adam())",
   "execution_count": null,
   "outputs": []
  },
  {
   "cell_type": "code",
   "metadata": {
    "cell_id": "fdf315ce50bc4dffa48006544179ec03",
    "tags": [],
    "deepnote_to_be_reexecuted": false,
    "source_hash": "7d6294a4",
    "execution_start": 1668602717076,
    "execution_millis": 2158,
    "deepnote_cell_type": "code",
    "deepnote_cell_height": 745.6666870117188,
    "deepnote_output_heights": [
     null,
     20
    ]
   },
   "source": "model.fit(X_train, y_train, epochs=25)",
   "execution_count": null,
   "outputs": [
    {
     "name": "stdout",
     "text": "Epoch 1/25\n33/33 [==============================] - 0s 935us/step - loss: 0.1085\nEpoch 2/25\n33/33 [==============================] - 0s 915us/step - loss: 0.0570\nEpoch 3/25\n33/33 [==============================] - 0s 3ms/step - loss: 0.0492\nEpoch 4/25\n33/33 [==============================] - 0s 3ms/step - loss: 0.0465\nEpoch 5/25\n33/33 [==============================] - 0s 876us/step - loss: 0.0478\nEpoch 6/25\n33/33 [==============================] - 0s 3ms/step - loss: 0.0467\nEpoch 7/25\n33/33 [==============================] - 0s 3ms/step - loss: 0.0463\nEpoch 8/25\n33/33 [==============================] - 0s 894us/step - loss: 0.0464\nEpoch 9/25\n33/33 [==============================] - 0s 3ms/step - loss: 0.0473\nEpoch 10/25\n33/33 [==============================] - 0s 2ms/step - loss: 0.0457\nEpoch 11/25\n33/33 [==============================] - 0s 1ms/step - loss: 0.0457\nEpoch 12/25\n33/33 [==============================] - 0s 3ms/step - loss: 0.0487\nEpoch 13/25\n33/33 [==============================] - 0s 3ms/step - loss: 0.0468\nEpoch 14/25\n33/33 [==============================] - 0s 866us/step - loss: 0.0466\nEpoch 15/25\n33/33 [==============================] - 0s 3ms/step - loss: 0.0468\nEpoch 16/25\n33/33 [==============================] - 0s 2ms/step - loss: 0.0464\nEpoch 17/25\n33/33 [==============================] - 0s 887us/step - loss: 0.0465\nEpoch 18/25\n33/33 [==============================] - 0s 3ms/step - loss: 0.0463\nEpoch 19/25\n33/33 [==============================] - 0s 3ms/step - loss: 0.0463\nEpoch 20/25\n33/33 [==============================] - 0s 892us/step - loss: 0.0459\nEpoch 21/25\n33/33 [==============================] - 0s 3ms/step - loss: 0.0472\nEpoch 22/25\n33/33 [==============================] - 0s 3ms/step - loss: 0.0473\nEpoch 23/25\n33/33 [==============================] - 0s 1ms/step - loss: 0.0466\nEpoch 24/25\n33/33 [==============================] - 0s 1ms/step - loss: 0.0462\nEpoch 25/25\n33/33 [==============================] - 0s 3ms/step - loss: 0.0457\n",
     "output_type": "stream"
    },
    {
     "output_type": "execute_result",
     "execution_count": 65,
     "data": {
      "text/plain": "<keras.callbacks.History at 0x7f6e075cb130>"
     },
     "metadata": {}
    }
   ]
  },
  {
   "cell_type": "code",
   "metadata": {
    "cell_id": "a50aad6022a54d6fb5dbd92157950ee9",
    "tags": [],
    "deepnote_to_be_reexecuted": false,
    "source_hash": "3e049367",
    "execution_start": 1668602722617,
    "execution_millis": 143,
    "deepnote_cell_type": "code",
    "deepnote_cell_height": 105.86666870117188
   },
   "source": "evaluation = model.evaluate(X_test, y_test)",
   "execution_count": null,
   "outputs": [
    {
     "name": "stdout",
     "text": "9/9 [==============================] - 0s 918us/step - loss: 0.0425\n",
     "output_type": "stream"
    }
   ]
  },
  {
   "cell_type": "code",
   "metadata": {
    "cell_id": "091560c8b96549c7b2d37bf68f70d3a1",
    "tags": [],
    "deepnote_to_be_reexecuted": false,
    "source_hash": "545ace7b",
    "execution_start": 1668602723815,
    "execution_millis": 2,
    "deepnote_cell_type": "code",
    "deepnote_cell_height": 105.86666870117188
   },
   "source": "print(\"loss, accuracy\", evaluation)",
   "execution_count": null,
   "outputs": [
    {
     "name": "stdout",
     "text": "loss, accuracy 0.042479630559682846\n",
     "output_type": "stream"
    }
   ]
  },
  {
   "cell_type": "code",
   "metadata": {
    "cell_id": "3fa771c8440d4b66817dca916776464d",
    "tags": [],
    "deepnote_cell_type": "code",
    "deepnote_cell_height": 60.33332824707031
   },
   "source": "",
   "execution_count": null,
   "outputs": []
  },
  {
   "cell_type": "markdown",
   "source": "<a style='text-decoration:none;line-height:16px;display:flex;color:#5B5B62;padding:10px;justify-content:end;' href='https://deepnote.com?utm_source=created-in-deepnote-cell&projectId=8ea8948f-b978-492f-a6dd-8ac5feb4b472' target=\"_blank\">\n<img alt='Created in deepnote.com' style='display:inline;max-height:16px;margin:0px;margin-right:7.5px;' src='data:image/svg+xml;base64,PD94bWwgdmVyc2lvbj0iMS4wIiBlbmNvZGluZz0iVVRGLTgiPz4KPHN2ZyB3aWR0aD0iODBweCIgaGVpZ2h0PSI4MHB4IiB2aWV3Qm94PSIwIDAgODAgODAiIHZlcnNpb249IjEuMSIgeG1sbnM9Imh0dHA6Ly93d3cudzMub3JnLzIwMDAvc3ZnIiB4bWxuczp4bGluaz0iaHR0cDovL3d3dy53My5vcmcvMTk5OS94bGluayI+CiAgICA8IS0tIEdlbmVyYXRvcjogU2tldGNoIDU0LjEgKDc2NDkwKSAtIGh0dHBzOi8vc2tldGNoYXBwLmNvbSAtLT4KICAgIDx0aXRsZT5Hcm91cCAzPC90aXRsZT4KICAgIDxkZXNjPkNyZWF0ZWQgd2l0aCBTa2V0Y2guPC9kZXNjPgogICAgPGcgaWQ9IkxhbmRpbmciIHN0cm9rZT0ibm9uZSIgc3Ryb2tlLXdpZHRoPSIxIiBmaWxsPSJub25lIiBmaWxsLXJ1bGU9ImV2ZW5vZGQiPgogICAgICAgIDxnIGlkPSJBcnRib2FyZCIgdHJhbnNmb3JtPSJ0cmFuc2xhdGUoLTEyMzUuMDAwMDAwLCAtNzkuMDAwMDAwKSI+CiAgICAgICAgICAgIDxnIGlkPSJHcm91cC0zIiB0cmFuc2Zvcm09InRyYW5zbGF0ZSgxMjM1LjAwMDAwMCwgNzkuMDAwMDAwKSI+CiAgICAgICAgICAgICAgICA8cG9seWdvbiBpZD0iUGF0aC0yMCIgZmlsbD0iIzAyNjVCNCIgcG9pbnRzPSIyLjM3NjIzNzYyIDgwIDM4LjA0NzY2NjcgODAgNTcuODIxNzgyMiA3My44MDU3NTkyIDU3LjgyMTc4MjIgMzIuNzU5MjczOSAzOS4xNDAyMjc4IDMxLjY4MzE2ODMiPjwvcG9seWdvbj4KICAgICAgICAgICAgICAgIDxwYXRoIGQ9Ik0zNS4wMDc3MTgsODAgQzQyLjkwNjIwMDcsNzYuNDU0OTM1OCA0Ny41NjQ5MTY3LDcxLjU0MjI2NzEgNDguOTgzODY2LDY1LjI2MTk5MzkgQzUxLjExMjI4OTksNTUuODQxNTg0MiA0MS42NzcxNzk1LDQ5LjIxMjIyODQgMjUuNjIzOTg0Niw0OS4yMTIyMjg0IEMyNS40ODQ5Mjg5LDQ5LjEyNjg0NDggMjkuODI2MTI5Niw0My4yODM4MjQ4IDM4LjY0NzU4NjksMzEuNjgzMTY4MyBMNzIuODcxMjg3MSwzMi41NTQ0MjUgTDY1LjI4MDk3Myw2Ny42NzYzNDIxIEw1MS4xMTIyODk5LDc3LjM3NjE0NCBMMzUuMDA3NzE4LDgwIFoiIGlkPSJQYXRoLTIyIiBmaWxsPSIjMDAyODY4Ij48L3BhdGg+CiAgICAgICAgICAgICAgICA8cGF0aCBkPSJNMCwzNy43MzA0NDA1IEwyNy4xMTQ1MzcsMC4yNTcxMTE0MzYgQzYyLjM3MTUxMjMsLTEuOTkwNzE3MDEgODAsMTAuNTAwMzkyNyA4MCwzNy43MzA0NDA1IEM4MCw2NC45NjA0ODgyIDY0Ljc3NjUwMzgsNzkuMDUwMzQxNCAzNC4zMjk1MTEzLDgwIEM0Ny4wNTUzNDg5LDc3LjU2NzA4MDggNTMuNDE4MjY3Nyw3MC4zMTM2MTAzIDUzLjQxODI2NzcsNTguMjM5NTg4NSBDNTMuNDE4MjY3Nyw0MC4xMjg1NTU3IDM2LjMwMzk1NDQsMzcuNzMwNDQwNSAyNS4yMjc0MTcsMzcuNzMwNDQwNSBDMTcuODQzMDU4NiwzNy43MzA0NDA1IDkuNDMzOTE5NjYsMzcuNzMwNDQwNSAwLDM3LjczMDQ0MDUgWiIgaWQ9IlBhdGgtMTkiIGZpbGw9IiMzNzkzRUYiPjwvcGF0aD4KICAgICAgICAgICAgPC9nPgogICAgICAgIDwvZz4KICAgIDwvZz4KPC9zdmc+' > </img>\nCreated in <span style='font-weight:600;margin-left:4px;'>Deepnote</span></a>",
   "metadata": {
    "tags": [],
    "created_in_deepnote_cell": true,
    "deepnote_cell_type": "markdown"
   }
  }
 ],
 "nbformat": 4,
 "nbformat_minor": 2,
 "metadata": {
  "orig_nbformat": 2,
  "deepnote": {},
  "deepnote_notebook_id": "8a34c625-1151-4829-b407-9656b534f479",
  "deepnote_execution_queue": []
 }
}